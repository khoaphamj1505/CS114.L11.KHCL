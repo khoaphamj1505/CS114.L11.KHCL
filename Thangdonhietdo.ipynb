{
  "nbformat": 4,
  "nbformat_minor": 0,
  "metadata": {
    "colab": {
      "name": "Untitled1.ipynb",
      "provenance": [],
      "authorship_tag": "ABX9TyMEt2ZQBUpa2blMnoAxTlmn",
      "include_colab_link": true
    },
    "kernelspec": {
      "name": "python3",
      "display_name": "Python 3"
    }
  },
  "cells": [
    {
      "cell_type": "markdown",
      "metadata": {
        "id": "view-in-github",
        "colab_type": "text"
      },
      "source": [
        "<a href=\"https://colab.research.google.com/github/khoaphamj1505/CS114.L11.KHCL/blob/master/Thangdonhietdo.ipynb\" target=\"_parent\"><img src=\"https://colab.research.google.com/assets/colab-badge.svg\" alt=\"Open In Colab\"/></a>"
      ]
    },
    {
      "cell_type": "code",
      "metadata": {
        "id": "J1h_fB0bV8NP"
      },
      "source": [
        ""
      ],
      "execution_count": null,
      "outputs": []
    },
    {
      "cell_type": "markdown",
      "metadata": {
        "id": "w9O38pJaV98C"
      },
      "source": [
        "**Bài 1: Thang đo nhiệt độ KFC**\n",
        "\n",
        "Đề: Bình vừa mua xách tay một cái nhiệt kế hồng ngoại cực xịn cực chính xác chỉ mỗi tội nó hiển thị nhiệt độ theo thang đo độ F - Farenheit. Hãy giúp Bình đổi qua độ C - Celsius và độ K - \n",
        "* Code\n",
        "\n",
        "\n",
        "\n"
      ]
    },
    {
      "cell_type": "code",
      "metadata": {
        "id": "mFx00SrxXFwq"
      },
      "source": [
        "from decimal import*\n",
        "F=float(input())\n",
        "getcontext().prec=6\n",
        "C=(F-32)/1.8\n",
        "K=C+273.15\n",
        "print(Decimal(C).normalize(),Decimal(K).normalize())"
      ],
      "execution_count": 3,
      "outputs": []
    },
    {
      "cell_type": "markdown",
      "metadata": {
        "id": "-GS6KuzQXkOI"
      },
      "source": [
        "* Bình Luận:\n",
        "Sử dụng các công thức để đổi từ F sang C và K\n",
        "* Chú thích: \n",
        "Để Output gồm 6 chữ số nên dùng Thư viên Decimal. Có thể xem chi tiết tại link sau: https://docs.python.org/2/library/decimal.html"
      ]
    },
    {
      "cell_type": "code",
      "metadata": {
        "id": "zOmr5RZsXt8Y"
      },
      "source": [
        ""
      ],
      "execution_count": null,
      "outputs": []
    }
  ]
}