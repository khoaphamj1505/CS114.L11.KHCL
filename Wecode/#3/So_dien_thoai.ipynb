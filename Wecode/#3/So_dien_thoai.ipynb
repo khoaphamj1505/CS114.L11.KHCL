{
  "nbformat": 4,
  "nbformat_minor": 0,
  "metadata": {
    "colab": {
      "name": "Wecode/#3/",
      "provenance": [],
      "authorship_tag": "ABX9TyMb84KfRIitF0CIAg9agrJi",
      "include_colab_link": true
    },
    "kernelspec": {
      "name": "python3",
      "display_name": "Python 3"
    }
  },
  "cells": [
    {
      "cell_type": "markdown",
      "metadata": {
        "id": "view-in-github",
        "colab_type": "text"
      },
      "source": [
        "<a href=\"https://colab.research.google.com/github/khoaphamj1505/CS114.L11.KHCL/blob/master/Wecode/%233/So_dien_thoai.ipynb\" target=\"_parent\"><img src=\"https://colab.research.google.com/assets/colab-badge.svg\" alt=\"Open In Colab\"/></a>"
      ]
    },
    {
      "cell_type": "markdown",
      "metadata": {
        "id": "3Zu3Dfx5XhmP"
      },
      "source": [
        "**Bài 3: SỐ ĐIỆN THOẠI**\n",
        "\n",
        "Đề: Một dãy số là một số điện thoại nếu dãy số đó gồm 11 số có dạng \"8xxxxxxxxxxx\", với x là những số ngẫu nhiên từ 0 đến 9. Ví dụ \"80123456789\" và \"80000000000\" là số điện thoại. Trong khi \"8012345678\" và \"79000000000\" thì không phải.\n",
        "\n",
        "Bạn có \n",
        "n\n",
        " thẻ bài, mỗi thẻ bài được đánh số ngẫu nhiên từ 0 đến 9. Nhiệm vụ của bạn là sắp xếp chúng thành những dãy số điện thoại.\n",
        "\n",
        "INPUT:\n",
        "\n",
        "Dòng đầu tiên là một số nguyên \n",
        "n\n",
        " \n",
        "(\n",
        "1\n",
        "≤\n",
        "n\n",
        "≤\n",
        "1000\n",
        ")\n",
        " — số lượng thẻ bài.\n",
        "\n",
        "Dòng thứ hai ghi chuỗi \n",
        "n\n",
        " chữ số \n",
        "a\n",
        "1\n",
        ",\n",
        "a\n",
        "2\n",
        ",\n",
        ".\n",
        ".\n",
        ".\n",
        ",\n",
        "a\n",
        "n\n",
        " \n",
        "(\n",
        "0\n",
        "≤\n",
        "a\n",
        "i\n",
        "≤\n",
        "9\n",
        ")\n",
        " — số được đánh trên thẻ bài (Các chữ số viết liền nhau)\n",
        "\n",
        "OUTPUT:\n",
        "\n",
        "In ra màn hình số lượng tối đa số điện thoại có thể xếp được.\n",
        "\n",
        "Code:"
      ]
    },
    {
      "cell_type": "code",
      "metadata": {
        "id": "Fw6tG9iOXv1e",
        "outputId": "6498b9b9-8065-4a59-ff06-34397bcbaf16",
        "colab": {
          "base_uri": "https://localhost:8080/"
        }
      },
      "source": [
        "n = int(input())\n",
        "a= input()\n",
        "phonenumber = len(a)//11\n",
        "countnumber8 = a.count('8')\n",
        "if len(a) < 11 or countnumber8 == 0:\n",
        "  print(0)\n",
        "else:\n",
        "  if phonenumber < countnumber8:\n",
        "    print(phonenumber)\n",
        "  else: print(countnumber8)"
      ],
      "execution_count": 1,
      "outputs": [
        {
          "output_type": "stream",
          "text": [
            "22\n",
            "8832569875123654986512\n",
            "2\n"
          ],
          "name": "stdout"
        }
      ]
    },
    {
      "cell_type": "markdown",
      "metadata": {
        "id": "V-s_hs21uV4U"
      },
      "source": [
        "* Bình luận:\n",
        "  - điều kiện:Số lượng số sẽ chia hết cho 11 và trong số lượng số 8 phải lớn hơn 0 và < số lượng số điện thoại\n",
        "  - kết quả là số lượng số 8 trong dãy\n",
        "\n"
      ]
    }
  ]
}