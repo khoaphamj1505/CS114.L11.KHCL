{
  "nbformat": 4,
  "nbformat_minor": 0,
  "metadata": {
    "accelerator": "GPU",
    "colab": {
      "name": "Train_model.ipynb",
      "provenance": [],
      "collapsed_sections": [],
      "include_colab_link": true
    },
    "kernelspec": {
      "display_name": "Python 3",
      "name": "python3"
    }
  },
  "cells": [
    {
      "cell_type": "markdown",
      "metadata": {
        "id": "view-in-github",
        "colab_type": "text"
      },
      "source": [
        "<a href=\"https://colab.research.google.com/github/khoaphamj1505/CS114.L11.KHCL/blob/master/Train_model.ipynb\" target=\"_parent\"><img src=\"https://colab.research.google.com/assets/colab-badge.svg\" alt=\"Open In Colab\"/></a>"
      ]
    },
    {
      "cell_type": "code",
      "metadata": {
        "colab": {
          "base_uri": "https://localhost:8080/"
        },
        "id": "gzJIjqk1ScLL",
        "outputId": "955c8adf-2dc6-4ff3-bffd-548e01a77fd4"
      },
      "source": [
        "from google.colab import drive\r\n",
        "drive.mount('/content/gdrive')"
      ],
      "execution_count": null,
      "outputs": [
        {
          "output_type": "stream",
          "text": [
            "Mounted at /content/gdrive\n"
          ],
          "name": "stdout"
        }
      ]
    },
    {
      "cell_type": "code",
      "metadata": {
        "colab": {
          "base_uri": "https://localhost:8080/",
          "height": 35
        },
        "id": "7j3IXj2bSlL0",
        "outputId": "624fc354-a46f-4a9c-8f13-81783426175d"
      },
      "source": [
        "import os\r\n",
        "os.chdir('/content/gdrive/MyDrive/AIChallenge2020')\r\n",
        "os.getcwd()"
      ],
      "execution_count": null,
      "outputs": [
        {
          "output_type": "execute_result",
          "data": {
            "application/vnd.google.colaboratory.intrinsic+json": {
              "type": "string"
            },
            "text/plain": [
              "'/content/gdrive/MyDrive/AIChallenge2020'"
            ]
          },
          "metadata": {
            "tags": []
          },
          "execution_count": 3
        }
      ]
    },
    {
      "cell_type": "code",
      "metadata": {
        "id": "yKZz7yQPTk3e"
      },
      "source": [
        "#git_clone về drive\r\n",
        "!git clone https://github.com/AlexeyAB/darknet.git"
      ],
      "execution_count": null,
      "outputs": []
    },
    {
      "cell_type": "code",
      "metadata": {
        "colab": {
          "base_uri": "https://localhost:8080/"
        },
        "id": "E3r6mypaTU_L",
        "outputId": "bc26126f-3468-4093-9c3b-e90c61bf05ff"
      },
      "source": [
        "!pwd"
      ],
      "execution_count": null,
      "outputs": [
        {
          "output_type": "stream",
          "text": [
            "/content/gdrive/MyDrive/AIChallenge2020\n"
          ],
          "name": "stdout"
        }
      ]
    },
    {
      "cell_type": "code",
      "metadata": {
        "colab": {
          "base_uri": "https://localhost:8080/"
        },
        "id": "Y_nsmXr7TaZN",
        "outputId": "65a26f8a-7350-49ff-f038-d14dc5a115a2"
      },
      "source": [
        "%cd darknet"
      ],
      "execution_count": null,
      "outputs": [
        {
          "output_type": "stream",
          "text": [
            "/content/gdrive/MyDrive/AI Challenge 2020/darknet\n"
          ],
          "name": "stdout"
        }
      ]
    },
    {
      "cell_type": "code",
      "metadata": {
        "id": "eMLqszFFT-_W"
      },
      "source": [
        "!unzip dataset.zip"
      ],
      "execution_count": null,
      "outputs": []
    },
    {
      "cell_type": "code",
      "metadata": {
        "colab": {
          "base_uri": "https://localhost:8080/"
        },
        "id": "HDpMxpm24ZSW",
        "outputId": "dd6fb451-6b55-4798-c977-cc49628a8fb6"
      },
      "source": [
        "%cd .."
      ],
      "execution_count": null,
      "outputs": [
        {
          "output_type": "stream",
          "text": [
            "/content/gdrive/My Drive/AI Challenge 2020/darknet\n"
          ],
          "name": "stdout"
        }
      ]
    },
    {
      "cell_type": "code",
      "metadata": {
        "colab": {
          "base_uri": "https://localhost:8080/"
        },
        "id": "EtuS0KAa41cr",
        "outputId": "f2265404-99a5-4006-b5f3-afa48b75a641"
      },
      "source": [
        "!pwd"
      ],
      "execution_count": null,
      "outputs": [
        {
          "output_type": "stream",
          "text": [
            "/content/gdrive/My Drive/AI Challenge 2020/darknet\n"
          ],
          "name": "stdout"
        }
      ]
    },
    {
      "cell_type": "code",
      "metadata": {
        "id": "mpBq_QxP42-K"
      },
      "source": [
        "#split train valid\r\n",
        "import glob2\r\n",
        "import math  \r\n",
        "import os\r\n",
        "import numpy as np\r\n",
        "\r\n",
        "files = []\r\n",
        "for ext in [\"*.png\", \"*.jpeg\", \"*.jpg\"]:\r\n",
        "  image_files = glob2.glob(os.path.join(\"data/dataset/\", ext))\r\n",
        "  files += image_files\r\n",
        "\r\n",
        "nb_val = math.floor(len(files)*0.2)\r\n",
        "rand_idx = np.random.randint(0, len(files), nb_val)\r\n",
        "\r\n",
        "# Tạo file train.txt\r\n",
        "with open(\"train.txt\", \"w\") as f:\r\n",
        "  for idx in np.arange(len(files)):\r\n",
        "    if (os.path.exists(files[idx][:-3] + \"txt\")):\r\n",
        "      f.write(files[idx]+'\\n')\r\n",
        "\r\n",
        "# Tạo file vali.txt\r\n",
        "with open(\"val.txt\", \"w\") as f:\r\n",
        "  for idx in np.arange(len(files)):\r\n",
        "    if (idx in rand_idx) and (os.path.exists(files[idx][:-3] + \"txt\")):\r\n",
        "      f.write(files[idx]+'\\n')"
      ],
      "execution_count": null,
      "outputs": []
    },
    {
      "cell_type": "code",
      "metadata": {
        "id": "ndTCstva5fIt"
      },
      "source": [
        "!make clean"
      ],
      "execution_count": null,
      "outputs": []
    },
    {
      "cell_type": "code",
      "metadata": {
        "id": "C4uonBMY5pmV"
      },
      "source": [
        "!make"
      ],
      "execution_count": null,
      "outputs": []
    },
    {
      "cell_type": "code",
      "metadata": {
        "id": "XbUR1kxZ6CMu"
      },
      "source": [
        "# Create obj.names config file\r\n",
        "!echo UIT > obj.names\r\n",
        "!echo HSV >> obj.names\r\n",
        "!echo CS >> obj.names\r\n",
        "!echo CE >> obj.names\r\n",
        "!echo SE >> obj.names\r\n",
        "!echo ISE >> obj.names"
      ],
      "execution_count": null,
      "outputs": []
    },
    {
      "cell_type": "code",
      "metadata": {
        "id": "bdNjQS-F6vye"
      },
      "source": [
        "# Config obj.data config file\r\n",
        "!echo classes=6 > obj.data\r\n",
        "!echo train=train.txt >> obj.data\r\n",
        "!echo valid=val.txt >> obj.data\r\n",
        "!echo names=obj.names >> obj.data\r\n",
        "!echo backup=backup >> obj.data"
      ],
      "execution_count": null,
      "outputs": []
    },
    {
      "cell_type": "code",
      "metadata": {
        "id": "YPOOSgB77rN6"
      },
      "source": [
        "!wget https://github.com/AlexeyAB/darknet/releases/download/darknet_yolo_v3_optimal/yolov4.conv.137"
      ],
      "execution_count": null,
      "outputs": []
    },
    {
      "cell_type": "code",
      "metadata": {
        "id": "uB6Qmjdu7yyW"
      },
      "source": [
        "# Train\r\n",
        "!./darknet detector train obj.data cfg/yolov4.cfg yolov4.conv.137 -dont_show"
      ],
      "execution_count": null,
      "outputs": []
    },
    {
      "cell_type": "code",
      "metadata": {
        "id": "O2p-yPK5-QTV"
      },
      "source": [
        "# Train_continue\r\n",
        "!./darknet detector train obj.data cfg/yolov4.cfg backup/yolov4_last.weights -dont_show"
      ],
      "execution_count": null,
      "outputs": []
    }
  ]
}