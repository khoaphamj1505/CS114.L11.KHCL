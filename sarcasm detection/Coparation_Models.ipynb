{
  "nbformat": 4,
  "nbformat_minor": 0,
  "metadata": {
    "colab": {
      "name": "Coparation_Models.ipynb",
      "provenance": [],
      "collapsed_sections": [],
      "toc_visible": true,
      "include_colab_link": true
    },
    "kernelspec": {
      "display_name": "Python 3",
      "name": "python3"
    }
  },
  "cells": [
    {
      "cell_type": "markdown",
      "metadata": {
        "id": "view-in-github",
        "colab_type": "text"
      },
      "source": [
        "<a href=\"https://colab.research.google.com/github/khoaphamj1505/CS114.L11.KHCL/blob/master/sarcasm%20detection/Coparation_Models.ipynb\" target=\"_parent\"><img src=\"https://colab.research.google.com/assets/colab-badge.svg\" alt=\"Open In Colab\"/></a>"
      ]
    },
    {
      "cell_type": "markdown",
      "metadata": {
        "id": "Blg1aPxpJ6cv"
      },
      "source": [
        "## IMPORT THƯ VIỆN"
      ]
    },
    {
      "cell_type": "code",
      "metadata": {
        "id": "sIfsv3xZyirp"
      },
      "source": [
        "import pandas as pd\n",
        "import time\n",
        "\n",
        "from sklearn.model_selection import train_test_split \n",
        "from sklearn.feature_extraction.text import TfidfVectorizer\n",
        "\n",
        "from sklearn.svm import LinearSVC, SVC\n",
        "from sklearn.tree import DecisionTreeClassifier\n",
        "from sklearn.naive_bayes import BernoulliNB, GaussianNB, MultinomialNB, ComplementNB, CategoricalNB\n",
        "from sklearn.metrics import confusion_matrix,  ConfusionMatrixDisplay, classification_report"
      ],
      "execution_count": null,
      "outputs": []
    },
    {
      "cell_type": "markdown",
      "metadata": {
        "id": "LdQ5uh0OKDt9"
      },
      "source": [
        "## UPLOAD VÀ ĐỌC DATA"
      ]
    },
    {
      "cell_type": "code",
      "metadata": {
        "id": "e8LSPBD00h_k",
        "colab": {
          "base_uri": "https://localhost:8080/",
          "height": 195
        },
        "outputId": "4d935529-a607-49d4-f4ff-79c1b0b07242"
      },
      "source": [
        "# Load và đọc dữ liệu từ files\n",
        "df1 = pd.read_json(\"https://raw.githubusercontent.com/khoaphamj1505/CS114.L11.KHCL/master/sarcasm%20detection/Sarcasm_Headlines_Dataset.json\", lines=True)\n",
        "df1.head()"
      ],
      "execution_count": null,
      "outputs": [
        {
          "output_type": "execute_result",
          "data": {
            "text/html": [
              "<div>\n",
              "<style scoped>\n",
              "    .dataframe tbody tr th:only-of-type {\n",
              "        vertical-align: middle;\n",
              "    }\n",
              "\n",
              "    .dataframe tbody tr th {\n",
              "        vertical-align: top;\n",
              "    }\n",
              "\n",
              "    .dataframe thead th {\n",
              "        text-align: right;\n",
              "    }\n",
              "</style>\n",
              "<table border=\"1\" class=\"dataframe\">\n",
              "  <thead>\n",
              "    <tr style=\"text-align: right;\">\n",
              "      <th></th>\n",
              "      <th>article_link</th>\n",
              "      <th>headline</th>\n",
              "      <th>is_sarcastic</th>\n",
              "    </tr>\n",
              "  </thead>\n",
              "  <tbody>\n",
              "    <tr>\n",
              "      <th>0</th>\n",
              "      <td>https://www.huffingtonpost.com/entry/versace-b...</td>\n",
              "      <td>former versace store clerk sues over secret 'b...</td>\n",
              "      <td>0</td>\n",
              "    </tr>\n",
              "    <tr>\n",
              "      <th>1</th>\n",
              "      <td>https://www.huffingtonpost.com/entry/roseanne-...</td>\n",
              "      <td>the 'roseanne' revival catches up to our thorn...</td>\n",
              "      <td>0</td>\n",
              "    </tr>\n",
              "    <tr>\n",
              "      <th>2</th>\n",
              "      <td>https://local.theonion.com/mom-starting-to-fea...</td>\n",
              "      <td>mom starting to fear son's web series closest ...</td>\n",
              "      <td>1</td>\n",
              "    </tr>\n",
              "    <tr>\n",
              "      <th>3</th>\n",
              "      <td>https://politics.theonion.com/boehner-just-wan...</td>\n",
              "      <td>boehner just wants wife to listen, not come up...</td>\n",
              "      <td>1</td>\n",
              "    </tr>\n",
              "    <tr>\n",
              "      <th>4</th>\n",
              "      <td>https://www.huffingtonpost.com/entry/jk-rowlin...</td>\n",
              "      <td>j.k. rowling wishes snape happy birthday in th...</td>\n",
              "      <td>0</td>\n",
              "    </tr>\n",
              "  </tbody>\n",
              "</table>\n",
              "</div>"
            ],
            "text/plain": [
              "                                        article_link  ... is_sarcastic\n",
              "0  https://www.huffingtonpost.com/entry/versace-b...  ...            0\n",
              "1  https://www.huffingtonpost.com/entry/roseanne-...  ...            0\n",
              "2  https://local.theonion.com/mom-starting-to-fea...  ...            1\n",
              "3  https://politics.theonion.com/boehner-just-wan...  ...            1\n",
              "4  https://www.huffingtonpost.com/entry/jk-rowlin...  ...            0\n",
              "\n",
              "[5 rows x 3 columns]"
            ]
          },
          "metadata": {
            "tags": []
          },
          "execution_count": 2
        }
      ]
    },
    {
      "cell_type": "code",
      "metadata": {
        "colab": {
          "base_uri": "https://localhost:8080/",
          "height": 195
        },
        "id": "v47REBYBBSXI",
        "outputId": "dc6fffbd-e684-46cf-b07a-4b245485d47d"
      },
      "source": [
        "# Load và đọc dữ liệu từ files \n",
        "df2 = pd.read_json(\"https://raw.githubusercontent.com/khoaphamj1505/CS114.L11.KHCL/master/sarcasm%20detection/Sarcasm_Headlines_Dataset_v2.json\", lines=True)\n",
        "df2.head()"
      ],
      "execution_count": null,
      "outputs": [
        {
          "output_type": "execute_result",
          "data": {
            "text/html": [
              "<div>\n",
              "<style scoped>\n",
              "    .dataframe tbody tr th:only-of-type {\n",
              "        vertical-align: middle;\n",
              "    }\n",
              "\n",
              "    .dataframe tbody tr th {\n",
              "        vertical-align: top;\n",
              "    }\n",
              "\n",
              "    .dataframe thead th {\n",
              "        text-align: right;\n",
              "    }\n",
              "</style>\n",
              "<table border=\"1\" class=\"dataframe\">\n",
              "  <thead>\n",
              "    <tr style=\"text-align: right;\">\n",
              "      <th></th>\n",
              "      <th>is_sarcastic</th>\n",
              "      <th>headline</th>\n",
              "      <th>article_link</th>\n",
              "    </tr>\n",
              "  </thead>\n",
              "  <tbody>\n",
              "    <tr>\n",
              "      <th>0</th>\n",
              "      <td>1</td>\n",
              "      <td>thirtysomething scientists unveil doomsday clo...</td>\n",
              "      <td>https://www.theonion.com/thirtysomething-scien...</td>\n",
              "    </tr>\n",
              "    <tr>\n",
              "      <th>1</th>\n",
              "      <td>0</td>\n",
              "      <td>dem rep. totally nails why congress is falling...</td>\n",
              "      <td>https://www.huffingtonpost.com/entry/donna-edw...</td>\n",
              "    </tr>\n",
              "    <tr>\n",
              "      <th>2</th>\n",
              "      <td>0</td>\n",
              "      <td>eat your veggies: 9 deliciously different recipes</td>\n",
              "      <td>https://www.huffingtonpost.com/entry/eat-your-...</td>\n",
              "    </tr>\n",
              "    <tr>\n",
              "      <th>3</th>\n",
              "      <td>1</td>\n",
              "      <td>inclement weather prevents liar from getting t...</td>\n",
              "      <td>https://local.theonion.com/inclement-weather-p...</td>\n",
              "    </tr>\n",
              "    <tr>\n",
              "      <th>4</th>\n",
              "      <td>1</td>\n",
              "      <td>mother comes pretty close to using word 'strea...</td>\n",
              "      <td>https://www.theonion.com/mother-comes-pretty-c...</td>\n",
              "    </tr>\n",
              "  </tbody>\n",
              "</table>\n",
              "</div>"
            ],
            "text/plain": [
              "   is_sarcastic  ...                                       article_link\n",
              "0             1  ...  https://www.theonion.com/thirtysomething-scien...\n",
              "1             0  ...  https://www.huffingtonpost.com/entry/donna-edw...\n",
              "2             0  ...  https://www.huffingtonpost.com/entry/eat-your-...\n",
              "3             1  ...  https://local.theonion.com/inclement-weather-p...\n",
              "4             1  ...  https://www.theonion.com/mother-comes-pretty-c...\n",
              "\n",
              "[5 rows x 3 columns]"
            ]
          },
          "metadata": {
            "tags": []
          },
          "execution_count": 3
        }
      ]
    },
    {
      "cell_type": "markdown",
      "metadata": {
        "id": "1jOUy9--KeuI"
      },
      "source": [
        "\r\n",
        "## CHIA DATA"
      ]
    },
    {
      "cell_type": "code",
      "metadata": {
        "id": "WC-yMG1KKYYm"
      },
      "source": [
        "# Phân chia trường dữ liệu ngẫu nhiên \n",
        "X1_train, X1_test, Y1_train, Y1_test=train_test_split(df1['headline'], df1['is_sarcastic'], random_state=100) \n",
        "X2_train, X2_test, Y2_train, Y2_test = train_test_split(df2['headline'], df2['is_sarcastic'], random_state=100)"
      ],
      "execution_count": null,
      "outputs": []
    },
    {
      "cell_type": "code",
      "metadata": {
        "id": "gEq3nuApLKKb"
      },
      "source": [
        "# Nối 2 files dữ liệu gồm các trường sau khi đã phân chia\n",
        "X_train=pd.concat([X1_train, X2_train], ignore_index=True)\n",
        "X_test=pd.concat([X1_test,X2_test], ignore_index=True)\n",
        "Y_train=pd.concat([Y1_train,Y2_train], ignore_index=True)\n",
        "Y_test=pd.concat([Y1_test, Y2_test], ignore_index=True)"
      ],
      "execution_count": null,
      "outputs": []
    },
    {
      "cell_type": "markdown",
      "metadata": {
        "id": "VsFsfBuVKxlV"
      },
      "source": [
        "## LỌC VÀ CHUẨN HÓA DỮ LIỆU"
      ]
    },
    {
      "cell_type": "code",
      "metadata": {
        "id": "lCUGxi6VNkZw"
      },
      "source": [
        "# Dùng hàm Tf-idf để chuẩn hóa dữ liệu chữ tiếng Anh sang vector với tối đa 3000 features, viết thường, lọc các stop_word và tính xác suất xuất hiện 3 từ sau 1 từ\n",
        "vectorizer = TfidfVectorizer(max_features=3000, stop_words='english', ngram_range=(1,3))\n",
        "X_train=vectorizer.fit_transform(X_train) # Fit dữ liệu dữ liệu train cho hàm \n",
        "X_test=vectorizer.transform(X_test) # Chuẩn hóa dữ liệu test về ma trận"
      ],
      "execution_count": null,
      "outputs": []
    },
    {
      "cell_type": "markdown",
      "metadata": {
        "id": "GdN-DRZDKnb4"
      },
      "source": [
        "## TRAINING VÀ ĐÁNH GIÁ MODEL"
      ]
    },
    {
      "cell_type": "markdown",
      "metadata": {
        "id": "Gh3QN3E5Eljv"
      },
      "source": [
        "## Naive Bayes"
      ]
    },
    {
      "cell_type": "markdown",
      "metadata": {
        "id": "UYn0MNlSyTqG"
      },
      "source": [
        "### Multinomial Naive Bayes"
      ]
    },
    {
      "cell_type": "code",
      "metadata": {
        "colab": {
          "base_uri": "https://localhost:8080/",
          "height": 279
        },
        "id": "5EofVE57yYF1",
        "outputId": "04ffe93a-4b6d-4686-d895-5634f5106204"
      },
      "source": [
        "t0=time.clock()  # Gọi hàm thời gian hiện tại\r\n",
        "MNB = MultinomialNB().fit(X_train.toarray(), Y_train) # Gọi model, fit dữ liệu cho model và chuyển đổi dữ liệu train về kiểu numpy\r\n",
        "Y_pred=MNB.predict(X_test.toarray()) # Gọi hàm predict cho model với dữ liệu test thuộc kiểu numpy\r\n",
        "t1=time.clock()  # Gọi hàm thời gian hiện tại\r\n",
        "cm=confusion_matrix(Y_test, Y_pred) # Gọi hàm tính Confusion Matrix\r\n",
        "cm_display=ConfusionMatrixDisplay(cm, display_labels=[0, 1]).plot(values_format=\"d\") # Gọi hàm vẽ hình Confusion Matrix với các labels tương ứng và đặt chuẩn hiển thị số cho Confusion Matrix"
      ],
      "execution_count": null,
      "outputs": [
        {
          "output_type": "display_data",
          "data": {
            "image/png": "[encoded data removed]",
            "text/plain": [
              "<Figure size 432x288 with 2 Axes>"
            ]
          },
          "metadata": {
            "tags": [],
            "needs_background": "light"
          }
        }
      ]
    },
    {
      "cell_type": "code",
      "metadata": {
        "colab": {
          "base_uri": "https://localhost:8080/"
        },
        "id": "7L4MzrQgyaSq",
        "outputId": "c443a857-d630-4ef9-bf8c-f999462af5c7"
      },
      "source": [
        "print(classification_report(Y_test, Y_pred, labels=[0, 1])) # Xuất ra bảng tính toán các giá trị liên quan đến độ chính xác của model"
      ],
      "execution_count": null,
      "outputs": [
        {
          "output_type": "stream",
          "text": [
            "              precision    recall  f1-score   support\n",
            "\n",
            "           0       0.79      0.83      0.81      7527\n",
            "           1       0.79      0.74      0.76      6306\n",
            "\n",
            "    accuracy                           0.79     13833\n",
            "   macro avg       0.79      0.79      0.79     13833\n",
            "weighted avg       0.79      0.79      0.79     13833\n",
            "\n"
          ],
          "name": "stdout"
        }
      ]
    },
    {
      "cell_type": "code",
      "metadata": {
        "colab": {
          "base_uri": "https://localhost:8080/"
        },
        "id": "RwQJUM5W7T_0",
        "outputId": "d62ba211-3444-4850-847a-c5493af2b3da"
      },
      "source": [
        "print(t1-t0) # Xuất ra khoảng thời gian để train và predict của model"
      ],
      "execution_count": null,
      "outputs": [
        {
          "output_type": "stream",
          "text": [
            "0.7539730000000002\n"
          ],
          "name": "stdout"
        }
      ]
    },
    {
      "cell_type": "markdown",
      "metadata": {
        "id": "qZfClPo01sIy"
      },
      "source": [
        "### Complement Naive Bayes"
      ]
    },
    {
      "cell_type": "code",
      "metadata": {
        "colab": {
          "base_uri": "https://localhost:8080/",
          "height": 279
        },
        "id": "uUrpBrGQ16HX",
        "outputId": "42a6764c-ae91-4851-b554-07e236f39c81"
      },
      "source": [
        "t0=time.clock()  # Gọi hàm thời gian hiện tại\r\n",
        "CoNB = ComplementNB().fit(X_train, Y_train) # Gọi model và fit dữ liệu cho model\r\n",
        "Y_pred=CoNB.predict(X_test) # Gọi hàm predict cho model\r\n",
        "t1=time.clock()  # Gọi hàm thời gian hiện tại\r\n",
        "cm=confusion_matrix(Y_test, Y_pred) # Gọi hàm tính Confusion Matrix\r\n",
        "cm_display=ConfusionMatrixDisplay(cm, display_labels=[0, 1]).plot(values_format=\"d\") # Gọi hàm vẽ hình Confusion Matrix với các labels tương ứng và đặt chuẩn hiển thị số cho Confusion Matrix"
      ],
      "execution_count": null,
      "outputs": [
        {
          "output_type": "display_data",
          "data": {
            "image/png": "[encoded data removed]",
            "text/plain": [
              "<Figure size 432x288 with 2 Axes>"
            ]
          },
          "metadata": {
            "tags": [],
            "needs_background": "light"
          }
        }
      ]
    },
    {
      "cell_type": "code",
      "metadata": {
        "colab": {
          "base_uri": "https://localhost:8080/"
        },
        "id": "t9UBt2Tc183I",
        "outputId": "92655c60-816d-4376-cee7-338f4923d389"
      },
      "source": [
        "print(classification_report(Y_test, Y_pred, labels=[0, 1])) # Xuất ra bảng tính toán các giá trị liên quan đến độ chính xác của model"
      ],
      "execution_count": null,
      "outputs": [
        {
          "output_type": "stream",
          "text": [
            "              precision    recall  f1-score   support\n",
            "\n",
            "           0       0.82      0.78      0.80      7527\n",
            "           1       0.75      0.79      0.77      6306\n",
            "\n",
            "    accuracy                           0.79     13833\n",
            "   macro avg       0.79      0.79      0.79     13833\n",
            "weighted avg       0.79      0.79      0.79     13833\n",
            "\n"
          ],
          "name": "stdout"
        }
      ]
    },
    {
      "cell_type": "code",
      "metadata": {
        "colab": {
          "base_uri": "https://localhost:8080/"
        },
        "id": "0s0ABq637eG4",
        "outputId": "b4ed6c37-48e8-42c9-f120-62888d3ab899"
      },
      "source": [
        "print(t1-t0) # Xuất ra khoảng thời gian để train và predict của model"
      ],
      "execution_count": null,
      "outputs": [
        {
          "output_type": "stream",
          "text": [
            "0.013643000000000072\n"
          ],
          "name": "stdout"
        }
      ]
    },
    {
      "cell_type": "markdown",
      "metadata": {
        "id": "GhADBsrTA0m3"
      },
      "source": [
        "##  Decision Tree Classifier"
      ]
    },
    {
      "cell_type": "code",
      "metadata": {
        "colab": {
          "base_uri": "https://localhost:8080/",
          "height": 279
        },
        "id": "RECTMMcBA8ST",
        "outputId": "a398c93f-d2fd-4420-a557-98a3e937003b"
      },
      "source": [
        "t0=time.clock()  # Gọi hàm thời gian hiện tại\r\n",
        "DTC = DecisionTreeClassifier(criterion='entropy').fit(X_train, Y_train)\r\n",
        "Y_pred=DTC.predict(X_test) # Gọi hàm predict cho model\r\n",
        "t1=time.clock()  # Gọi hàm thời gian hiện tại\r\n",
        "cm=confusion_matrix(Y_test, Y_pred) # Gọi hàm tính Confusion Matrix\r\n",
        "cm_display=ConfusionMatrixDisplay(cm, display_labels=[0, 1]).plot(values_format=\"d\") # Gọi hàm vẽ hình Confusion Matrix với các labels tương ứng và đặt chuẩn hiển thị số cho Confusion Matrix"
      ],
      "execution_count": null,
      "outputs": [
        {
          "output_type": "display_data",
          "data": {
            "image/png": "[encoded data removed]",
            "text/plain": [
              "<Figure size 432x288 with 2 Axes>"
            ]
          },
          "metadata": {
            "tags": [],
            "needs_background": "light"
          }
        }
      ]
    },
    {
      "cell_type": "code",
      "metadata": {
        "colab": {
          "base_uri": "https://localhost:8080/"
        },
        "id": "DoocQKvLBYFC",
        "outputId": "381fef95-f5b2-4066-971d-1a3c687682d9"
      },
      "source": [
        "print(classification_report(Y_test, Y_pred, labels=[0, 1])) # Xuất ra bảng tính toán các giá trị liên quan đến độ chính xác của model"
      ],
      "execution_count": null,
      "outputs": [
        {
          "output_type": "stream",
          "text": [
            "              precision    recall  f1-score   support\n",
            "\n",
            "           0       0.92      0.93      0.92      7527\n",
            "           1       0.91      0.90      0.91      6306\n",
            "\n",
            "    accuracy                           0.92     13833\n",
            "   macro avg       0.92      0.91      0.92     13833\n",
            "weighted avg       0.92      0.92      0.92     13833\n",
            "\n"
          ],
          "name": "stdout"
        }
      ]
    },
    {
      "cell_type": "code",
      "metadata": {
        "colab": {
          "base_uri": "https://localhost:8080/"
        },
        "id": "SxZoIWOdBckA",
        "outputId": "e108f7ff-aa4d-41af-fde5-19a11d5b97d9"
      },
      "source": [
        "print(t1-t0) # Xuất ra khoảng thời gian để train và predict của model"
      ],
      "execution_count": null,
      "outputs": [
        {
          "output_type": "stream",
          "text": [
            "16.147607\n"
          ],
          "name": "stdout"
        }
      ]
    },
    {
      "cell_type": "markdown",
      "metadata": {
        "id": "4kxky8NtBoCy"
      },
      "source": [
        "##linear SVM Classification"
      ]
    },
    {
      "cell_type": "code",
      "metadata": {
        "colab": {
          "base_uri": "https://localhost:8080/",
          "height": 279
        },
        "id": "ibB3CTgLB3s4",
        "outputId": "6a49d78c-c461-4e9c-c981-847ebf412779"
      },
      "source": [
        "t0=time.clock()  # Gọi hàm thời gian hiện tại\r\n",
        "L_SVC = LinearSVC().fit(X_train, Y_train) # Gọi model và fit dữ liệu cho model\r\n",
        "Y_pred=L_SVC.predict(X_test) # Gọi hàm predict cho model\r\n",
        "t1=time.clock()  # Gọi hàm thời gian hiện tại\r\n",
        "cm=confusion_matrix(Y_test, Y_pred) # Gọi hàm tính Confusion Matrix\r\n",
        "cm_display=ConfusionMatrixDisplay(cm, display_labels=[0, 1]).plot(values_format=\"d\") # Gọi hàm vẽ hình Confusion Matrix với các labels tương ứng và đặt chuẩn hiển thị số cho Confusion Matrix"
      ],
      "execution_count": null,
      "outputs": [
        {
          "output_type": "display_data",
          "data": {
            "image/png": "[encoded data removed]",
            "text/plain": [
              "<Figure size 432x288 with 2 Axes>"
            ]
          },
          "metadata": {
            "tags": [],
            "needs_background": "light"
          }
        }
      ]
    },
    {
      "cell_type": "code",
      "metadata": {
        "colab": {
          "base_uri": "https://localhost:8080/"
        },
        "id": "h4Qz7CuVCCFH",
        "outputId": "daf14330-90ab-4a6b-fe40-47d68506f340"
      },
      "source": [
        "print(classification_report(Y_test, Y_pred, labels=[0, 1])) # Xuất ra bảng tính toán các giá trị liên quan đến độ chính xác của model"
      ],
      "execution_count": null,
      "outputs": [
        {
          "output_type": "stream",
          "text": [
            "              precision    recall  f1-score   support\n",
            "\n",
            "           0       0.81      0.83      0.82      7527\n",
            "           1       0.79      0.77      0.78      6306\n",
            "\n",
            "    accuracy                           0.80     13833\n",
            "   macro avg       0.80      0.80      0.80     13833\n",
            "weighted avg       0.80      0.80      0.80     13833\n",
            "\n"
          ],
          "name": "stdout"
        }
      ]
    },
    {
      "cell_type": "code",
      "metadata": {
        "colab": {
          "base_uri": "https://localhost:8080/"
        },
        "id": "VduBsNKjCDtY",
        "outputId": "9e4875b5-ce9e-4688-825a-0671e375492a"
      },
      "source": [
        "print(t1-t0) # Xuất ra khoảng thời gian để train và predict của model"
      ],
      "execution_count": null,
      "outputs": [
        {
          "output_type": "stream",
          "text": [
            "0.21939499999999867\n"
          ],
          "name": "stdout"
        }
      ]
    },
    {
      "cell_type": "markdown",
      "metadata": {
        "id": "CKMMPnhSC1ex"
      },
      "source": [
        "## Nonlinear SVM Classification"
      ]
    },
    {
      "cell_type": "markdown",
      "metadata": {
        "id": "OjZM8_d0Hbp-"
      },
      "source": [
        "### SVM classifiers using a polynomial kernel"
      ]
    },
    {
      "cell_type": "code",
      "metadata": {
        "colab": {
          "base_uri": "https://localhost:8080/",
          "height": 280
        },
        "id": "L0bODv5jD7Xo",
        "outputId": "e363e9a1-a6b1-40db-c259-ec20011125da"
      },
      "source": [
        "t0=time.clock()  # Gọi hàm thời gian hiện tại\r\n",
        "Poly_SVC = SVC(kernel=\"poly\", degree=2, coef0=1, C=1000).fit(X_train, Y_train)\r\n",
        "Y_pred=Poly_SVC.predict(X_test) # Gọi hàm predict cho model\r\n",
        "t1=time.clock()  # Gọi hàm thời gian hiện tại\r\n",
        "cm=confusion_matrix(Y_test, Y_pred) # Gọi hàm tính Confusion Matrix\r\n",
        "cm_display=ConfusionMatrixDisplay(cm, display_labels=[0, 1]).plot(values_format=\"d\") # Gọi hàm vẽ hình Confusion Matrix với các labels tương ứng và đặt chuẩn hiển thị số cho Confusion Matrix"
      ],
      "execution_count": null,
      "outputs": [
        {
          "output_type": "display_data",
          "data": {
            "image/png": "[encoded data removed]",
            "text/plain": [
              "<Figure size 432x288 with 2 Axes>"
            ]
          },
          "metadata": {
            "tags": [],
            "needs_background": "light"
          }
        }
      ]
    },
    {
      "cell_type": "code",
      "metadata": {
        "colab": {
          "base_uri": "https://localhost:8080/"
        },
        "id": "HatCXnLTEfYd",
        "outputId": "36d1216b-a3be-48c3-bfac-8990f892508b"
      },
      "source": [
        "print(classification_report(Y_test, Y_pred, labels=[0, 1])) # Xuất ra bảng tính toán các giá trị liên quan đến độ chính xác của model"
      ],
      "execution_count": null,
      "outputs": [
        {
          "output_type": "stream",
          "text": [
            "              precision    recall  f1-score   support\n",
            "\n",
            "           0       0.93      0.94      0.94      7527\n",
            "           1       0.93      0.92      0.93      6306\n",
            "\n",
            "    accuracy                           0.93     13833\n",
            "   macro avg       0.93      0.93      0.93     13833\n",
            "weighted avg       0.93      0.93      0.93     13833\n",
            "\n"
          ],
          "name": "stdout"
        }
      ]
    },
    {
      "cell_type": "code",
      "metadata": {
        "colab": {
          "base_uri": "https://localhost:8080/"
        },
        "id": "uiMx10ykEhTN",
        "outputId": "0c7d02ca-b933-42b5-bfbe-5537bf6b5b8e"
      },
      "source": [
        "print(t1-t0) # Xuất ra khoảng thời gian để train và predict của model"
      ],
      "execution_count": null,
      "outputs": [
        {
          "output_type": "stream",
          "text": [
            "500.406726\n"
          ],
          "name": "stdout"
        }
      ]
    },
    {
      "cell_type": "markdown",
      "metadata": {
        "id": "tZfeOQ8UHjUd"
      },
      "source": [
        "### SVM classifiers using an RBF kernel"
      ]
    },
    {
      "cell_type": "code",
      "metadata": {
        "colab": {
          "base_uri": "https://localhost:8080/",
          "height": 279
        },
        "id": "5QzfAvgYHs7D",
        "outputId": "40f76795-5a9b-473b-e855-e088b778cb8a"
      },
      "source": [
        "t0=time.clock()  # Gọi hàm thời gian hiện tại\r\n",
        "Rbf_SVC = SVC(kernel=\"rbf\", gamma=5, C=1000).fit(X_train, Y_train)\r\n",
        "Y_pred=Rbf_SVC.predict(X_test) # Gọi hàm predict cho model\r\n",
        "t1=time.clock()  # Gọi hàm thời gian hiện tại\r\n",
        "cm=confusion_matrix(Y_test, Y_pred) # Gọi hàm tính Confusion Matrix\r\n",
        "cm_display=ConfusionMatrixDisplay(cm, display_labels=[0, 1]).plot(values_format=\"d\") # Gọi hàm vẽ hình Confusion Matrix với các labels tương ứng và đặt chuẩn hiển thị số cho Confusion Matrix"
      ],
      "execution_count": null,
      "outputs": [
        {
          "output_type": "display_data",
          "data": {
            "image/png": "[encoded data removed]",
            "text/plain": [
              "<Figure size 432x288 with 2 Axes>"
            ]
          },
          "metadata": {
            "tags": [],
            "needs_background": "light"
          }
        }
      ]
    },
    {
      "cell_type": "code",
      "metadata": {
        "colab": {
          "base_uri": "https://localhost:8080/"
        },
        "id": "wU8LE61EHtWT",
        "outputId": "73aa20fd-609c-4c4c-fbd4-668c34510ea8"
      },
      "source": [
        "print(classification_report(Y_test, Y_pred, labels=[0, 1])) # Xuất ra bảng tính toán các giá trị liên quan đến độ chính xác của model"
      ],
      "execution_count": null,
      "outputs": [
        {
          "output_type": "stream",
          "text": [
            "              precision    recall  f1-score   support\n",
            "\n",
            "           0       0.84      0.98      0.91      7527\n",
            "           1       0.97      0.78      0.86      6306\n",
            "\n",
            "    accuracy                           0.89     13833\n",
            "   macro avg       0.91      0.88      0.88     13833\n",
            "weighted avg       0.90      0.89      0.89     13833\n",
            "\n"
          ],
          "name": "stdout"
        }
      ]
    },
    {
      "cell_type": "code",
      "metadata": {
        "colab": {
          "base_uri": "https://localhost:8080/"
        },
        "id": "LJb9f0kcHtk7",
        "outputId": "723be1b7-d875-4101-fb48-4b187e2da5d6"
      },
      "source": [
        "print(t1-t0) # Xuất ra khoảng thời gian để train và predict của model"
      ],
      "execution_count": null,
      "outputs": [
        {
          "output_type": "stream",
          "text": [
            "337.133196\n"
          ],
          "name": "stdout"
        }
      ]
    }
  ]
}