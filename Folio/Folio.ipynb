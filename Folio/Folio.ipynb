{
  "nbformat": 4,
  "nbformat_minor": 0,
  "metadata": {
    "colab": {
      "name": "Untitled1.ipynb",
      "provenance": [],
      "include_colab_link": true
    },
    "kernelspec": {
      "name": "python3",
      "display_name": "Python 3"
    }
  },
  "cells": [
    {
      "cell_type": "markdown",
      "metadata": {
        "id": "view-in-github",
        "colab_type": "text"
      },
      "source": [
        "<a href=\"https://colab.research.google.com/github/khoaphamj1505/CS114.L11.KHCL/blob/master/Folio/Folio.ipynb\" target=\"_parent\"><img src=\"https://colab.research.google.com/assets/colab-badge.svg\" alt=\"Open In Colab\"/></a>"
      ]
    },
    {
      "cell_type": "code",
      "metadata": {
        "id": "0LsW2HE6SEzJ"
      },
      "source": [
        "import pandas as pd\n",
        "import cv2\n",
        "import os\n",
        "import numpy as np\n",
        "import matplotlib.pyplot as plt\n",
        "from sklearn.neighbors import KNeighborsClassifier\n",
        "from sklearn import metrics\n",
        "from sklearn.model_selection import train_test_split,cross_val_score\n"
      ],
      "execution_count": null,
      "outputs": []
    },
    {
      "cell_type": "code",
      "metadata": {
        "colab": {
          "base_uri": "https://localhost:8080/"
        },
        "id": "UWd-owbLLmvQ",
        "outputId": "e2075efa-cd05-4867-bf52-9ee7b7566db9"
      },
      "source": [
        "from google.colab import drive\n",
        "drive.mount('/content/gdrive')"
      ],
      "execution_count": null,
      "outputs": [
        {
          "output_type": "stream",
          "text": [
            "Mounted at /content/gdrive\n"
          ],
          "name": "stdout"
        }
      ]
    },
    {
      "cell_type": "code",
      "metadata": {
        "id": "uDnIzKA-uYvJ"
      },
      "source": [
        "dir ='/content/gdrive/MyDrive/PythonML/Data/Folio%20Leaf%20Dataset.rar (Unzipped Files)/Folio Leaf Dataset/Folio'\n",
        "categories =['beaumier du perou','eggplant','fruitcitere','guava','hibiscus','betel','rose','chrysanthemum','ficus','duranta gold','ashanti blood','bitter orange','coeur demoiselle','jackfruit',\n",
        "'mulberry leaf','pimento','pomme jacquot','star apple','barbados cherry','sweet olive','croton','thevetia','vieux garcon','chocolate tree','caricature plant','coffee','ketembilla','chinese guava','lychee','geranium','sweet potato','papaya']"
      ],
      "execution_count": null,
      "outputs": []
    },
    {
      "cell_type": "code",
      "metadata": {
        "colab": {
          "base_uri": "https://localhost:8080/"
        },
        "id": "HEXWximJwpo6",
        "outputId": "8ca1d1e9-7944-4fb6-c087-3fcae3b0a4e9"
      },
      "source": [
        "data=[]\n",
        "for category in categories:\n",
        "  path=os.path.join(dir,category)\n",
        "  label=categories.index(category)\n",
        "\n",
        "  for img in os.listdir(path):\n",
        "    impath=os.path.join(path,img)\n",
        "    folio=cv2.imread(impath,0)\n",
        "    folio=cv2.resize(folio,(50,50))\n",
        "    image=np.array(folio).flatten()\n",
        "    data.append([np.array(image),np.array(label)])\n",
        "  \n",
        "print(len(data))\n"
      ],
      "execution_count": null,
      "outputs": [
        {
          "output_type": "stream",
          "text": [
            "637\n"
          ],
          "name": "stdout"
        }
      ]
    },
    {
      "cell_type": "code",
      "metadata": {
        "id": "mhgtmVio38v2"
      },
      "source": [
        "print(data)"
      ],
      "execution_count": null,
      "outputs": []
    },
    {
      "cell_type": "code",
      "metadata": {
        "id": "qFjamxSWrgwa"
      },
      "source": [
        "import random\n",
        "random.shuffle(data)\n"
      ],
      "execution_count": null,
      "outputs": []
    },
    {
      "cell_type": "code",
      "metadata": {
        "id": "EeTzA1QMvLMb"
      },
      "source": [
        "features=[]\n",
        "labels=[]\n",
        "\n",
        "for feature, label in data:\n",
        "  features.append(feature)\n",
        "  labels.append(label)\n",
        "  "
      ],
      "execution_count": null,
      "outputs": []
    },
    {
      "cell_type": "code",
      "metadata": {
        "id": "HwrwbxxRvneK"
      },
      "source": [
        "print(features)\n",
        "print(labels)"
      ],
      "execution_count": null,
      "outputs": []
    },
    {
      "cell_type": "code",
      "metadata": {
        "id": "bAI8L7Huagy6"
      },
      "source": [
        "\n",
        "X_train, X_test, y_train, y_test = train_test_split(\n",
        "     features,labels, test_size=0.3)"
      ],
      "execution_count": null,
      "outputs": []
    },
    {
      "cell_type": "code",
      "metadata": {
        "colab": {
          "base_uri": "https://localhost:8080/"
        },
        "id": "lJB80zwsbGKo",
        "outputId": "58ae55e8-8231-4548-bd70-74d7bc5fa7a4"
      },
      "source": [
        "#train and test\n",
        "knn = KNeighborsClassifier(n_neighbors=3,weights='distance',metric='braycurtis')\n",
        "knn.fit(X_train, y_train)\n",
        "y_pred = knn.predict(X_test)\n",
        "print(\"Accuracy:\",metrics.accuracy_score(y_test, y_pred))"
      ],
      "execution_count": null,
      "outputs": [
        {
          "output_type": "stream",
          "text": [
            "Accuracy: 0.8177083333333334\n"
          ],
          "name": "stdout"
        }
      ]
    },
    {
      "cell_type": "code",
      "metadata": {
        "colab": {
          "base_uri": "https://localhost:8080/",
          "height": 297
        },
        "id": "7DCYh0xVfiKV",
        "outputId": "0fdb550e-e06e-49fa-ca21-2be24fd0296a"
      },
      "source": [
        "#Tìm số k thích hợp model\n",
        "k_val=[i for i in range(1,50,2)]\n",
        "k_acc_scores=[]\n",
        "for k in k_val:\n",
        "  knn = KNeighborsClassifier(n_neighbors=k,weights='distance',metric='braycurtis')\n",
        "  cv_scores=cross_val_score(knn,X_train, y_train,cv=5,scoring='accuracy')\n",
        "  k_acc_scores.append(cv_scores.mean())\n",
        "k_max=k_val[k_acc_scores.index(max(k_acc_scores))]\n",
        "print(format(k_max))\n",
        "plt.plot(k_val,k_acc_scores)\n",
        "plt.xlabel('K')\n",
        "plt.ylabel('acc')\n",
        "plt.show()\n"
      ],
      "execution_count": null,
      "outputs": [
        {
          "output_type": "stream",
          "text": [
            "1\n"
          ],
          "name": "stdout"
        },
        {
          "output_type": "display_data",
          "data": {
            "image/png": "[encoded data removed]",
            "text/plain": [
              "<Figure size 432x288 with 1 Axes>"
            ]
          },
          "metadata": {
            "tags": [],
            "needs_background": "light"
          }
        }
      ]
    }
  ]
}