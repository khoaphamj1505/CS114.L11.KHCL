{
  "nbformat": 4,
  "nbformat_minor": 0,
  "metadata": {
    "colab": {
      "name": "Untitled1.ipynb",
      "provenance": [],
      "collapsed_sections": [],
      "authorship_tag": "ABX9TyNaAiouc4qNmZMnrrCm6LKu",
      "include_colab_link": true
    },
    "kernelspec": {
      "name": "python3",
      "display_name": "Python 3"
    }
  },
  "cells": [
    {
      "cell_type": "markdown",
      "metadata": {
        "id": "view-in-github",
        "colab_type": "text"
      },
      "source": [
        "<a href=\"https://colab.research.google.com/github/khoaphamj1505/CS114.L11.KHCL/blob/master/Folio/folio.ipynb\" target=\"_parent\"><img src=\"https://colab.research.google.com/assets/colab-badge.svg\" alt=\"Open In Colab\"/></a>"
      ]
    },
    {
      "cell_type": "code",
      "metadata": {
        "id": "0LsW2HE6SEzJ"
      },
      "source": [
        "import pandas as pd\n",
        "import cv2\n",
        "import os\n",
        "import numpy as np\n",
        "import matplotlib.pyplot as plt\n",
        "from sklearn.neighbors import KNeighborsClassifier\n",
        "from sklearn import metrics\n",
        "from sklearn.model_selection import train_test_split,cross_val_score\n"
      ],
      "execution_count": 7,
      "outputs": []
    },
    {
      "cell_type": "code",
      "metadata": {
        "colab": {
          "base_uri": "https://localhost:8080/"
        },
        "id": "UWd-owbLLmvQ",
        "outputId": "cac1e12f-0af3-4a29-c687-dc78b7f0e9e5"
      },
      "source": [
        "from google.colab import drive\n",
        "drive.mount('/content/gdrive')"
      ],
      "execution_count": 8,
      "outputs": [
        {
          "output_type": "stream",
          "text": [
            "Drive already mounted at /content/gdrive; to attempt to forcibly remount, call drive.mount(\"/content/gdrive\", force_remount=True).\n"
          ],
          "name": "stdout"
        }
      ]
    },
    {
      "cell_type": "code",
      "metadata": {
        "colab": {
          "base_uri": "https://localhost:8080/"
        },
        "id": "jBslUvrCsvLa",
        "outputId": "7ba31af4-3497-4942-903d-895ca04997c8"
      },
      "source": [
        "##\n",
        "!wget https://archive.ics.uci.edu/ml/machine-learning-databases/00338/Folio%20Leaf%20Dataset.rar"
      ],
      "execution_count": 9,
      "outputs": [
        {
          "output_type": "stream",
          "text": [
            "--2020-11-30 10:51:23--  https://archive.ics.uci.edu/ml/machine-learning-databases/00338/Folio%20Leaf%20Dataset.rar\n",
            "Resolving archive.ics.uci.edu (archive.ics.uci.edu)... 128.195.10.252\n",
            "Connecting to archive.ics.uci.edu (archive.ics.uci.edu)|128.195.10.252|:443... connected.\n",
            "HTTP request sent, awaiting response... 200 OK\n",
            "Length: 972471245 (927M) [application/x-httpd-php]\n",
            "Saving to: ‘Folio Leaf Dataset.rar.3’\n",
            "\n",
            "Folio Leaf Dataset. 100%[===================>] 927.42M  22.2MB/s    in 42s     \n",
            "\n",
            "2020-11-30 10:52:06 (21.8 MB/s) - ‘Folio Leaf Dataset.rar.3’ saved [972471245/972471245]\n",
            "\n"
          ],
          "name": "stdout"
        }
      ]
    },
    {
      "cell_type": "code",
      "metadata": {
        "colab": {
          "base_uri": "https://localhost:8080/"
        },
        "id": "mr7jzdnZs0e2",
        "outputId": "ae8d1f58-7434-4d4c-e663-4a86645b7c3e"
      },
      "source": [
        "!unrar x /content/Folio\\ Leaf\\ Dataset.rar"
      ],
      "execution_count": 13,
      "outputs": [
        {
          "output_type": "stream",
          "text": [
            "\n",
            "UNRAR 5.50 freeware      Copyright (c) 1993-2017 Alexander Roshal\n",
            "\n",
            "\n",
            "Extracting from /content/Folio Leaf Dataset.rar\n",
            "\n",
            "\n",
            "Would you like to replace the existing file Folio Leaf Dataset/Folio/ashanti blood/20150324_153259.jpg\n",
            "1339532 bytes, modified on 2015-03-24 23:57\n",
            "with a new one\n",
            "1339532 bytes, modified on 2015-03-24 23:57\n",
            "\n",
            "[Y]es, [N]o, [A]ll, n[E]ver, [R]ename, [Q]uit Y\n",
            "\n",
            "Extracting  Folio Leaf Dataset/Folio/ashanti blood/20150324_153259.jpg     \b\b\b\b  0%\b\b\b\b\b  OK \n",
            "\n",
            "Would you like to replace the existing file Folio Leaf Dataset/Folio/ashanti blood/20150324_153314.jpg\n",
            "1048598 bytes, modified on 2015-03-24 23:57\n",
            "with a new one\n",
            "1048598 bytes, modified on 2015-03-24 23:57\n",
            "\n",
            "[Y]es, [N]o, [A]ll, n[E]ver, [R]ename, [Q]uit Y\n",
            "\n",
            "Extracting  Folio Leaf Dataset/Folio/ashanti blood/20150324_153314.jpg     \b\b\b\b  0%\b\b\b\b\b  OK \n",
            "\n",
            "Would you like to replace the existing file Folio Leaf Dataset/Folio/ashanti blood/20150324_153329.jpg\n",
            "2414211 bytes, modified on 2015-03-24 09:32\n",
            "with a new one\n",
            "2414211 bytes, modified on 2015-03-24 09:32\n",
            "\n",
            "[Y]es, [N]o, [A]ll, n[E]ver, [R]ename, [Q]uit Y\n",
            "\n",
            "Extracting  Folio Leaf Dataset/Folio/ashanti blood/20150324_153329.jpg     \b\b\b\b  0%\b\b\b\b  1%\b\b\b\b\b  OK \n",
            "\n",
            "Would you like to replace the existing file Folio Leaf Dataset/Folio/ashanti blood/20150324_153348.jpg\n",
            "2274701 bytes, modified on 2015-03-24 09:33\n",
            "with a new one\n",
            "2274701 bytes, modified on 2015-03-24 09:33\n",
            "\n",
            "[Y]es, [N]o, [A]ll, n[E]ver, [R]ename, [Q]uit Y\n",
            "\n",
            "Extracting  Folio Leaf Dataset/Folio/ashanti blood/20150324_153348.jpg     \b\b\b\b  1%\b\b\b\b\b  OK \n",
            "\n",
            "Would you like to replace the existing file Folio Leaf Dataset/Folio/ashanti blood/20150324_153401.jpg\n",
            "1125783 bytes, modified on 2015-03-24 23:57\n",
            "with a new one\n",
            "1125783 bytes, modified on 2015-03-24 23:57\n",
            "\n",
            "[Y]es, [N]o, [A]ll, n[E]ver, [R]ename, [Q]uit Y\n",
            "\n",
            "Extracting  Folio Leaf Dataset/Folio/ashanti blood/20150324_153401.jpg     \b\b\b\b  1%\b\b\b\b  2%\b\b\b\b\b  OK \n",
            "\n",
            "Would you like to replace the existing file Folio Leaf Dataset/Folio/ashanti blood/20150324_153419.jpg\n",
            "992973 bytes, modified on 2015-03-24 23:57\n",
            "with a new one\n",
            "992973 bytes, modified on 2015-03-24 23:57\n",
            "\n",
            "[Y]es, [N]o, [A]ll, n[E]ver, [R]ename, [Q]uit A\n",
            "\n",
            "Extracting  Folio Leaf Dataset/Folio/ashanti blood/20150324_153419.jpg     \b\b\b\b  2%\b\b\b\b\b  OK \n",
            "Extracting  Folio Leaf Dataset/Folio/ashanti blood/20150324_153451.jpg     \b\b\b\b  2%\b\b\b\b  3%\b\b\b\b\b  OK \n",
            "Extracting  Folio Leaf Dataset/Folio/ashanti blood/20150324_153513.jpg     \b\b\b\b  3%\b\b\b\b\b  OK \n",
            "Extracting  Folio Leaf Dataset/Folio/ashanti blood/20150324_153741.jpg     \b\b\b\b  3%\b\b\b\b\b  OK \n",
            "Extracting  Folio Leaf Dataset/Folio/ashanti blood/20150324_153752.jpg     \b\b\b\b  3%\b\b\b\b\b  OK \n",
            "Extracting  Folio Leaf Dataset/Folio/ashanti blood/20150324_153805.jpg     \b\b\b\b  3%\b\b\b\b  4%\b\b\b\b\b  OK \n",
            "Extracting  Folio Leaf Dataset/Folio/ashanti blood/20150324_153819.jpg     \b\b\b\b  4%\b\b\b\b  5%\b\b\b\b\b  OK \n",
            "Extracting  Folio Leaf Dataset/Folio/ashanti blood/20150324_155837.jpg     \b\b\b\b  5%\b\b\b\b\b  OK \n",
            "Extracting  Folio Leaf Dataset/Folio/ashanti blood/20150324_155848.jpg     \b\b\b\b  5%\b\b\b\b  6%\b\b\b\b\b  OK \n",
            "Extracting  Folio Leaf Dataset/Folio/ashanti blood/20150324_155907.jpg     \b\b\b\b  6%\b\b\b\b\b  OK \n",
            "Extracting  Folio Leaf Dataset/Folio/ashanti blood/20150324_155923.jpg     \b\b\b\b  6%\b\b\b\b  7%\b\b\b\b\b  OK \n",
            "Extracting  Folio Leaf Dataset/Folio/ashanti blood/20150324_155937.jpg     \b\b\b\b  7%\b\b\b\b\b  OK \n",
            "Extracting  Folio Leaf Dataset/Folio/ashanti blood/20150324_155953.jpg     \b\b\b\b  7%\b\b\b\b  8%\b\b\b\b\b  OK \n",
            "Extracting  Folio Leaf Dataset/Folio/ashanti blood/20150324_160037.jpg     \b\b\b\b  8%\b\b\b\b\b  OK \n",
            "Extracting  Folio Leaf Dataset/Folio/ashanti blood/20150324_160101.jpg     \b\b\b\b  8%\b\b\b\b\b  OK \n",
            "Extracting  Folio Leaf Dataset/Folio/barbados cherry/20150324_165844.jpg     \b\b\b\b  8%\b\b\b\b  9%\b\b\b\b\b  OK \n",
            "Extracting  Folio Leaf Dataset/Folio/barbados cherry/20150324_165907.jpg     \b\b\b\b  9%\b\b\b\b\b  OK \n",
            "Extracting  Folio Leaf Dataset/Folio/barbados cherry/20150324_165916.jpg     \b\b\b\b  9%\b\b\b\b 10%\b\b\b\b\b  OK \n",
            "Extracting  Folio Leaf Dataset/Folio/barbados cherry/20150324_165948.jpg     \b\b\b\b 10%\b\b\b\b\b  OK \n",
            "Extracting  Folio Leaf Dataset/Folio/barbados cherry/20150324_170001.jpg     \b\b\b\b 10%\b\b\b\b 11%\b\b\b\b\b  OK \n",
            "Extracting  Folio Leaf Dataset/Folio/barbados cherry/20150324_170012.jpg     \b\b\b\b 11%\b\b\b\b\b  OK \n",
            "Extracting  Folio Leaf Dataset/Folio/barbados cherry/20150324_170039.jpg     \b\b\b\b 11%\b\b\b\b 12%\b\b\b\b\b  OK \n",
            "Extracting  Folio Leaf Dataset/Folio/barbados cherry/20150324_170047.jpg     \b\b\b\b 12%\b\b\b\b\b  OK \n",
            "Extracting  Folio Leaf Dataset/Folio/barbados cherry/20150324_170154.jpg     \b\b\b\b 12%\b\b\b\b\b  OK \n",
            "Extracting  Folio Leaf Dataset/Folio/barbados cherry/20150324_170203.jpg     \b\b\b\b 12%\b\b\b\b 13%\b\b\b\b\b  OK \n",
            "Extracting  Folio Leaf Dataset/Folio/barbados cherry/20150324_170214.jpg     \b\b\b\b 13%\b\b\b\b\b  OK \n",
            "Extracting  Folio Leaf Dataset/Folio/barbados cherry/20150324_170312.jpg     \b\b\b\b 13%\b\b\b\b\b  OK \n",
            "Extracting  Folio Leaf Dataset/Folio/barbados cherry/20150324_170324.jpg     \b\b\b\b 13%\b\b\b\b\b  OK \n",
            "Extracting  Folio Leaf Dataset/Folio/barbados cherry/20150324_170335.jpg     \b\b\b\b 13%\b\b\b\b 14%\b\b\b\b\b  OK \n",
            "Extracting  Folio Leaf Dataset/Folio/barbados cherry/20150324_170345.jpg     \b\b\b\b 14%\b\b\b\b\b  OK \n",
            "Extracting  Folio Leaf Dataset/Folio/barbados cherry/20150324_170354.jpg     \b\b\b\b 14%\b\b\b\b\b  OK \n",
            "Extracting  Folio Leaf Dataset/Folio/barbados cherry/20150324_170405.jpg     \b\b\b\b 14%\b\b\b\b 15%\b\b\b\b\b  OK \n",
            "Extracting  Folio Leaf Dataset/Folio/barbados cherry/20150324_170413.jpg     \b\b\b\b 15%\b\b\b\b\b  OK \n",
            "Extracting  Folio Leaf Dataset/Folio/barbados cherry/20150324_170432.jpg     \b\b\b\b 15%\b\b\b\b 16%\b\b\b\b\b  OK \n",
            "Extracting  Folio Leaf Dataset/Folio/barbados cherry/20150324_170442.jpg     \b\b\b\b 16%\b\b\b\b\b  OK \n",
            "Extracting  Folio Leaf Dataset/Folio/beaumier du perou/20150324_152725.jpg     \b\b\b\b 16%\b\b\b\b 17%\b\b\b\b\b  OK \n",
            "Extracting  Folio Leaf Dataset/Folio/beaumier du perou/20150324_152809.jpg     \b\b\b\b 17%\b\b\b\b 18%\b\b\b\b\b  OK \n",
            "Extracting  Folio Leaf Dataset/Folio/beaumier du perou/20150324_152820.jpg     \b\b\b\b 18%\b\b\b\b\b  OK \n",
            "Extracting  Folio Leaf Dataset/Folio/beaumier du perou/20150324_152834.jpg     \b\b\b\b 18%\b\b\b\b 19%\b\b\b\b\b  OK \n",
            "Extracting  Folio Leaf Dataset/Folio/beaumier du perou/20150324_152844.jpg     \b\b\b\b 19%\b\b\b\b\b  OK \n",
            "Extracting  Folio Leaf Dataset/Folio/beaumier du perou/20150324_152928.jpg     \b\b\b\b 19%\b\b\b\b 20%\b\b\b\b\b  OK \n",
            "Extracting  Folio Leaf Dataset/Folio/beaumier du perou/20150324_152942.jpg     \b\b\b\b 20%\b\b\b\b\b  OK \n",
            "Extracting  Folio Leaf Dataset/Folio/beaumier du perou/20150324_152957.jpg     \b\b\b\b 20%\b\b\b\b 21%\b\b\b\b\b  OK \n",
            "Extracting  Folio Leaf Dataset/Folio/beaumier du perou/20150324_153021.jpg     \b\b\b\b 21%\b\b\b\b\b  OK \n",
            "Extracting  Folio Leaf Dataset/Folio/beaumier du perou/20150324_153049.jpg     \b\b\b\b 21%\b\b\b\b 22%\b\b\b\b\b  OK \n",
            "Extracting  Folio Leaf Dataset/Folio/beaumier du perou/20150622_121020.jpg     \b\b\b\b 22%\b\b\b\b\b  OK \n",
            "Extracting  Folio Leaf Dataset/Folio/beaumier du perou/IMG_5453.JPG      \b\b\b\b 22%\b\b\b\b\b  OK \n",
            "Extracting  Folio Leaf Dataset/Folio/beaumier du perou/IMG_5455.JPG      \b\b\b\b 22%\b\b\b\b\b  OK \n",
            "Extracting  Folio Leaf Dataset/Folio/beaumier du perou/IMG_5457.JPG      \b\b\b\b 22%\b\b\b\b\b  OK \n",
            "Extracting  Folio Leaf Dataset/Folio/beaumier du perou/IMG_5459.JPG      \b\b\b\b 22%\b\b\b\b\b  OK \n",
            "Extracting  Folio Leaf Dataset/Folio/beaumier du perou/IMG_5461.JPG      \b\b\b\b 22%\b\b\b\b 23%\b\b\b\b\b  OK \n",
            "Extracting  Folio Leaf Dataset/Folio/beaumier du perou/IMG_5467.JPG      \b\b\b\b 23%\b\b\b\b\b  OK \n",
            "Extracting  Folio Leaf Dataset/Folio/beaumier du perou/IMG_5469.JPG      \b\b\b\b 23%\b\b\b\b\b  OK \n",
            "Extracting  Folio Leaf Dataset/Folio/beaumier du perou/IMG_5471.JPG      \b\b\b\b 23%\b\b\b\b\b  OK \n",
            "Extracting  Folio Leaf Dataset/Folio/beaumier du perou/IMG_5473.JPG      \b\b\b\b 23%\b\b\b\b\b  OK \n",
            "Extracting  Folio Leaf Dataset/Folio/betel/20150714_110441.jpg           \b\b\b\b 23%\b\b\b\b\b  OK \n",
            "Extracting  Folio Leaf Dataset/Folio/betel/20150714_110503.jpg           \b\b\b\b 23%\b\b\b\b 24%\b\b\b\b\b  OK \n",
            "Extracting  Folio Leaf Dataset/Folio/betel/20150714_110512.jpg           \b\b\b\b 24%\b\b\b\b\b  OK \n",
            "Extracting  Folio Leaf Dataset/Folio/betel/20150714_110521.jpg           \b\b\b\b 24%\b\b\b\b 25%\b\b\b\b\b  OK \n",
            "Extracting  Folio Leaf Dataset/Folio/betel/20150714_110530.jpg           \b\b\b\b 25%\b\b\b\b\b  OK \n",
            "Extracting  Folio Leaf Dataset/Folio/betel/20150714_110539.jpg           \b\b\b\b 25%\b\b\b\b 26%\b\b\b\b\b  OK \n",
            "Extracting  Folio Leaf Dataset/Folio/betel/20150714_110552.jpg           \b\b\b\b 26%\b\b\b\b\b  OK \n",
            "Extracting  Folio Leaf Dataset/Folio/betel/20150714_110602.jpg           \b\b\b\b 26%\b\b\b\b 27%\b\b\b\b\b  OK \n",
            "Extracting  Folio Leaf Dataset/Folio/betel/20150714_110614.jpg           \b\b\b\b 27%\b\b\b\b\b  OK \n",
            "Extracting  Folio Leaf Dataset/Folio/betel/20150714_110623.jpg           \b\b\b\b 27%\b\b\b\b 28%\b\b\b\b\b  OK \n",
            "Extracting  Folio Leaf Dataset/Folio/betel/20150714_110632.jpg           \b\b\b\b 28%\b\b\b\b\b  OK \n",
            "Extracting  Folio Leaf Dataset/Folio/betel/20150714_110641.jpg           \b\b\b\b 28%\b\b\b\b 29%\b\b\b\b\b  OK \n",
            "Extracting  Folio Leaf Dataset/Folio/betel/20150714_110651.jpg           \b\b\b\b 29%\b\b\b\b\b  OK \n",
            "Extracting  Folio Leaf Dataset/Folio/betel/20150714_110701.jpg           \b\b\b\b 29%\b\b\b\b 30%\b\b\b\b\b  OK \n",
            "Extracting  Folio Leaf Dataset/Folio/betel/20150714_110724.jpg           \b\b\b\b 30%\b\b\b\b\b  OK \n",
            "Extracting  Folio Leaf Dataset/Folio/betel/20150714_110733.jpg           \b\b\b\b 30%\b\b\b\b 31%\b\b\b\b\b  OK \n",
            "Extracting  Folio Leaf Dataset/Folio/betel/20150714_110744.jpg           \b\b\b\b 31%\b\b\b\b\b  OK \n",
            "Extracting  Folio Leaf Dataset/Folio/betel/20150714_110754.jpg           \b\b\b\b 31%\b\b\b\b 32%\b\b\b\b\b  OK \n",
            "Extracting  Folio Leaf Dataset/Folio/betel/20150714_110802.jpg           \b\b\b\b 32%\b\b\b\b\b  OK \n",
            "Extracting  Folio Leaf Dataset/Folio/betel/20150714_110827.jpg           \b\b\b\b 32%\b\b\b\b 33%\b\b\b\b\b  OK \n",
            "Extracting  Folio Leaf Dataset/Folio/bitter orange/BO1.jpg               \b\b\b\b 33%\b\b\b\b\b  OK \n",
            "Extracting  Folio Leaf Dataset/Folio/bitter orange/BO10.jpg              \b\b\b\b 33%\b\b\b\b\b  OK \n",
            "Extracting  Folio Leaf Dataset/Folio/bitter orange/BO11.jpg              \b\b\b\b 33%\b\b\b\b\b  OK \n",
            "Extracting  Folio Leaf Dataset/Folio/bitter orange/BO12.jpg              \b\b\b\b 33%\b\b\b\b 34%\b\b\b\b\b  OK \n",
            "Extracting  Folio Leaf Dataset/Folio/bitter orange/BO13.jpg              \b\b\b\b 34%\b\b\b\b\b  OK \n",
            "Extracting  Folio Leaf Dataset/Folio/bitter orange/BO14.jpg              \b\b\b\b 34%\b\b\b\b\b  OK \n",
            "Extracting  Folio Leaf Dataset/Folio/bitter orange/BO15.jpg              \b\b\b\b 34%\b\b\b\b\b  OK \n",
            "Extracting  Folio Leaf Dataset/Folio/bitter orange/BO17.jpg              \b\b\b\b 34%\b\b\b\b\b  OK \n",
            "Extracting  Folio Leaf Dataset/Folio/bitter orange/BO18.jpg              \b\b\b\b 34%\b\b\b\b\b  OK \n",
            "Extracting  Folio Leaf Dataset/Folio/bitter orange/BO19.jpg              \b\b\b\b 34%\b\b\b\b\b  OK \n",
            "Extracting  Folio Leaf Dataset/Folio/bitter orange/BO2.jpg               \b\b\b\b 34%\b\b\b\b\b  OK \n",
            "Extracting  Folio Leaf Dataset/Folio/bitter orange/BO20.jpg              \b\b\b\b 34%\b\b\b\b\b  OK \n",
            "Extracting  Folio Leaf Dataset/Folio/bitter orange/BO21.jpg              \b\b\b\b 34%\b\b\b\b\b  OK \n",
            "Extracting  Folio Leaf Dataset/Folio/bitter orange/BO3.jpg               \b\b\b\b 34%\b\b\b\b\b  OK \n",
            "Extracting  Folio Leaf Dataset/Folio/bitter orange/BO4.jpg               \b\b\b\b 34%\b\b\b\b\b  OK \n",
            "Extracting  Folio Leaf Dataset/Folio/bitter orange/BO5.jpg               \b\b\b\b 34%\b\b\b\b 35%\b\b\b\b\b  OK \n",
            "Extracting  Folio Leaf Dataset/Folio/bitter orange/BO6.jpg               \b\b\b\b 35%\b\b\b\b\b  OK \n",
            "Extracting  Folio Leaf Dataset/Folio/bitter orange/BO7.jpg               \b\b\b\b 35%\b\b\b\b\b  OK \n",
            "Extracting  Folio Leaf Dataset/Folio/bitter orange/BO8.jpg               \b\b\b\b 35%\b\b\b\b\b  OK \n",
            "Extracting  Folio Leaf Dataset/Folio/bitter orange/BO9.jpg               \b\b\b\b 35%\b\b\b\b\b  OK \n",
            "Extracting  Folio Leaf Dataset/Folio/caricature plant/20150410_154744.jpg     \b\b\b\b 35%\b\b\b\b 36%\b\b\b\b\b  OK \n",
            "Extracting  Folio Leaf Dataset/Folio/caricature plant/20150410_154804.jpg     \b\b\b\b 36%\b\b\b\b\b  OK \n",
            "Extracting  Folio Leaf Dataset/Folio/caricature plant/20150410_154819.jpg     \b\b\b\b 36%\b\b\b\b 37%\b\b\b\b\b  OK \n",
            "Extracting  Folio Leaf Dataset/Folio/caricature plant/20150410_154830.jpg     \b\b\b\b 37%\b\b\b\b\b  OK \n",
            "Extracting  Folio Leaf Dataset/Folio/caricature plant/20150410_154842.jpg     \b\b\b\b 37%\b\b\b\b 38%\b\b\b\b\b  OK \n",
            "Extracting  Folio Leaf Dataset/Folio/caricature plant/20150410_154853.jpg     \b\b\b\b 38%\b\b\b\b\b  OK \n",
            "Extracting  Folio Leaf Dataset/Folio/caricature plant/20150410_154904.jpg     \b\b\b\b 38%\b\b\b\b\b  OK \n",
            "Extracting  Folio Leaf Dataset/Folio/caricature plant/20150410_154918.jpg     \b\b\b\b 38%\b\b\b\b 39%\b\b\b\b\b  OK \n",
            "Extracting  Folio Leaf Dataset/Folio/caricature plant/20150410_154927.jpg     \b\b\b\b 39%\b\b\b\b\b  OK \n",
            "Extracting  Folio Leaf Dataset/Folio/caricature plant/20150410_154952.jpg     \b\b\b\b 39%\b\b\b\b\b  OK \n",
            "Extracting  Folio Leaf Dataset/Folio/caricature plant/20150410_155003.jpg     \b\b\b\b 39%\b\b\b\b\b  OK \n",
            "Extracting  Folio Leaf Dataset/Folio/caricature plant/20150410_155016.jpg     \b\b\b\b 39%\b\b\b\b 40%\b\b\b\b\b  OK \n",
            "Extracting  Folio Leaf Dataset/Folio/caricature plant/20150410_155029.jpg     \b\b\b\b 40%\b\b\b\b\b  OK \n",
            "Extracting  Folio Leaf Dataset/Folio/caricature plant/20150410_155039.jpg     \b\b\b\b 40%\b\b\b\b\b  OK \n",
            "Extracting  Folio Leaf Dataset/Folio/caricature plant/20150410_155100.jpg     \b\b\b\b 40%\b\b\b\b 41%\b\b\b\b\b  OK \n",
            "Extracting  Folio Leaf Dataset/Folio/caricature plant/20150410_155116.jpg     \b\b\b\b 41%\b\b\b\b\b  OK \n",
            "Extracting  Folio Leaf Dataset/Folio/caricature plant/20150410_155124.jpg     \b\b\b\b 41%\b\b\b\b\b  OK \n",
            "Extracting  Folio Leaf Dataset/Folio/caricature plant/20150410_155142.jpg     \b\b\b\b 41%\b\b\b\b\b  OK \n",
            "Extracting  Folio Leaf Dataset/Folio/caricature plant/20150410_155156.jpg     \b\b\b\b 41%\b\b\b\b 42%\b\b\b\b\b  OK \n",
            "Extracting  Folio Leaf Dataset/Folio/caricature plant/20150622_121052.jpg     \b\b\b\b 42%\b\b\b\b\b  OK \n",
            "Extracting  Folio Leaf Dataset/Folio/chinese guava/IMG_5599.JPG          \b\b\b\b 42%\b\b\b\b\b  OK \n",
            "Extracting  Folio Leaf Dataset/Folio/chinese guava/IMG_5600.JPG          \b\b\b\b 42%\b\b\b\b\b  OK \n",
            "Extracting  Folio Leaf Dataset/Folio/chinese guava/IMG_5601.JPG          \b\b\b\b 42%\b\b\b\b\b  OK \n",
            "Extracting  Folio Leaf Dataset/Folio/chinese guava/IMG_5609.JPG          \b\b\b\b 42%\b\b\b\b\b  OK \n",
            "Extracting  Folio Leaf Dataset/Folio/chinese guava/IMG_5610.JPG          \b\b\b\b 42%\b\b\b\b\b  OK \n",
            "Extracting  Folio Leaf Dataset/Folio/chinese guava/IMG_5611.JPG          \b\b\b\b 42%\b\b\b\b\b  OK \n",
            "Extracting  Folio Leaf Dataset/Folio/chinese guava/IMG_5612.JPG          \b\b\b\b 42%\b\b\b\b\b  OK \n",
            "Extracting  Folio Leaf Dataset/Folio/chinese guava/IMG_5615.JPG          \b\b\b\b 42%\b\b\b\b\b  OK \n",
            "Extracting  Folio Leaf Dataset/Folio/chinese guava/IMG_5617.JPG          \b\b\b\b 42%\b\b\b\b\b  OK \n",
            "Extracting  Folio Leaf Dataset/Folio/chinese guava/IMG_5618.JPG          \b\b\b\b 42%\b\b\b\b\b  OK \n",
            "Extracting  Folio Leaf Dataset/Folio/chinese guava/IMG_5619.JPG          \b\b\b\b 42%\b\b\b\b\b  OK \n",
            "Extracting  Folio Leaf Dataset/Folio/chinese guava/IMG_5620.JPG          \b\b\b\b 42%\b\b\b\b 43%\b\b\b\b\b  OK \n",
            "Extracting  Folio Leaf Dataset/Folio/chinese guava/IMG_6100.JPG          \b\b\b\b 43%\b\b\b\b\b  OK \n",
            "Extracting  Folio Leaf Dataset/Folio/chinese guava/IMG_6101.JPG          \b\b\b\b 43%\b\b\b\b\b  OK \n",
            "Extracting  Folio Leaf Dataset/Folio/chinese guava/IMG_6102.JPG          \b\b\b\b 43%\b\b\b\b\b  OK \n",
            "Extracting  Folio Leaf Dataset/Folio/chinese guava/IMG_6103.JPG          \b\b\b\b 43%\b\b\b\b\b  OK \n",
            "Extracting  Folio Leaf Dataset/Folio/chinese guava/IMG_6104.JPG          \b\b\b\b 43%\b\b\b\b\b  OK \n",
            "Extracting  Folio Leaf Dataset/Folio/chinese guava/IMG_6105.JPG          \b\b\b\b 43%\b\b\b\b\b  OK \n",
            "Extracting  Folio Leaf Dataset/Folio/chinese guava/IMG_6106.JPG          \b\b\b\b 43%\b\b\b\b\b  OK \n",
            "Extracting  Folio Leaf Dataset/Folio/chinese guava/IMG_6107.JPG          \b\b\b\b 43%\b\b\b\b\b  OK \n",
            "Extracting  Folio Leaf Dataset/Folio/chocolate tree/20150622_122121.jpg     \b\b\b\b 43%\b\b\b\b 44%\b\b\b\b\b  OK \n",
            "Extracting  Folio Leaf Dataset/Folio/chocolate tree/20150622_122147.jpg     \b\b\b\b 44%\b\b\b\b\b  OK \n",
            "Extracting  Folio Leaf Dataset/Folio/chocolate tree/IMG_5752.JPG         \b\b\b\b 44%\b\b\b\b 45%\b\b\b\b\b  OK \n",
            "Extracting  Folio Leaf Dataset/Folio/chocolate tree/IMG_5753.JPG         \b\b\b\b 45%\b\b\b\b\b  OK \n",
            "Extracting  Folio Leaf Dataset/Folio/chocolate tree/IMG_5754.JPG         \b\b\b\b 45%\b\b\b\b 46%\b\b\b\b\b  OK \n",
            "Extracting  Folio Leaf Dataset/Folio/chocolate tree/IMG_5755.JPG         \b\b\b\b 46%\b\b\b\b\b  OK \n",
            "Extracting  Folio Leaf Dataset/Folio/chocolate tree/IMG_5757.JPG         \b\b\b\b 46%\b\b\b\b\b  OK \n",
            "Extracting  Folio Leaf Dataset/Folio/chocolate tree/IMG_5758.JPG         \b\b\b\b 46%\b\b\b\b 47%\b\b\b\b\b  OK \n",
            "Extracting  Folio Leaf Dataset/Folio/chocolate tree/IMG_5759.JPG         \b\b\b\b 47%\b\b\b\b\b  OK \n",
            "Extracting  Folio Leaf Dataset/Folio/chocolate tree/IMG_5760.JPG         \b\b\b\b 47%\b\b\b\b 48%\b\b\b\b\b  OK \n",
            "Extracting  Folio Leaf Dataset/Folio/chocolate tree/IMG_5761.JPG         \b\b\b\b 48%\b\b\b\b\b  OK \n",
            "Extracting  Folio Leaf Dataset/Folio/chocolate tree/IMG_5762.JPG         \b\b\b\b 48%\b\b\b\b 49%\b\b\b\b\b  OK \n",
            "Extracting  Folio Leaf Dataset/Folio/chocolate tree/IMG_5763.JPG         \b\b\b\b 49%\b\b\b\b 50%\b\b\b\b\b  OK \n",
            "Extracting  Folio Leaf Dataset/Folio/chocolate tree/IMG_5765.JPG         \b\b\b\b 50%\b\b\b\b\b  OK \n",
            "Extracting  Folio Leaf Dataset/Folio/chocolate tree/IMG_5766.JPG         \b\b\b\b 50%\b\b\b\b\b  OK \n",
            "Extracting  Folio Leaf Dataset/Folio/chocolate tree/IMG_5768.JPG         \b\b\b\b 50%\b\b\b\b 51%\b\b\b\b\b  OK \n",
            "Extracting  Folio Leaf Dataset/Folio/chocolate tree/IMG_5769.JPG         \b\b\b\b 51%\b\b\b\b\b  OK \n",
            "Extracting  Folio Leaf Dataset/Folio/chocolate tree/IMG_5770.JPG         \b\b\b\b 51%\b\b\b\b 52%\b\b\b\b\b  OK \n",
            "Extracting  Folio Leaf Dataset/Folio/chocolate tree/IMG_5771.JPG         \b\b\b\b 52%\b\b\b\b\b  OK \n",
            "Extracting  Folio Leaf Dataset/Folio/chocolate tree/IMG_5772.JPG         \b\b\b\b 52%\b\b\b\b 53%\b\b\b\b\b  OK \n",
            "Extracting  Folio Leaf Dataset/Folio/chrysanthemum/20150325_084118.jpg     \b\b\b\b 53%\b\b\b\b\b  OK \n",
            "Extracting  Folio Leaf Dataset/Folio/chrysanthemum/20150325_084128.jpg     \b\b\b\b 53%\b\b\b\b\b  OK \n",
            "Extracting  Folio Leaf Dataset/Folio/chrysanthemum/20150325_084139.jpg     \b\b\b\b 53%\b\b\b\b\b  OK \n",
            "Extracting  Folio Leaf Dataset/Folio/chrysanthemum/20150325_084150.jpg     \b\b\b\b 53%\b\b\b\b\b  OK \n",
            "Extracting  Folio Leaf Dataset/Folio/chrysanthemum/20150325_084205.jpg     \b\b\b\b 53%\b\b\b\b\b  OK \n",
            "Extracting  Folio Leaf Dataset/Folio/chrysanthemum/20150325_084230.jpg     \b\b\b\b 53%\b\b\b\b 54%\b\b\b\b\b  OK \n",
            "Extracting  Folio Leaf Dataset/Folio/chrysanthemum/20150325_084243.jpg     \b\b\b\b 54%\b\b\b\b\b  OK \n",
            "Extracting  Folio Leaf Dataset/Folio/chrysanthemum/20150325_084319.jpg     \b\b\b\b 54%\b\b\b\b\b  OK \n",
            "Extracting  Folio Leaf Dataset/Folio/chrysanthemum/20150527_093140.jpg     \b\b\b\b 54%\b\b\b\b 55%\b\b\b\b\b  OK \n",
            "Extracting  Folio Leaf Dataset/Folio/chrysanthemum/IMG_5374.JPG          \b\b\b\b 55%\b\b\b\b\b  OK \n",
            "Extracting  Folio Leaf Dataset/Folio/chrysanthemum/IMG_5377.JPG          \b\b\b\b 55%\b\b\b\b\b  OK \n",
            "Extracting  Folio Leaf Dataset/Folio/chrysanthemum/IMG_5379.JPG          \b\b\b\b 55%\b\b\b\b\b  OK \n",
            "Extracting  Folio Leaf Dataset/Folio/chrysanthemum/IMG_5381.JPG          \b\b\b\b 55%\b\b\b\b\b  OK \n",
            "Extracting  Folio Leaf Dataset/Folio/chrysanthemum/IMG_5384.JPG          \b\b\b\b 55%\b\b\b\b\b  OK \n",
            "Extracting  Folio Leaf Dataset/Folio/chrysanthemum/IMG_5390.JPG          \b\b\b\b 55%\b\b\b\b\b  OK \n",
            "Extracting  Folio Leaf Dataset/Folio/chrysanthemum/IMG_5393.JPG          \b\b\b\b 55%\b\b\b\b\b  OK \n",
            "Extracting  Folio Leaf Dataset/Folio/chrysanthemum/IMG_5394.JPG          \b\b\b\b 55%\b\b\b\b\b  OK \n",
            "Extracting  Folio Leaf Dataset/Folio/chrysanthemum/IMG_5397.JPG          \b\b\b\b 55%\b\b\b\b\b  OK \n",
            "Extracting  Folio Leaf Dataset/Folio/chrysanthemum/IMG_5399.JPG          \b\b\b\b 55%\b\b\b\b\b  OK \n",
            "Extracting  Folio Leaf Dataset/Folio/chrysanthemum/IMG_5400.JPG          \b\b\b\b 55%\b\b\b\b\b  OK \n",
            "Extracting  Folio Leaf Dataset/Folio/coeur demoiselle/20150319_120951.jpg     \b\b\b\b 55%\b\b\b\b\b  OK \n",
            "Extracting  Folio Leaf Dataset/Folio/coeur demoiselle/20150319_121004.jpg     \b\b\b\b 55%\b\b\b\b 56%\b\b\b\b\b  OK \n",
            "Extracting  Folio Leaf Dataset/Folio/coeur demoiselle/20150319_121026.jpg     \b\b\b\b 56%\b\b\b\b\b  OK \n",
            "Extracting  Folio Leaf Dataset/Folio/coeur demoiselle/20150319_121039.jpg     \b\b\b\b 56%\b\b\b\b\b  OK \n",
            "Extracting  Folio Leaf Dataset/Folio/coeur demoiselle/20150319_121119.jpg     \b\b\b\b 56%\b\b\b\b\b  OK \n",
            "Extracting  Folio Leaf Dataset/Folio/coeur demoiselle/20150319_121130.jpg     \b\b\b\b 56%\b\b\b\b\b  OK \n",
            "Extracting  Folio Leaf Dataset/Folio/coeur demoiselle/20150319_121145.jpg     \b\b\b\b 56%\b\b\b\b\b  OK \n",
            "Extracting  Folio Leaf Dataset/Folio/coeur demoiselle/20150319_121200.jpg     \b\b\b\b 56%\b\b\b\b\b  OK \n",
            "Extracting  Folio Leaf Dataset/Folio/coeur demoiselle/20150319_121240.jpg     \b\b\b\b 56%\b\b\b\b\b  OK \n",
            "Extracting  Folio Leaf Dataset/Folio/coeur demoiselle/20150319_121256.jpg     \b\b\b\b 56%\b\b\b\b\b  OK \n",
            "Extracting  Folio Leaf Dataset/Folio/coeur demoiselle/20150319_121406.jpg     \b\b\b\b 56%\b\b\b\b\b  OK \n",
            "Extracting  Folio Leaf Dataset/Folio/coeur demoiselle/20150319_121416.jpg     \b\b\b\b 56%\b\b\b\b 57%\b\b\b\b\b  OK \n",
            "Extracting  Folio Leaf Dataset/Folio/coeur demoiselle/20150319_121428.jpg     \b\b\b\b 57%\b\b\b\b\b  OK \n",
            "Extracting  Folio Leaf Dataset/Folio/coeur demoiselle/20150622_121150.jpg     \b\b\b\b 57%\b\b\b\b\b  OK \n",
            "Extracting  Folio Leaf Dataset/Folio/coeur demoiselle/20150622_121200.jpg     \b\b\b\b 57%\b\b\b\b\b  OK \n",
            "Extracting  Folio Leaf Dataset/Folio/coeur demoiselle/20150622_121216.jpg     \b\b\b\b 57%\b\b\b\b 58%\b\b\b\b\b  OK \n",
            "Extracting  Folio Leaf Dataset/Folio/coeur demoiselle/20150622_121229.jpg     \b\b\b\b 58%\b\b\b\b\b  OK \n",
            "Extracting  Folio Leaf Dataset/Folio/coeur demoiselle/20150622_121300.jpg     \b\b\b\b 58%\b\b\b\b 59%\b\b\b\b\b  OK \n",
            "Extracting  Folio Leaf Dataset/Folio/coeur demoiselle/20150622_121315.jpg     \b\b\b\b 59%\b\b\b\b 60%\b\b\b\b\b  OK \n",
            "Extracting  Folio Leaf Dataset/Folio/coeur demoiselle/20150622_121329.jpg     \b\b\b\b 60%\b\b\b\b\b  OK \n",
            "Extracting  Folio Leaf Dataset/Folio/coffee/20150324_154356.jpg          \b\b\b\b 60%\b\b\b\b 61%\b\b\b\b\b  OK \n",
            "Extracting  Folio Leaf Dataset/Folio/coffee/20150324_154415.jpg          \b\b\b\b 61%\b\b\b\b\b  OK \n",
            "Extracting  Folio Leaf Dataset/Folio/coffee/20150324_154432.jpg          \b\b\b\b 61%\b\b\b\b\b  OK \n",
            "Extracting  Folio Leaf Dataset/Folio/coffee/20150324_154455.jpg          \b\b\b\b 61%\b\b\b\b 62%\b\b\b\b\b  OK \n",
            "Extracting  Folio Leaf Dataset/Folio/coffee/20150324_154519.jpg          \b\b\b\b 62%\b\b\b\b\b  OK \n",
            "Extracting  Folio Leaf Dataset/Folio/coffee/20150324_154533.jpg          \b\b\b\b 62%\b\b\b\b\b  OK \n",
            "Extracting  Folio Leaf Dataset/Folio/coffee/20150324_154546.jpg          \b\b\b\b 62%\b\b\b\b 63%\b\b\b\b\b  OK \n",
            "Extracting  Folio Leaf Dataset/Folio/coffee/20150324_154553.jpg          \b\b\b\b 63%\b\b\b\b\b  OK \n",
            "Extracting  Folio Leaf Dataset/Folio/coffee/20150324_154601.jpg          \b\b\b\b 63%\b\b\b\b\b  OK \n",
            "Extracting  Folio Leaf Dataset/Folio/coffee/20150324_154610.jpg          \b\b\b\b 63%\b\b\b\b 64%\b\b\b\b\b  OK \n",
            "Extracting  Folio Leaf Dataset/Folio/coffee/20150324_154645.jpg          \b\b\b\b 64%\b\b\b\b\b  OK \n",
            "Extracting  Folio Leaf Dataset/Folio/coffee/20150324_154733.jpg          \b\b\b\b 64%\b\b\b\b\b  OK \n",
            "Extracting  Folio Leaf Dataset/Folio/coffee/20150324_154748.jpg          \b\b\b\b 64%\b\b\b\b\b  OK \n",
            "Extracting  Folio Leaf Dataset/Folio/coffee/20150324_154837.jpg          \b\b\b\b 64%\b\b\b\b 65%\b\b\b\b\b  OK \n",
            "Extracting  Folio Leaf Dataset/Folio/coffee/20150324_154856.jpg          \b\b\b\b 65%\b\b\b\b\b  OK \n",
            "Extracting  Folio Leaf Dataset/Folio/coffee/20150324_154911.jpg          \b\b\b\b 65%\b\b\b\b 66%\b\b\b\b\b  OK \n",
            "Extracting  Folio Leaf Dataset/Folio/coffee/20150324_154919.jpg          \b\b\b\b 66%\b\b\b\b\b  OK \n",
            "Extracting  Folio Leaf Dataset/Folio/coffee/20150324_154930.jpg          \b\b\b\b 66%\b\b\b\b\b  OK \n",
            "Extracting  Folio Leaf Dataset/Folio/coffee/20150324_154949.jpg          \b\b\b\b 66%\b\b\b\b\b  OK \n",
            "Extracting  Folio Leaf Dataset/Folio/coffee/20150324_155005.jpg          \b\b\b\b 66%\b\b\b\b 67%\b\b\b\b\b  OK \n",
            "Extracting  Folio Leaf Dataset/Folio/croton/20150410_154150.jpg          \b\b\b\b 67%\b\b\b\b\b  OK \n",
            "Extracting  Folio Leaf Dataset/Folio/croton/20150410_154201.jpg          \b\b\b\b 67%\b\b\b\b\b  OK \n",
            "Extracting  Folio Leaf Dataset/Folio/croton/20150410_154211.jpg          \b\b\b\b 67%\b\b\b\b\b  OK \n",
            "Extracting  Folio Leaf Dataset/Folio/croton/20150410_154221.jpg          \b\b\b\b 67%\b\b\b\b 68%\b\b\b\b\b  OK \n",
            "Extracting  Folio Leaf Dataset/Folio/croton/20150410_154232.jpg          \b\b\b\b 68%\b\b\b\b\b  OK \n",
            "Extracting  Folio Leaf Dataset/Folio/croton/20150410_154246.jpg          \b\b\b\b 68%\b\b\b\b\b  OK \n",
            "Extracting  Folio Leaf Dataset/Folio/croton/20150410_154303.jpg          \b\b\b\b 68%\b\b\b\b 69%\b\b\b\b\b  OK \n",
            "Extracting  Folio Leaf Dataset/Folio/croton/20150410_154312.jpg          \b\b\b\b 69%\b\b\b\b\b  OK \n",
            "Extracting  Folio Leaf Dataset/Folio/croton/20150410_154320.jpg          \b\b\b\b 69%\b\b\b\b 70%\b\b\b\b\b  OK \n",
            "Extracting  Folio Leaf Dataset/Folio/croton/20150410_154329.jpg          \b\b\b\b 70%\b\b\b\b\b  OK \n",
            "Extracting  Folio Leaf Dataset/Folio/croton/20150410_154340.jpg          \b\b\b\b 70%\b\b\b\b 71%\b\b\b\b\b  OK \n",
            "Extracting  Folio Leaf Dataset/Folio/croton/20150410_154353.jpg          \b\b\b\b 71%\b\b\b\b\b  OK \n",
            "Extracting  Folio Leaf Dataset/Folio/croton/20150410_154404.jpg          \b\b\b\b 71%\b\b\b\b 72%\b\b\b\b\b  OK \n",
            "Extracting  Folio Leaf Dataset/Folio/croton/20150410_154421.jpg          \b\b\b\b 72%\b\b\b\b 73%\b\b\b\b\b  OK \n",
            "Extracting  Folio Leaf Dataset/Folio/croton/20150410_154433.jpg          \b\b\b\b 73%\b\b\b\b\b  OK \n",
            "Extracting  Folio Leaf Dataset/Folio/croton/20150410_154443.jpg          \b\b\b\b 73%\b\b\b\b 74%\b\b\b\b\b  OK \n",
            "Extracting  Folio Leaf Dataset/Folio/croton/20150410_154454.jpg          \b\b\b\b 74%\b\b\b\b\b  OK \n",
            "Extracting  Folio Leaf Dataset/Folio/croton/20150410_154509.jpg          \b\b\b\b 74%\b\b\b\b 75%\b\b\b\b\b  OK \n",
            "Extracting  Folio Leaf Dataset/Folio/croton/20150410_154519.jpg          \b\b\b\b 75%\b\b\b\b\b  OK \n",
            "Extracting  Folio Leaf Dataset/Folio/croton/20150410_154529.jpg          \b\b\b\b 75%\b\b\b\b 76%\b\b\b\b\b  OK \n",
            "Extracting  Folio Leaf Dataset/Folio/duranta gold/IMG_5428.JPG           \b\b\b\b 76%\b\b\b\b\b  OK \n",
            "Extracting  Folio Leaf Dataset/Folio/duranta gold/IMG_5429.JPG           \b\b\b\b 76%\b\b\b\b\b  OK \n",
            "Extracting  Folio Leaf Dataset/Folio/duranta gold/IMG_5430.JPG           \b\b\b\b 76%\b\b\b\b\b  OK \n",
            "Extracting  Folio Leaf Dataset/Folio/duranta gold/IMG_5432.JPG           \b\b\b\b 76%\b\b\b\b\b  OK \n",
            "Extracting  Folio Leaf Dataset/Folio/duranta gold/IMG_5434.JPG           \b\b\b\b 76%\b\b\b\b\b  OK \n",
            "Extracting  Folio Leaf Dataset/Folio/duranta gold/IMG_5438.JPG           \b\b\b\b 76%\b\b\b\b\b  OK \n",
            "Extracting  Folio Leaf Dataset/Folio/duranta gold/IMG_5440.JPG           \b\b\b\b 76%\b\b\b\b\b  OK \n",
            "Extracting  Folio Leaf Dataset/Folio/duranta gold/IMG_5442.JPG           \b\b\b\b 76%\b\b\b\b\b  OK \n",
            "Extracting  Folio Leaf Dataset/Folio/duranta gold/IMG_5444.JPG           \b\b\b\b 76%\b\b\b\b\b  OK \n",
            "Extracting  Folio Leaf Dataset/Folio/duranta gold/IMG_5447.JPG           \b\b\b\b 76%\b\b\b\b\b  OK \n",
            "Extracting  Folio Leaf Dataset/Folio/duranta gold/IMG_5449.JPG           \b\b\b\b 76%\b\b\b\b\b  OK \n",
            "Extracting  Folio Leaf Dataset/Folio/duranta gold/IMG_5660.JPG           \b\b\b\b 76%\b\b\b\b 77%\b\b\b\b\b  OK \n",
            "Extracting  Folio Leaf Dataset/Folio/duranta gold/IMG_5661.JPG           \b\b\b\b 77%\b\b\b\b\b  OK \n",
            "Extracting  Folio Leaf Dataset/Folio/duranta gold/IMG_5662.JPG           \b\b\b\b 77%\b\b\b\b\b  OK \n",
            "Extracting  Folio Leaf Dataset/Folio/duranta gold/IMG_5663.JPG           \b\b\b\b 77%\b\b\b\b 78%\b\b\b\b\b  OK \n",
            "Extracting  Folio Leaf Dataset/Folio/duranta gold/IMG_5664.JPG           \b\b\b\b 78%\b\b\b\b\b  OK \n",
            "Extracting  Folio Leaf Dataset/Folio/duranta gold/IMG_5665.JPG           \b\b\b\b 78%\b\b\b\b\b  OK \n",
            "Extracting  Folio Leaf Dataset/Folio/duranta gold/IMG_5666.JPG           \b\b\b\b 78%\b\b\b\b 79%\b\b\b\b\b  OK \n",
            "Extracting  Folio Leaf Dataset/Folio/duranta gold/IMG_5667.JPG           \b\b\b\b 79%\b\b\b\b\b  OK \n",
            "Extracting  Folio Leaf Dataset/Folio/duranta gold/IMG_5668.JPG           \b\b\b\b 79%\b\b\b\b 80%\b\b\b\b\b  OK \n",
            "Extracting  Folio Leaf Dataset/Folio/eggplant/20150324_151508.jpg        \b\b\b\b 80%\b\b\b\b\b  OK \n",
            "Extracting  Folio Leaf Dataset/Folio/eggplant/20150324_151519.jpg        \b\b\b\b 80%\b\b\b\b 81%\b\b\b\b\b  OK \n",
            "Extracting  Folio Leaf Dataset/Folio/eggplant/20150324_151533.jpg        \b\b\b\b 81%\b\b\b\b 82%\b\b\b\b\b  OK \n",
            "Extracting  Folio Leaf Dataset/Folio/eggplant/20150324_151549.jpg        \b\b\b\b 82%\b\b\b\b\b  OK \n",
            "Extracting  Folio Leaf Dataset/Folio/eggplant/20150324_151559.jpg        \b\b\b\b 82%\b\b\b\b 83%\b\b\b\b\b  OK \n",
            "Extracting  Folio Leaf Dataset/Folio/eggplant/20150324_151609.jpg        \b\b\b\b 83%\b\b\b\b 84%\b\b\b\b\b  OK \n",
            "Extracting  Folio Leaf Dataset/Folio/eggplant/20150324_151621.jpg        \b\b\b\b 84%\b\b\b\b\b  OK \n",
            "Extracting  Folio Leaf Dataset/Folio/eggplant/20150324_151655.jpg        \b\b\b\b 84%\b\b\b\b 85%\b\b\b\b\b  OK \n",
            "Extracting  Folio Leaf Dataset/Folio/eggplant/20150324_151711.jpg        \b\b\b\b 85%\b\b\b\b 86%\b\b\b\b\b  OK \n",
            "Extracting  Folio Leaf Dataset/Folio/eggplant/20150324_151721.jpg        \b\b\b\b 86%\b\b\b\b\b  OK \n",
            "Extracting  Folio Leaf Dataset/Folio/eggplant/20150324_151732.jpg        \b\b\b\b 86%\b\b\b\b 87%\b\b\b\b\b  OK \n",
            "Extracting  Folio Leaf Dataset/Folio/eggplant/IMG_5578.JPG               \b\b\b\b 87%\b\b\b\b\b  OK \n",
            "Extracting  Folio Leaf Dataset/Folio/eggplant/IMG_5579.JPG               \b\b\b\b 87%\b\b\b\b\b  OK \n",
            "Extracting  Folio Leaf Dataset/Folio/eggplant/IMG_5580.JPG               \b\b\b\b 87%\b\b\b\b\b  OK \n",
            "Extracting  Folio Leaf Dataset/Folio/eggplant/IMG_5581.JPG               \b\b\b\b 87%\b\b\b\b 88%\b\b\b\b\b  OK \n",
            "Extracting  Folio Leaf Dataset/Folio/eggplant/IMG_5583.JPG               \b\b\b\b 88%\b\b\b\b\b  OK \n",
            "Extracting  Folio Leaf Dataset/Folio/eggplant/IMG_5584.JPG               \b\b\b\b 88%\b\b\b\b\b  OK \n",
            "Extracting  Folio Leaf Dataset/Folio/eggplant/IMG_5585.JPG               \b\b\b\b 88%\b\b\b\b\b  OK \n",
            "Extracting  Folio Leaf Dataset/Folio/ficus/20150622_121519.jpg           \b\b\b\b 88%\b\b\b\b\b  OK \n",
            "Extracting  Folio Leaf Dataset/Folio/ficus/20150622_121546.jpg           \b\b\b\b 88%\b\b\b\b 89%\b\b\b\b\b  OK \n",
            "Extracting  Folio Leaf Dataset/Folio/ficus/20150622_121600.jpg           \b\b\b\b 89%\b\b\b\b\b  OK \n",
            "Extracting  Folio Leaf Dataset/Folio/ficus/20150622_121612.jpg           \b\b\b\b 89%\b\b\b\b\b  OK \n",
            "Extracting  Folio Leaf Dataset/Folio/ficus/20150622_121630.jpg           \b\b\b\b 89%\b\b\b\b 90%\b\b\b\b\b  OK \n",
            "Extracting  Folio Leaf Dataset/Folio/ficus/20150622_121642.jpg           \b\b\b\b 90%\b\b\b\b\b  OK \n",
            "Extracting  Folio Leaf Dataset/Folio/ficus/20150622_121715.jpg           \b\b\b\b 90%\b\b\b\b 91%\b\b\b\b\b  OK \n",
            "Extracting  Folio Leaf Dataset/Folio/ficus/20150622_121737.jpg           \b\b\b\b 91%\b\b\b\b\b  OK \n",
            "Extracting  Folio Leaf Dataset/Folio/ficus/20150622_121750.jpg           \b\b\b\b 91%\b\b\b\b 92%\b\b\b\b\b  OK \n",
            "Extracting  Folio Leaf Dataset/Folio/ficus/20150622_121800.jpg           \b\b\b\b 92%\b\b\b\b\b  OK \n",
            "Extracting  Folio Leaf Dataset/Folio/ficus/20150622_121822.jpg           \b\b\b\b 92%\b\b\b\b 93%\b\b\b\b\b  OK \n",
            "Extracting  Folio Leaf Dataset/Folio/ficus/20150622_121831.jpg           \b\b\b\b 93%\b\b\b\b\b  OK \n",
            "Extracting  Folio Leaf Dataset/Folio/ficus/20150622_121840.jpg           \b\b\b\b 93%\b\b\b\b\b  OK \n",
            "Extracting  Folio Leaf Dataset/Folio/ficus/20150622_121852.jpg           \b\b\b\b 93%\b\b\b\b 94%\b\b\b\b\b  OK \n",
            "Extracting  Folio Leaf Dataset/Folio/ficus/20150622_121928.jpg           \b\b\b\b 94%\b\b\b\b 95%\b\b\b\b\b  OK \n",
            "Extracting  Folio Leaf Dataset/Folio/ficus/20150622_121937.jpg           \b\b\b\b 95%\b\b\b\b\b  OK \n",
            "Extracting  Folio Leaf Dataset/Folio/ficus/20150622_121948.jpg           \b\b\b\b 95%\b\b\b\b 96%\b\b\b\b\b  OK \n",
            "Extracting  Folio Leaf Dataset/Folio/ficus/20150622_121958.jpg           \b\b\b\b 96%\b\b\b\b\b  OK \n",
            "Extracting  Folio Leaf Dataset/Folio/ficus/20150622_122008.jpg           \b\b\b\b 96%\b\b\b\b 97%\b\b\b\b\b  OK \n",
            "Extracting  Folio Leaf Dataset/Folio/ficus/20150622_122018.jpg           \b\b\b\b 97%\b\b\b\b 98%\b\b\b\b\b  OK \n",
            "Extracting  Folio Leaf Dataset/Folio/fruitcitere/20150325_083822.jpg     \b\b\b\b 98%\b\b\b\b\b  OK \n",
            "Extracting  Folio Leaf Dataset/Folio/fruitcitere/20150325_083836.jpg     \b\b\b\b 98%\b\b\b\b\b  OK \n",
            "Extracting  Folio Leaf Dataset/Folio/fruitcitere/20150325_083849.jpg     \b\b\b\b 98%\b\b\b\b\b  OK \n",
            "Extracting  Folio Leaf Dataset/Folio/fruitcitere/20150325_083911.jpg     \b\b\b\b 99%\b\b\b\b\b  OK \n",
            "Extracting  Folio Leaf Dataset/Folio/fruitcitere/20150325_083925.jpg     \b\b\b\b 99%\b\b\b\b\b  OK \n",
            "Extracting  Folio Leaf Dataset/Folio/fruitcitere/20150325_083938.jpg     \b\b\b\b 99%\b\b\b\b\b  OK \n",
            "Extracting  Folio Leaf Dataset/Folio/fruitcitere/20150325_083952.jpg     \b\b\b\b 99%\b\b\b\b\b  OK \n",
            "Extracting  Folio Leaf Dataset/Folio/fruitcitere/20150325_084005.jpg     \b\b\b\b 99%\n",
            "Folio Leaf Dataset/Folio/fruitcitere/20150325_084005.jpg - checksum error\n",
            "Unexpected end of archive\n",
            "Total errors: 2\n"
          ],
          "name": "stdout"
        }
      ]
    },
    {
      "cell_type": "code",
      "metadata": {
        "id": "uDnIzKA-uYvJ"
      },
      "source": [
        "dir ='/content/gdrive/MyDrive/PythonML/Data/Folio%20Leaf%20Dataset.rar (Unzipped Files)/Folio Leaf Dataset/Folio'\n",
        "categories =['beaumier du perou','eggplant','fruitcitere','guava','hibiscus','betel','rose','chrysanthemum','ficus','duranta gold','ashanti blood','bitter orange','coeur demoiselle','jackfruit',\n",
        "'mulberry leaf','pimento','pomme jacquot','star apple','barbados cherry','sweet olive','croton','thevetia','vieux garcon','chocolate tree','caricature plant','coffee','ketembilla','chinese guava','lychee','geranium','sweet potato','papaya']"
      ],
      "execution_count": 16,
      "outputs": []
    },
    {
      "cell_type": "code",
      "metadata": {
        "colab": {
          "base_uri": "https://localhost:8080/"
        },
        "id": "HEXWximJwpo6",
        "outputId": "fddfb902-61f8-4c74-aff2-fcf10a51dfe9"
      },
      "source": [
        "data=[]\n",
        "for category in categories:\n",
        "  path=os.path.join(dir,category)\n",
        "  label=categories.index(category)\n",
        "\n",
        "  for img in os.listdir(path):\n",
        "    impath=os.path.join(path,img)\n",
        "    folio=cv2.imread(impath,1)\n",
        "    folio=cv2.resize(folio,(70,120))\n",
        "    image=np.array(folio).flatten()\n",
        "    data.append([np.array(image),np.array(label)])\n",
        "  \n",
        "print(len(data))\n"
      ],
      "execution_count": 17,
      "outputs": [
        {
          "output_type": "stream",
          "text": [
            "637\n"
          ],
          "name": "stdout"
        }
      ]
    },
    {
      "cell_type": "code",
      "metadata": {
        "id": "nxWTrfvYzFw_"
      },
      "source": [
        "folio=cv2.imread(impath)\n",
        "folio=cv2.resize(folio,(200,420))\n",
        "plt.imshow(folio)"
      ],
      "execution_count": null,
      "outputs": []
    },
    {
      "cell_type": "code",
      "metadata": {
        "id": "qFjamxSWrgwa"
      },
      "source": [
        "import random\n",
        "random.shuffle(data)\n"
      ],
      "execution_count": 25,
      "outputs": []
    },
    {
      "cell_type": "code",
      "metadata": {
        "id": "EeTzA1QMvLMb"
      },
      "source": [
        "features=[]\n",
        "labels=[]\n",
        "\n",
        "for feature, label in data:\n",
        "  features.append(feature)\n",
        "  labels.append(label)\n",
        "  "
      ],
      "execution_count": 26,
      "outputs": []
    },
    {
      "cell_type": "code",
      "metadata": {
        "id": "HwrwbxxRvneK"
      },
      "source": [
        "print(features)\n",
        "print(labels)"
      ],
      "execution_count": null,
      "outputs": []
    },
    {
      "cell_type": "code",
      "metadata": {
        "id": "bAI8L7Huagy6"
      },
      "source": [
        "\n",
        "X_train, X_test, y_train, y_test = train_test_split(\n",
        "     features,labels, test_size=0.2)"
      ],
      "execution_count": 27,
      "outputs": []
    },
    {
      "cell_type": "code",
      "metadata": {
        "id": "lJB80zwsbGKo",
        "colab": {
          "base_uri": "https://localhost:8080/"
        },
        "outputId": "8726f347-7b5d-4bfb-9d6c-41d3a5a469c0"
      },
      "source": [
        "#train and test\n",
        "knn = KNeighborsClassifier(n_neighbors=3,weights='distance',metric='manhattan')\n",
        "knn.fit(X_train, y_train)\n",
        "y_pred = knn.predict(X_test)\n",
        "print(\"Accuracy:\",metrics.accuracy_score(y_test, y_pred))"
      ],
      "execution_count": 28,
      "outputs": [
        {
          "output_type": "stream",
          "text": [
            "Accuracy: 0.8515625\n"
          ],
          "name": "stdout"
        }
      ]
    },
    {
      "cell_type": "code",
      "metadata": {
        "id": "kTv6FUokds8s"
      },
      "source": [
        "print(y_pred[20:40])\n",
        "print(y_test[20:40])"
      ],
      "execution_count": null,
      "outputs": []
    },
    {
      "cell_type": "code",
      "metadata": {
        "id": "7DCYh0xVfiKV"
      },
      "source": [
        "k_val=[i for i in range(1,50,2)]\n",
        "k_acc_scores=[]\n",
        "for k in k_val:\n",
        "  knn = KNeighborsClassifier(n_neighbors=k,weights='distance',metric='braycurtis')\n",
        "  cv_scores=cross_val_score(knn,X_train, y_train,cv=5,scoring='accuracy')\n",
        "  k_acc_scores.append(cv_scores.mean())\n",
        "k_max=k_val[k_acc_scores.index(max(k_acc_scores))]\n",
        "print(format(k_max))\n",
        "plt.plot(k_val,k_acc_scores)\n",
        "plt.xlabel('K')\n",
        "plt.ylabel('acc')\n",
        "plt.show()\n"
      ],
      "execution_count": null,
      "outputs": []
    },
    {
      "cell_type": "code",
      "metadata": {
        "colab": {
          "base_uri": "https://localhost:8080/"
        },
        "id": "1k2b2wQa3M7P",
        "outputId": "45707799-79c3-4d6a-b6b6-63f1433afb1b"
      },
      "source": [
        "from sklearn import svm\n",
        "svm = svm.LinearSVC()\n",
        "svm.fit(X_train, y_train)\n",
        "y_pred = svm.predict(X_test)\n",
        "print(\"Accuracy:\",metrics.accuracy_score(y_test, y_pred))"
      ],
      "execution_count": 24,
      "outputs": [
        {
          "output_type": "stream",
          "text": [
            "Accuracy: 0.8828125\n"
          ],
          "name": "stdout"
        },
        {
          "output_type": "stream",
          "text": [
            "/usr/local/lib/python3.6/dist-packages/sklearn/svm/_base.py:947: ConvergenceWarning: Liblinear failed to converge, increase the number of iterations.\n",
            "  \"the number of iterations.\", ConvergenceWarning)\n"
          ],
          "name": "stderr"
        }
      ]
    },
    {
      "cell_type": "code",
      "metadata": {
        "colab": {
          "base_uri": "https://localhost:8080/",
          "height": 212
        },
        "id": "u13jFxXB9E7o",
        "outputId": "ea37fef1-4a92-474b-adfe-d04ccf6402c0"
      },
      "source": [
        "impath='/content/gdrive/MyDrive/PythonML/Data/Folio%20Leaf%20Dataset.rar (Unzipped Files)/Folio Leaf Dataset/Plants list.pdf'\n",
        "folio=cv2.imread(impath)\n",
        "folio=cv2.resize(folio,(200,420))\n",
        "plt.imshow(folio)"
      ],
      "execution_count": 32,
      "outputs": [
        {
          "output_type": "error",
          "ename": "error",
          "evalue": "ignored",
          "traceback": [
            "\u001b[0;31m---------------------------------------------------------------------------\u001b[0m",
            "\u001b[0;31merror\u001b[0m                                     Traceback (most recent call last)",
            "\u001b[0;32m<ipython-input-32-0219032c8314>\u001b[0m in \u001b[0;36m<module>\u001b[0;34m()\u001b[0m\n\u001b[1;32m      1\u001b[0m \u001b[0mimpath\u001b[0m\u001b[0;34m=\u001b[0m\u001b[0;34m'/content/gdrive/MyDrive/PythonML/Data/Folio%20Leaf%20Dataset.rar (Unzipped Files)/Folio Leaf Dataset/Plants list.pdf'\u001b[0m\u001b[0;34m\u001b[0m\u001b[0;34m\u001b[0m\u001b[0m\n\u001b[1;32m      2\u001b[0m \u001b[0mfolio\u001b[0m\u001b[0;34m=\u001b[0m\u001b[0mcv2\u001b[0m\u001b[0;34m.\u001b[0m\u001b[0mimread\u001b[0m\u001b[0;34m(\u001b[0m\u001b[0mimpath\u001b[0m\u001b[0;34m)\u001b[0m\u001b[0;34m\u001b[0m\u001b[0;34m\u001b[0m\u001b[0m\n\u001b[0;32m----> 3\u001b[0;31m \u001b[0mfolio\u001b[0m\u001b[0;34m=\u001b[0m\u001b[0mcv2\u001b[0m\u001b[0;34m.\u001b[0m\u001b[0mresize\u001b[0m\u001b[0;34m(\u001b[0m\u001b[0mfolio\u001b[0m\u001b[0;34m,\u001b[0m\u001b[0;34m(\u001b[0m\u001b[0;36m200\u001b[0m\u001b[0;34m,\u001b[0m\u001b[0;36m420\u001b[0m\u001b[0;34m)\u001b[0m\u001b[0;34m)\u001b[0m\u001b[0;34m\u001b[0m\u001b[0;34m\u001b[0m\u001b[0m\n\u001b[0m\u001b[1;32m      4\u001b[0m \u001b[0mplt\u001b[0m\u001b[0;34m.\u001b[0m\u001b[0mimshow\u001b[0m\u001b[0;34m(\u001b[0m\u001b[0mfolio\u001b[0m\u001b[0;34m)\u001b[0m\u001b[0;34m\u001b[0m\u001b[0;34m\u001b[0m\u001b[0m\n",
            "\u001b[0;31merror\u001b[0m: OpenCV(4.1.2) /io/opencv/modules/imgproc/src/resize.cpp:3720: error: (-215:Assertion failed) !ssize.empty() in function 'resize'\n"
          ]
        }
      ]
    },
    {
      "cell_type": "code",
      "metadata": {
        "id": "khGYIIXQ9wDV"
      },
      "source": [
        ""
      ],
      "execution_count": null,
      "outputs": []
    }
  ]
}