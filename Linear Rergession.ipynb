{
  "nbformat": 4,
  "nbformat_minor": 0,
  "metadata": {
    "colab": {
      "name": "Untitled1.ipynb",
      "provenance": [],
      "collapsed_sections": [],
      "authorship_tag": "ABX9TyMnB643E99AL6w9X6eyznbK",
      "include_colab_link": true
    },
    "kernelspec": {
      "name": "python3",
      "display_name": "Python 3"
    }
  },
  "cells": [
    {
      "cell_type": "markdown",
      "metadata": {
        "id": "view-in-github",
        "colab_type": "text"
      },
      "source": [
        "<a href=\"https://colab.research.google.com/github/khoaphamj1505/CS114.L11.KHCL/blob/master/Linear%20Rergession.ipynb\" target=\"_parent\"><img src=\"https://colab.research.google.com/assets/colab-badge.svg\" alt=\"Open In Colab\"/></a>"
      ]
    },
    {
      "cell_type": "code",
      "metadata": {
        "id": "Q9p4rk9ukHeO",
        "outputId": "44950625-80b6-4ad4-87c0-a53b82176114",
        "colab": {
          "base_uri": "https://localhost:8080/",
          "height": 519
        }
      },
      "source": [
        "!wget http://cs.uit.edu.vn/data3.txt\n",
        "import pandas as pd\n",
        "import matplotlib.pyplot as plt\n",
        "from sklearn import datasets, linear_model\n",
        "from sklearn.metrics import mean_squared_error, r2_score\n",
        "import numpy as np\n",
        "df=pd.read_csv('data3.txt', header=None)\n",
        "X=df[0].values\n",
        "Y=df[1].values\n",
        "X=X[:,np.newaxis]\n",
        "X_train=X[:-200]\n",
        "Y_train=Y[:-200]\n",
        "X_test=X[-200:]\n",
        "Y_test=Y[-200:]\n",
        "\n",
        "regr=linear_model.LinearRegression()\n",
        "regr.fit(X_train,Y_train)\n",
        "\n",
        "Y_pred=regr.predict(X_test)\n",
        "\n",
        "print('Coefficients: %.15f' %regr.coef_)\n",
        "print('Mean squared error: %.10f'\n",
        "      % mean_squared_error(Y_test, Y_pred))\n",
        "print('Coefficient of determination: %.10f'\n",
        "      % r2_score(Y_test, Y_pred))\n",
        "plt.scatter(X_test, Y_test,  color='black')\n",
        "plt.plot(X_test, Y_pred, color='red', linewidth=3)\n",
        "\n",
        "\n",
        "plt.show()\n"
      ],
      "execution_count": null,
      "outputs": [
        {
          "output_type": "stream",
          "text": [
            "--2020-10-17 14:04:46--  http://cs.uit.edu.vn/data3.txt\n",
            "Resolving cs.uit.edu.vn (cs.uit.edu.vn)... 118.69.123.142\n",
            "Connecting to cs.uit.edu.vn (cs.uit.edu.vn)|118.69.123.142|:80... connected.\n",
            "HTTP request sent, awaiting response... 200 OK\n",
            "Length: 178891 (175K) [text/plain]\n",
            "Saving to: ‘data3.txt.9’\n",
            "\n",
            "data3.txt.9         100%[===================>] 174.70K  --.-KB/s    in 0.1s    \n",
            "\n",
            "2020-10-17 14:04:46 (1.18 MB/s) - ‘data3.txt.9’ saved [178891/178891]\n",
            "\n",
            "Coefficients: 0.000000092731442\n",
            "Mean squared error: 0.0017720711\n",
            "Coefficient of determination: 0.9941067749\n"
          ],
          "name": "stdout"
        },
        {
          "output_type": "display_data",
          "data": {
            "image/png": "[encoded data removed]",
            "text/plain": [
              "<Figure size 432x288 with 1 Axes>"
            ]
          },
          "metadata": {
            "tags": [],
            "needs_background": "light"
          }
        }
      ]
    },
    {
      "cell_type": "code",
      "metadata": {
        "id": "dg3gISEw0rxr"
      },
      "source": [
        ""
      ],
      "execution_count": null,
      "outputs": []
    }
  ]
}