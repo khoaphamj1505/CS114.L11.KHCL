{
  "nbformat": 4,
  "nbformat_minor": 0,
  "metadata": {
    "colab": {
      "name": "Untitled1.ipynb",
      "provenance": [],
      "collapsed_sections": [],
      "include_colab_link": true
    },
    "kernelspec": {
      "name": "python3",
      "display_name": "Python 3"
    }
  },
  "cells": [
    {
      "cell_type": "markdown",
      "metadata": {
        "id": "view-in-github",
        "colab_type": "text"
      },
      "source": [
        "<a href=\"https://colab.research.google.com/github/khoaphamj1505/CS114.L11.KHCL/blob/master/Linear%20Regression/Linear%20Regression.ipynb\" target=\"_parent\"><img src=\"https://colab.research.google.com/assets/colab-badge.svg\" alt=\"Open In Colab\"/></a>"
      ]
    },
    {
      "cell_type": "markdown",
      "metadata": {
        "id": "3dpRAeXEOl83"
      },
      "source": [
        "###THƯ VIỆN ĐƯỢC SỬ DỤNG"
      ]
    },
    {
      "cell_type": "code",
      "metadata": {
        "id": "TfRPm2xpOlZ1"
      },
      "source": [
        "import pandas as pd\n",
        "import matplotlib.pyplot as plt\n",
        "from sklearn import linear_model\n",
        "from sklearn.metrics import mean_squared_error, r2_score\n",
        "import numpy as np"
      ],
      "execution_count": 13,
      "outputs": []
    },
    {
      "cell_type": "markdown",
      "metadata": {
        "id": "zZ0UypcJO1-e"
      },
      "source": [
        "###ĐỌC DỮ LIỆU TỪ data.txt"
      ]
    },
    {
      "cell_type": "code",
      "metadata": {
        "id": "kHRq_2FBO9TF",
        "outputId": "21ca68c6-d89f-4cfc-ecac-5f6a338fc54f",
        "colab": {
          "base_uri": "https://localhost:8080/",
          "height": 282
        }
      },
      "source": [
        "data=pd.read_csv('https://cs.uit.edu.vn/data.txt',header=None)\n",
        "data.columns=['DATA','TIME']\n",
        "data.describe()"
      ],
      "execution_count": 15,
      "outputs": [
        {
          "output_type": "execute_result",
          "data": {
            "text/html": [
              "<div>\n",
              "<style scoped>\n",
              "    .dataframe tbody tr th:only-of-type {\n",
              "        vertical-align: middle;\n",
              "    }\n",
              "\n",
              "    .dataframe tbody tr th {\n",
              "        vertical-align: top;\n",
              "    }\n",
              "\n",
              "    .dataframe thead th {\n",
              "        text-align: right;\n",
              "    }\n",
              "</style>\n",
              "<table border=\"1\" class=\"dataframe\">\n",
              "  <thead>\n",
              "    <tr style=\"text-align: right;\">\n",
              "      <th></th>\n",
              "      <th>DATA</th>\n",
              "      <th>TIME</th>\n",
              "    </tr>\n",
              "  </thead>\n",
              "  <tbody>\n",
              "    <tr>\n",
              "      <th>count</th>\n",
              "      <td>5.211000e+03</td>\n",
              "      <td>5211.000000</td>\n",
              "    </tr>\n",
              "    <tr>\n",
              "      <th>mean</th>\n",
              "      <td>4.991583e+06</td>\n",
              "      <td>1.363322</td>\n",
              "    </tr>\n",
              "    <tr>\n",
              "      <th>std</th>\n",
              "      <td>2.903517e+06</td>\n",
              "      <td>0.825849</td>\n",
              "    </tr>\n",
              "    <tr>\n",
              "      <th>min</th>\n",
              "      <td>2.390000e+02</td>\n",
              "      <td>0.000028</td>\n",
              "    </tr>\n",
              "    <tr>\n",
              "      <th>25%</th>\n",
              "      <td>2.451362e+06</td>\n",
              "      <td>0.630964</td>\n",
              "    </tr>\n",
              "    <tr>\n",
              "      <th>50%</th>\n",
              "      <td>5.032102e+06</td>\n",
              "      <td>1.355770</td>\n",
              "    </tr>\n",
              "    <tr>\n",
              "      <th>75%</th>\n",
              "      <td>7.523041e+06</td>\n",
              "      <td>2.076820</td>\n",
              "    </tr>\n",
              "    <tr>\n",
              "      <th>max</th>\n",
              "      <td>9.995358e+06</td>\n",
              "      <td>3.315540</td>\n",
              "    </tr>\n",
              "  </tbody>\n",
              "</table>\n",
              "</div>"
            ],
            "text/plain": [
              "               DATA         TIME\n",
              "count  5.211000e+03  5211.000000\n",
              "mean   4.991583e+06     1.363322\n",
              "std    2.903517e+06     0.825849\n",
              "min    2.390000e+02     0.000028\n",
              "25%    2.451362e+06     0.630964\n",
              "50%    5.032102e+06     1.355770\n",
              "75%    7.523041e+06     2.076820\n",
              "max    9.995358e+06     3.315540"
            ]
          },
          "metadata": {
            "tags": []
          },
          "execution_count": 15
        }
      ]
    },
    {
      "cell_type": "markdown",
      "metadata": {
        "id": "JmeMmAxQQpPD"
      },
      "source": [
        "### INPUT DATA VÀO CHƯƠNG TRÌNH"
      ]
    },
    {
      "cell_type": "code",
      "metadata": {
        "id": "5wZecXS1Qpo-"
      },
      "source": [
        "df=pd.read_csv('http://cs.uit.edu.vn/data.txt', header=None)\n",
        "X=df[0].values\n",
        "Y=df[1].values\n",
        "X=X[:,np.newaxis]\n",
        "X_train=X[:-200]\n",
        "Y_train=Y[:-200]\n",
        "X_test=X[-200:]\n",
        "Y_test=Y[-200:]\n",
        "#data3\n",
        "df1=pd.read_csv('http://cs.uit.edu.vn/data3.txt', header=None)\n",
        "X1=df1[0].values\n",
        "Y1=df1[1].values\n",
        "X1=X1[:,np.newaxis]\n",
        "X1_test=X1[-200:]\n",
        "Y1_test=Y1[-200:]"
      ],
      "execution_count": 22,
      "outputs": []
    },
    {
      "cell_type": "markdown",
      "metadata": {
        "id": "qhctVe9JREeJ"
      },
      "source": [
        "###TIẾN HÀNH TRAINING DATA "
      ]
    },
    {
      "cell_type": "code",
      "metadata": {
        "id": "YsebNEq_Syod",
        "outputId": "eecfdc59-1c3a-4f9b-9397-a9b19c41c0fe",
        "colab": {
          "base_uri": "https://localhost:8080/"
        }
      },
      "source": [
        "regr=linear_model.LinearRegression()\n",
        "regr.fit(X_train,Y_train)\n"
      ],
      "execution_count": 23,
      "outputs": [
        {
          "output_type": "execute_result",
          "data": {
            "text/plain": [
              "LinearRegression(copy_X=True, fit_intercept=True, n_jobs=None, normalize=False)"
            ]
          },
          "metadata": {
            "tags": []
          },
          "execution_count": 23
        }
      ]
    },
    {
      "cell_type": "markdown",
      "metadata": {
        "id": "qkeT6eMAToBA"
      },
      "source": [
        "###ĐÁNH GIÁ MODEL"
      ]
    },
    {
      "cell_type": "code",
      "metadata": {
        "id": "Q9p4rk9ukHeO",
        "outputId": "509cae6d-94f9-45cd-ec5c-d4811e143f3b",
        "colab": {
          "base_uri": "https://localhost:8080/",
          "height": 332
        }
      },
      "source": [
        "Y_pred=regr.predict(X1_test)\n",
        "\n",
        "print('Coefficients: %.15f' %regr.coef_)\n",
        "print('Mean squared error: %.10f'\n",
        "      % mean_squared_error(Y1_test, Y_pred))\n",
        "print('Coefficient of determination: %.10f'\n",
        "      % r2_score(Y1_test, Y_pred))\n",
        "plt.scatter(X1_test, Y1_test,  color='black')\n",
        "plt.plot(X1_test, Y_pred, color='red', linewidth=3)\n",
        "\n",
        "plt.show()\n"
      ],
      "execution_count": 24,
      "outputs": [
        {
          "output_type": "stream",
          "text": [
            "Coefficients: 0.000000284005983\n",
            "Mean squared error: 34.6958098262\n",
            "Coefficient of determination: -114.3848858365\n"
          ],
          "name": "stdout"
        },
        {
          "output_type": "display_data",
          "data": {
            "image/png": "[encoded data removed]",
            "text/plain": [
              "<Figure size 432x288 with 1 Axes>"
            ]
          },
          "metadata": {
            "tags": [],
            "needs_background": "light"
          }
        }
      ]
    },
    {
      "cell_type": "markdown",
      "metadata": {
        "id": "_6p0ESu5V37i"
      },
      "source": [
        "### TIẾN HÀNH DỰ ĐOÁN TỪ GIÁ TRỊ CHO TRƯỚC"
      ]
    },
    {
      "cell_type": "code",
      "metadata": {
        "id": "Md6AhZX5VXho",
        "outputId": "c5a99d7f-8fcd-42ce-bd66-d1a918f069d3",
        "colab": {
          "base_uri": "https://localhost:8080/"
        }
      },
      "source": [
        "pre=int(input())\n",
        "pre_model=regr.predict([[pre]])\n",
        "print(pre_model)"
      ],
      "execution_count": 27,
      "outputs": [
        {
          "output_type": "stream",
          "text": [
            "3156644\n",
            "[0.84197204]\n"
          ],
          "name": "stdout"
        }
      ]
    }
  ]
}