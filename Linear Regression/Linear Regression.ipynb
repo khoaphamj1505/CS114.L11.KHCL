{
  "nbformat": 4,
  "nbformat_minor": 0,
  "metadata": {
    "colab": {
      "name": "Untitled1.ipynb",
      "provenance": [],
      "collapsed_sections": [],
      "include_colab_link": true
    },
    "kernelspec": {
      "name": "python3",
      "display_name": "Python 3"
    }
  },
  "cells": [
    {
      "cell_type": "markdown",
      "metadata": {
        "id": "view-in-github",
        "colab_type": "text"
      },
      "source": [
        "<a href=\"https://colab.research.google.com/github/khoaphamj1505/CS114.L11.KHCL/blob/master/Linear%20Regression/Linear%20Regression.ipynb\" target=\"_parent\"><img src=\"https://colab.research.google.com/assets/colab-badge.svg\" alt=\"Open In Colab\"/></a>"
      ]
    },
    {
      "cell_type": "markdown",
      "metadata": {
        "id": "3dpRAeXEOl83"
      },
      "source": [
        "###THƯ VIỆN ĐƯỢC SỬ DỤNG"
      ]
    },
    {
      "cell_type": "code",
      "metadata": {
        "id": "TfRPm2xpOlZ1"
      },
      "source": [
        "import pandas as pd\n",
        "import matplotlib.pyplot as plt\n",
        "from sklearn import linear_model\n",
        "from sklearn.metrics import mean_squared_error, r2_score\n",
        "import numpy as np"
      ],
      "execution_count": 94,
      "outputs": []
    },
    {
      "cell_type": "markdown",
      "metadata": {
        "id": "zZ0UypcJO1-e"
      },
      "source": [
        "###ĐỌC DỮ LIỆU TỪ data.txt"
      ]
    },
    {
      "cell_type": "code",
      "metadata": {
        "id": "kHRq_2FBO9TF",
        "colab": {
          "base_uri": "https://localhost:8080/"
        },
        "outputId": "1258d4ec-4f6c-4ff2-8a7f-f594989c0f2f"
      },
      "source": [
        "!wget http://cs.uit.edu.vn/data.txt\n",
        "data = pd.read_csv('data.txt', header = None)\n",
        "X1 = data[0].values\n",
        "Y1 = data[1].values\n",
        "print(data)"
      ],
      "execution_count": 122,
      "outputs": [
        {
          "output_type": "stream",
          "text": [
            "--2020-11-22 04:19:15--  http://cs.uit.edu.vn/data.txt\n",
            "Resolving cs.uit.edu.vn (cs.uit.edu.vn)... 118.69.123.142\n",
            "Connecting to cs.uit.edu.vn (cs.uit.edu.vn)|118.69.123.142|:80... connected.\n",
            "HTTP request sent, awaiting response... 200 OK\n",
            "Length: 84410 (82K) [text/plain]\n",
            "Saving to: ‘data.txt.17’\n",
            "\n",
            "data.txt.17         100%[===================>]  82.43K   184KB/s    in 0.4s    \n",
            "\n",
            "2020-11-22 04:19:16 (184 KB/s) - ‘data.txt.17’ saved [84410/84410]\n",
            "\n",
            "            0         1\n",
            "0     4032139  1.200580\n",
            "1     2055486  0.509774\n",
            "2     5626651  1.476080\n",
            "3       42065  0.007651\n",
            "4     6297788  1.661560\n",
            "...       ...       ...\n",
            "5206  6600098  1.804520\n",
            "5207  5339132  1.450310\n",
            "5208  4794647  1.293070\n",
            "5209  4440131  1.196530\n",
            "5210  2033708  0.517288\n",
            "\n",
            "[5211 rows x 2 columns]\n"
          ],
          "name": "stdout"
        }
      ]
    },
    {
      "cell_type": "markdown",
      "metadata": {
        "id": "WGaoSmkY7Tnq"
      },
      "source": [
        "###ĐỌC DỮ LIỆU TỪ DATA3.TXT"
      ]
    },
    {
      "cell_type": "code",
      "metadata": {
        "id": "dg_vc8U-7QBu",
        "colab": {
          "base_uri": "https://localhost:8080/"
        },
        "outputId": "93a5a851-9879-4522-d23c-08cb48426671"
      },
      "source": [
        "!wget http://cs.uit.edu.vn/data3.txt\n",
        "data3=pd.read_csv('data3.txt',header=None)\n",
        "X2=data3[0].values\n",
        "Y2=data3[1].values\n",
        "print(data3)"
      ],
      "execution_count": 120,
      "outputs": [
        {
          "output_type": "stream",
          "text": [
            "--2020-11-22 04:18:59--  http://cs.uit.edu.vn/data3.txt\n",
            "Resolving cs.uit.edu.vn (cs.uit.edu.vn)... 118.69.123.142\n",
            "Connecting to cs.uit.edu.vn (cs.uit.edu.vn)|118.69.123.142|:80... connected.\n",
            "HTTP request sent, awaiting response... 200 OK\n",
            "Length: 178891 (175K) [text/plain]\n",
            "Saving to: ‘data3.txt.9’\n",
            "\n",
            "data3.txt.9         100%[===================>] 174.70K   261KB/s    in 0.7s    \n",
            "\n",
            "2020-11-22 04:19:00 (261 KB/s) - ‘data3.txt.9’ saved [178891/178891]\n",
            "\n",
            "              0        1\n",
            "0      37837612  4.12166\n",
            "1      37395246  3.92089\n",
            "2      36610827  3.21540\n",
            "3      29555651  2.54506\n",
            "4      25928216  2.21831\n",
            "...         ...      ...\n",
            "10585  26872494  2.35117\n",
            "10586  20753811  1.79155\n",
            "10587  33520323  2.90918\n",
            "10588  21243264  1.80292\n",
            "10589  21380484  1.82795\n",
            "\n",
            "[10590 rows x 2 columns]\n"
          ],
          "name": "stdout"
        }
      ]
    },
    {
      "cell_type": "markdown",
      "metadata": {
        "id": "JmeMmAxQQpPD"
      },
      "source": [
        "### INPUT DATA VÀO CHƯƠNG TRÌNH"
      ]
    },
    {
      "cell_type": "code",
      "metadata": {
        "id": "5wZecXS1Qpo-"
      },
      "source": [
        "X1=X1[:,np.newaxis]\n",
        "\n",
        "X1_train=X1[:-200]\n",
        "Y1_train=Y1[:-200]\n",
        "\n",
        "X1_test=X1[-200:]\n",
        "Y1_test=Y1[-200:]\n",
        "\n",
        "X2=X2[:,np.newaxis]"
      ],
      "execution_count": 124,
      "outputs": []
    },
    {
      "cell_type": "markdown",
      "metadata": {
        "id": "qhctVe9JREeJ"
      },
      "source": [
        "###TIẾN HÀNH TRAINING DATA "
      ]
    },
    {
      "cell_type": "code",
      "metadata": {
        "id": "YsebNEq_Syod",
        "colab": {
          "base_uri": "https://localhost:8080/"
        },
        "outputId": "e80ded57-256a-43c3-c3a9-3241f79d3ab9"
      },
      "source": [
        "regr=linear_model.LinearRegression()\n",
        "regr.fit(X1_train,Y1_train)\n"
      ],
      "execution_count": 125,
      "outputs": [
        {
          "output_type": "execute_result",
          "data": {
            "text/plain": [
              "LinearRegression(copy_X=True, fit_intercept=True, n_jobs=None, normalize=False)"
            ]
          },
          "metadata": {
            "tags": []
          },
          "execution_count": 125
        }
      ]
    },
    {
      "cell_type": "markdown",
      "metadata": {
        "id": "qkeT6eMAToBA"
      },
      "source": [
        "###ĐÁNH GIÁ MODEL"
      ]
    },
    {
      "cell_type": "code",
      "metadata": {
        "id": "Q9p4rk9ukHeO",
        "colab": {
          "base_uri": "https://localhost:8080/",
          "height": 328
        },
        "outputId": "691bbf27-2eff-4906-e94a-8e5de4fd6c11"
      },
      "source": [
        "Y1_pred=regr.predict(X1_test)\n",
        "\n",
        "print('Coefficients: %.15f' %regr.coef_)\n",
        "print('Mean squared error: %.10f'\n",
        "      % mean_squared_error(Y1_test, Y1_pred))\n",
        "print('Coefficient of determination: %.10f'\n",
        "      % r2_score(Y1_test, Y1_pred))\n",
        "plt.scatter(X1_test, Y1_test,  color='black')\n",
        "plt.plot(X1_test, Y1_pred, color='red', linewidth=3)\n",
        "\n",
        "plt.show()\n"
      ],
      "execution_count": 126,
      "outputs": [
        {
          "output_type": "stream",
          "text": [
            "Coefficients: 0.000000284005983\n",
            "Mean squared error: 0.0007216618\n",
            "Coefficient of determination: 0.9988807053\n"
          ],
          "name": "stdout"
        },
        {
          "output_type": "display_data",
          "data": {
            "image/png": "[encoded data removed]",
            "text/plain": [
              "<Figure size 432x288 with 1 Axes>"
            ]
          },
          "metadata": {
            "tags": [],
            "needs_background": "light"
          }
        }
      ]
    },
    {
      "cell_type": "markdown",
      "metadata": {
        "id": "32_vlaMV90ZH"
      },
      "source": [
        "###ĐÁNH GIÁ MODEL VỚI BỘ DATA3"
      ]
    },
    {
      "cell_type": "code",
      "metadata": {
        "id": "aZKq9TtF9vqh",
        "colab": {
          "base_uri": "https://localhost:8080/",
          "height": 328
        },
        "outputId": "886bf198-cdfc-4516-b434-bcabc9f65d9e"
      },
      "source": [
        "Y2_pred=regr.predict(X2)\n",
        "print('Coefficients: %.15f' %regr.coef_)\n",
        "print('Mean squared error: %.10f'\n",
        "      % mean_squared_error(Y2, Y2_pred))\n",
        "print('Coefficient of determination: %.10f'\n",
        "      % r2_score(Y2, Y2_pred))\n",
        "plt.scatter(X2, Y2,  color='black')\n",
        "plt.plot(X2, Y2_pred, color='red', linewidth=3)\n",
        "\n",
        "plt.show()"
      ],
      "execution_count": 128,
      "outputs": [
        {
          "output_type": "stream",
          "text": [
            "Coefficients: 0.000000284005983\n",
            "Mean squared error: 35.0982671859\n",
            "Coefficient of determination: -120.5861628198\n"
          ],
          "name": "stdout"
        },
        {
          "output_type": "display_data",
          "data": {
            "image/png": "[encoded data removed]",
            "text/plain": [
              "<Figure size 432x288 with 1 Axes>"
            ]
          },
          "metadata": {
            "tags": [],
            "needs_background": "light"
          }
        }
      ]
    },
    {
      "cell_type": "markdown",
      "metadata": {
        "id": "_6p0ESu5V37i"
      },
      "source": [
        "### TIẾN HÀNH DỰ ĐOÁN TỪ GIÁ TRỊ CHO TRƯỚC"
      ]
    },
    {
      "cell_type": "code",
      "metadata": {
        "id": "Md6AhZX5VXho",
        "colab": {
          "base_uri": "https://localhost:8080/"
        },
        "outputId": "5df3ca83-083d-41ba-ed75-9620ec3e14dc"
      },
      "source": [
        "pre=int(input())\n",
        "pre_model=regr.predict([[pre]])\n",
        "print(pre_model)"
      ],
      "execution_count": 129,
      "outputs": [
        {
          "output_type": "stream",
          "text": [
            "345345\n",
            "[0.0435463]\n"
          ],
          "name": "stdout"
        }
      ]
    }
  ]
}