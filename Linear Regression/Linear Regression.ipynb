{
  "nbformat": 4,
  "nbformat_minor": 0,
  "metadata": {
    "colab": {
      "name": "Untitled1.ipynb",
      "provenance": [],
      "collapsed_sections": [],
      "include_colab_link": true
    },
    "kernelspec": {
      "name": "python3",
      "display_name": "Python 3"
    }
  },
  "cells": [
    {
      "cell_type": "markdown",
      "metadata": {
        "id": "view-in-github",
        "colab_type": "text"
      },
      "source": [
        "<a href=\"https://colab.research.google.com/github/khoaphamj1505/CS114.L11.KHCL/blob/master/Linear%20Regression/Linear%20Regression.ipynb\" target=\"_parent\"><img src=\"https://colab.research.google.com/assets/colab-badge.svg\" alt=\"Open In Colab\"/></a>"
      ]
    },
    {
      "cell_type": "markdown",
      "metadata": {
        "id": "3dpRAeXEOl83"
      },
      "source": [
        "###THƯ VIỆN ĐƯỢC SỬ DỤNG"
      ]
    },
    {
      "cell_type": "code",
      "metadata": {
        "id": "TfRPm2xpOlZ1"
      },
      "source": [
        "import pandas as pd\n",
        "import matplotlib.pyplot as plt\n",
        "from sklearn import linear_model\n",
        "from sklearn.metrics import mean_squared_error, r2_score\n",
        "import numpy as np"
      ],
      "execution_count": 2,
      "outputs": []
    },
    {
      "cell_type": "markdown",
      "metadata": {
        "id": "zZ0UypcJO1-e"
      },
      "source": [
        "###ĐỌC DỮ LIỆU TỪ data.txt"
      ]
    },
    {
      "cell_type": "code",
      "metadata": {
        "id": "kHRq_2FBO9TF",
        "colab": {
          "base_uri": "https://localhost:8080/",
          "height": 286
        },
        "outputId": "4b4ccc95-9966-4023-d426-44aebb7e3f54"
      },
      "source": [
        "data=pd.read_csv('https://cs.uit.edu.vn/data.txt',header=None)\n",
        "data.columns=['DATA','TIME']\n",
        "data.describe()"
      ],
      "execution_count": 3,
      "outputs": [
        {
          "output_type": "execute_result",
          "data": {
            "text/html": [
              "<div>\n",
              "<style scoped>\n",
              "    .dataframe tbody tr th:only-of-type {\n",
              "        vertical-align: middle;\n",
              "    }\n",
              "\n",
              "    .dataframe tbody tr th {\n",
              "        vertical-align: top;\n",
              "    }\n",
              "\n",
              "    .dataframe thead th {\n",
              "        text-align: right;\n",
              "    }\n",
              "</style>\n",
              "<table border=\"1\" class=\"dataframe\">\n",
              "  <thead>\n",
              "    <tr style=\"text-align: right;\">\n",
              "      <th></th>\n",
              "      <th>DATA</th>\n",
              "      <th>TIME</th>\n",
              "    </tr>\n",
              "  </thead>\n",
              "  <tbody>\n",
              "    <tr>\n",
              "      <th>count</th>\n",
              "      <td>5.211000e+03</td>\n",
              "      <td>5211.000000</td>\n",
              "    </tr>\n",
              "    <tr>\n",
              "      <th>mean</th>\n",
              "      <td>4.991583e+06</td>\n",
              "      <td>1.363322</td>\n",
              "    </tr>\n",
              "    <tr>\n",
              "      <th>std</th>\n",
              "      <td>2.903517e+06</td>\n",
              "      <td>0.825849</td>\n",
              "    </tr>\n",
              "    <tr>\n",
              "      <th>min</th>\n",
              "      <td>2.390000e+02</td>\n",
              "      <td>0.000028</td>\n",
              "    </tr>\n",
              "    <tr>\n",
              "      <th>25%</th>\n",
              "      <td>2.451362e+06</td>\n",
              "      <td>0.630964</td>\n",
              "    </tr>\n",
              "    <tr>\n",
              "      <th>50%</th>\n",
              "      <td>5.032102e+06</td>\n",
              "      <td>1.355770</td>\n",
              "    </tr>\n",
              "    <tr>\n",
              "      <th>75%</th>\n",
              "      <td>7.523041e+06</td>\n",
              "      <td>2.076820</td>\n",
              "    </tr>\n",
              "    <tr>\n",
              "      <th>max</th>\n",
              "      <td>9.995358e+06</td>\n",
              "      <td>3.315540</td>\n",
              "    </tr>\n",
              "  </tbody>\n",
              "</table>\n",
              "</div>"
            ],
            "text/plain": [
              "               DATA         TIME\n",
              "count  5.211000e+03  5211.000000\n",
              "mean   4.991583e+06     1.363322\n",
              "std    2.903517e+06     0.825849\n",
              "min    2.390000e+02     0.000028\n",
              "25%    2.451362e+06     0.630964\n",
              "50%    5.032102e+06     1.355770\n",
              "75%    7.523041e+06     2.076820\n",
              "max    9.995358e+06     3.315540"
            ]
          },
          "metadata": {
            "tags": []
          },
          "execution_count": 3
        }
      ]
    },
    {
      "cell_type": "code",
      "metadata": {
        "id": "y49vsNAL7tCs",
        "outputId": "ba37116a-9873-4d68-a11a-0a595287037a",
        "colab": {
          "base_uri": "https://localhost:8080/"
        }
      },
      "source": [
        "print(data)"
      ],
      "execution_count": 4,
      "outputs": [
        {
          "output_type": "stream",
          "text": [
            "         DATA      TIME\n",
            "0     4032139  1.200580\n",
            "1     2055486  0.509774\n",
            "2     5626651  1.476080\n",
            "3       42065  0.007651\n",
            "4     6297788  1.661560\n",
            "...       ...       ...\n",
            "5206  6600098  1.804520\n",
            "5207  5339132  1.450310\n",
            "5208  4794647  1.293070\n",
            "5209  4440131  1.196530\n",
            "5210  2033708  0.517288\n",
            "\n",
            "[5211 rows x 2 columns]\n"
          ],
          "name": "stdout"
        }
      ]
    },
    {
      "cell_type": "markdown",
      "metadata": {
        "id": "WGaoSmkY7Tnq"
      },
      "source": [
        "###ĐỌC DỮ LIỆU TỪ DATA3.TXT"
      ]
    },
    {
      "cell_type": "code",
      "metadata": {
        "id": "dg_vc8U-7QBu",
        "outputId": "5875c4a7-7fe2-4ab5-ab01-66d90e4846c6",
        "colab": {
          "base_uri": "https://localhost:8080/",
          "height": 339
        }
      },
      "source": [
        "data3=pd.read_csv('https://cs.uit.edu.vn/data3.txt',header=None)\n",
        "data3.column=['DATA3','TIME']\n",
        "data3.describe()"
      ],
      "execution_count": 7,
      "outputs": [
        {
          "output_type": "stream",
          "text": [
            "/usr/local/lib/python3.6/dist-packages/ipykernel_launcher.py:2: UserWarning: Pandas doesn't allow columns to be created via a new attribute name - see https://pandas.pydata.org/pandas-docs/stable/indexing.html#attribute-access\n",
            "  \n"
          ],
          "name": "stderr"
        },
        {
          "output_type": "execute_result",
          "data": {
            "text/html": [
              "<div>\n",
              "<style scoped>\n",
              "    .dataframe tbody tr th:only-of-type {\n",
              "        vertical-align: middle;\n",
              "    }\n",
              "\n",
              "    .dataframe tbody tr th {\n",
              "        vertical-align: top;\n",
              "    }\n",
              "\n",
              "    .dataframe thead th {\n",
              "        text-align: right;\n",
              "    }\n",
              "</style>\n",
              "<table border=\"1\" class=\"dataframe\">\n",
              "  <thead>\n",
              "    <tr style=\"text-align: right;\">\n",
              "      <th></th>\n",
              "      <th>0</th>\n",
              "      <th>1</th>\n",
              "    </tr>\n",
              "  </thead>\n",
              "  <tbody>\n",
              "    <tr>\n",
              "      <th>count</th>\n",
              "      <td>1.059000e+04</td>\n",
              "      <td>10590.000000</td>\n",
              "    </tr>\n",
              "    <tr>\n",
              "      <th>mean</th>\n",
              "      <td>2.999277e+07</td>\n",
              "      <td>2.642812</td>\n",
              "    </tr>\n",
              "    <tr>\n",
              "      <th>std</th>\n",
              "      <td>5.759381e+06</td>\n",
              "      <td>0.537305</td>\n",
              "    </tr>\n",
              "    <tr>\n",
              "      <th>min</th>\n",
              "      <td>2.000026e+07</td>\n",
              "      <td>1.669640</td>\n",
              "    </tr>\n",
              "    <tr>\n",
              "      <th>25%</th>\n",
              "      <td>2.503806e+07</td>\n",
              "      <td>2.180550</td>\n",
              "    </tr>\n",
              "    <tr>\n",
              "      <th>50%</th>\n",
              "      <td>2.994436e+07</td>\n",
              "      <td>2.639820</td>\n",
              "    </tr>\n",
              "    <tr>\n",
              "      <th>75%</th>\n",
              "      <td>3.500845e+07</td>\n",
              "      <td>3.100155</td>\n",
              "    </tr>\n",
              "    <tr>\n",
              "      <th>max</th>\n",
              "      <td>3.999734e+07</td>\n",
              "      <td>4.287660</td>\n",
              "    </tr>\n",
              "  </tbody>\n",
              "</table>\n",
              "</div>"
            ],
            "text/plain": [
              "                  0             1\n",
              "count  1.059000e+04  10590.000000\n",
              "mean   2.999277e+07      2.642812\n",
              "std    5.759381e+06      0.537305\n",
              "min    2.000026e+07      1.669640\n",
              "25%    2.503806e+07      2.180550\n",
              "50%    2.994436e+07      2.639820\n",
              "75%    3.500845e+07      3.100155\n",
              "max    3.999734e+07      4.287660"
            ]
          },
          "metadata": {
            "tags": []
          },
          "execution_count": 7
        }
      ]
    },
    {
      "cell_type": "markdown",
      "metadata": {
        "id": "JmeMmAxQQpPD"
      },
      "source": [
        "### INPUT DATA VÀO CHƯƠNG TRÌNH"
      ]
    },
    {
      "cell_type": "code",
      "metadata": {
        "id": "5wZecXS1Qpo-"
      },
      "source": [
        "X=df[0].values\n",
        "Y=df[1].values\n",
        "X=X[:,np.newaxis]\n",
        "\n",
        "X_train=X[:-200]\n",
        "Y_train=Y[:-200]\n",
        "\n",
        "X_test=X[-200:]\n",
        "Y_test=Y[-200:]\n",
        "\n",
        "X1=data3[0].values\n",
        "Y1=data3[1].values\n",
        "\n",
        "X1=X1[:,np.newaxis]"
      ],
      "execution_count": 11,
      "outputs": []
    },
    {
      "cell_type": "markdown",
      "metadata": {
        "id": "qhctVe9JREeJ"
      },
      "source": [
        "###TIẾN HÀNH TRAINING DATA "
      ]
    },
    {
      "cell_type": "code",
      "metadata": {
        "id": "YsebNEq_Syod",
        "colab": {
          "base_uri": "https://localhost:8080/"
        },
        "outputId": "a4411315-41c9-412c-f505-a41ecd1098bc"
      },
      "source": [
        "regr=linear_model.LinearRegression()\n",
        "regr.fit(X_train,Y_train)\n"
      ],
      "execution_count": 12,
      "outputs": [
        {
          "output_type": "execute_result",
          "data": {
            "text/plain": [
              "LinearRegression(copy_X=True, fit_intercept=True, n_jobs=None, normalize=False)"
            ]
          },
          "metadata": {
            "tags": []
          },
          "execution_count": 12
        }
      ]
    },
    {
      "cell_type": "markdown",
      "metadata": {
        "id": "qkeT6eMAToBA"
      },
      "source": [
        "###ĐÁNH GIÁ MODEL"
      ]
    },
    {
      "cell_type": "code",
      "metadata": {
        "id": "Q9p4rk9ukHeO",
        "colab": {
          "base_uri": "https://localhost:8080/",
          "height": 328
        },
        "outputId": "0e3a0925-6eba-4abf-ea69-bd8fe56b8245"
      },
      "source": [
        "Y_pred=regr.predict(X_test)\n",
        "\n",
        "print('Coefficients: %.15f' %regr.coef_)\n",
        "print('Mean squared error: %.10f'\n",
        "      % mean_squared_error(Y_test, Y_pred))\n",
        "print('Coefficient of determination: %.10f'\n",
        "      % r2_score(Y_test, Y_pred))\n",
        "plt.scatter(X_test, Y_test,  color='black')\n",
        "plt.plot(X_test, Y_pred, color='red', linewidth=3)\n",
        "\n",
        "plt.show()\n"
      ],
      "execution_count": 15,
      "outputs": [
        {
          "output_type": "stream",
          "text": [
            "Coefficients: 0.000000284005983\n",
            "Mean squared error: 0.0007216618\n",
            "Coefficient of determination: 0.9988807053\n"
          ],
          "name": "stdout"
        },
        {
          "output_type": "display_data",
          "data": {
            "image/png": "[encoded data removed]",
            "text/plain": [
              "<Figure size 432x288 with 1 Axes>"
            ]
          },
          "metadata": {
            "tags": [],
            "needs_background": "light"
          }
        }
      ]
    },
    {
      "cell_type": "markdown",
      "metadata": {
        "id": "32_vlaMV90ZH"
      },
      "source": [
        "###ĐÁNH GIÁ MODEL VỚI BỘ DATA3"
      ]
    },
    {
      "cell_type": "code",
      "metadata": {
        "id": "aZKq9TtF9vqh",
        "outputId": "3ae96891-90d4-427e-a111-4789c390420a",
        "colab": {
          "base_uri": "https://localhost:8080/",
          "height": 328
        }
      },
      "source": [
        "Y1_pred=regr.predict(X1_test)\n",
        "print('Coefficients: %.15f' %regr.coef_)\n",
        "print('Mean squared error: %.10f'\n",
        "      % mean_squared_error(Y1_test, Y1_pred))\n",
        "print('Coefficient of determination: %.10f'\n",
        "      % r2_score(Y1_test, Y1_pred))\n",
        "plt.scatter(X1_test, Y1_test,  color='black')\n",
        "plt.plot(X1_test, Y1_pred, color='red', linewidth=3)\n",
        "\n",
        "plt.show()"
      ],
      "execution_count": 16,
      "outputs": [
        {
          "output_type": "stream",
          "text": [
            "Coefficients: 0.000000284005983\n",
            "Mean squared error: 34.6958098262\n",
            "Coefficient of determination: -114.3848858365\n"
          ],
          "name": "stdout"
        },
        {
          "output_type": "display_data",
          "data": {
            "image/png": "[encoded data removed]",
            "text/plain": [
              "<Figure size 432x288 with 1 Axes>"
            ]
          },
          "metadata": {
            "tags": [],
            "needs_background": "light"
          }
        }
      ]
    },
    {
      "cell_type": "code",
      "metadata": {
        "id": "FAMh7YxE-VF2"
      },
      "source": [
        ""
      ],
      "execution_count": null,
      "outputs": []
    },
    {
      "cell_type": "markdown",
      "metadata": {
        "id": "_6p0ESu5V37i"
      },
      "source": [
        "### TIẾN HÀNH DỰ ĐOÁN TỪ GIÁ TRỊ CHO TRƯỚC"
      ]
    },
    {
      "cell_type": "code",
      "metadata": {
        "id": "Md6AhZX5VXho",
        "colab": {
          "base_uri": "https://localhost:8080/"
        },
        "outputId": "c5a99d7f-8fcd-42ce-bd66-d1a918f069d3"
      },
      "source": [
        "pre=int(input())\n",
        "pre_model=regr.predict([[pre]])\n",
        "print(pre_model)"
      ],
      "execution_count": null,
      "outputs": [
        {
          "output_type": "stream",
          "text": [
            "3156644\n",
            "[0.84197204]\n"
          ],
          "name": "stdout"
        }
      ]
    }
  ]
}