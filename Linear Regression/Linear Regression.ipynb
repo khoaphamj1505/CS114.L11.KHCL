{
  "nbformat": 4,
  "nbformat_minor": 0,
  "metadata": {
    "colab": {
      "name": "Untitled1.ipynb",
      "provenance": [],
      "collapsed_sections": [],
      "include_colab_link": true
    },
    "kernelspec": {
      "name": "python3",
      "display_name": "Python 3"
    }
  },
  "cells": [
    {
      "cell_type": "markdown",
      "metadata": {
        "id": "view-in-github",
        "colab_type": "text"
      },
      "source": [
        "<a href=\"https://colab.research.google.com/github/khoaphamj1505/CS114.L11.KHCL/blob/master/Linear%20Regression/Linear%20Regression.ipynb\" target=\"_parent\"><img src=\"https://colab.research.google.com/assets/colab-badge.svg\" alt=\"Open In Colab\"/></a>"
      ]
    },
    {
      "cell_type": "markdown",
      "metadata": {
        "id": "3dpRAeXEOl83"
      },
      "source": [
        "###THƯ VIỆN ĐƯỢC SỬ DỤNG"
      ]
    },
    {
      "cell_type": "code",
      "metadata": {
        "id": "TfRPm2xpOlZ1"
      },
      "source": [
        "import pandas as pd\n",
        "import matplotlib.pyplot as plt\n",
        "from sklearn import linear_model\n",
        "from sklearn.metrics import mean_squared_error, r2_score\n",
        "import numpy as np\n",
        "from sklearn.model_selection import train_test_split"
      ],
      "execution_count": 5,
      "outputs": []
    },
    {
      "cell_type": "markdown",
      "metadata": {
        "id": "zZ0UypcJO1-e"
      },
      "source": [
        "###ĐỌC DỮ LIỆU TỪ data.txt"
      ]
    },
    {
      "cell_type": "code",
      "metadata": {
        "id": "kHRq_2FBO9TF",
        "colab": {
          "base_uri": "https://localhost:8080/"
        },
        "outputId": "571b3875-a6e6-4889-ca45-86f6605826a6"
      },
      "source": [
        "!wget http://cs.uit.edu.vn/data.txt\n",
        "data = pd.read_csv('data.txt', header = None)\n",
        "X1 = data[0].values\n",
        "Y1 = data[1].values\n",
        "print(data)"
      ],
      "execution_count": 2,
      "outputs": [
        {
          "output_type": "stream",
          "text": [
            "--2020-11-22 14:03:09--  http://cs.uit.edu.vn/data.txt\n",
            "Resolving cs.uit.edu.vn (cs.uit.edu.vn)... 118.69.123.142\n",
            "Connecting to cs.uit.edu.vn (cs.uit.edu.vn)|118.69.123.142|:80... connected.\n",
            "HTTP request sent, awaiting response... 200 OK\n",
            "Length: 84410 (82K) [text/plain]\n",
            "Saving to: ‘data.txt’\n",
            "\n",
            "data.txt            100%[===================>]  82.43K   214KB/s    in 0.4s    \n",
            "\n",
            "2020-11-22 14:03:10 (214 KB/s) - ‘data.txt’ saved [84410/84410]\n",
            "\n",
            "            0         1\n",
            "0     4032139  1.200580\n",
            "1     2055486  0.509774\n",
            "2     5626651  1.476080\n",
            "3       42065  0.007651\n",
            "4     6297788  1.661560\n",
            "...       ...       ...\n",
            "5206  6600098  1.804520\n",
            "5207  5339132  1.450310\n",
            "5208  4794647  1.293070\n",
            "5209  4440131  1.196530\n",
            "5210  2033708  0.517288\n",
            "\n",
            "[5211 rows x 2 columns]\n"
          ],
          "name": "stdout"
        }
      ]
    },
    {
      "cell_type": "markdown",
      "metadata": {
        "id": "WGaoSmkY7Tnq"
      },
      "source": [
        "###ĐỌC DỮ LIỆU TỪ DATA3.TXT"
      ]
    },
    {
      "cell_type": "code",
      "metadata": {
        "id": "dg_vc8U-7QBu",
        "colab": {
          "base_uri": "https://localhost:8080/"
        },
        "outputId": "eebe58ed-cfa7-4aeb-e381-b9f68f3204a4"
      },
      "source": [
        "!wget http://cs.uit.edu.vn/data3.txt\n",
        "data3=pd.read_csv('data3.txt',header=None)\n",
        "X2=data3[0].values\n",
        "Y2=data3[1].values\n",
        "print(data3)"
      ],
      "execution_count": 3,
      "outputs": [
        {
          "output_type": "stream",
          "text": [
            "--2020-11-22 14:03:15--  http://cs.uit.edu.vn/data3.txt\n",
            "Resolving cs.uit.edu.vn (cs.uit.edu.vn)... 118.69.123.142\n",
            "Connecting to cs.uit.edu.vn (cs.uit.edu.vn)|118.69.123.142|:80... connected.\n",
            "HTTP request sent, awaiting response... 200 OK\n",
            "Length: 178891 (175K) [text/plain]\n",
            "Saving to: ‘data3.txt’\n",
            "\n",
            "data3.txt           100%[===================>] 174.70K   302KB/s    in 0.6s    \n",
            "\n",
            "2020-11-22 14:03:16 (302 KB/s) - ‘data3.txt’ saved [178891/178891]\n",
            "\n",
            "              0        1\n",
            "0      37837612  4.12166\n",
            "1      37395246  3.92089\n",
            "2      36610827  3.21540\n",
            "3      29555651  2.54506\n",
            "4      25928216  2.21831\n",
            "...         ...      ...\n",
            "10585  26872494  2.35117\n",
            "10586  20753811  1.79155\n",
            "10587  33520323  2.90918\n",
            "10588  21243264  1.80292\n",
            "10589  21380484  1.82795\n",
            "\n",
            "[10590 rows x 2 columns]\n"
          ],
          "name": "stdout"
        }
      ]
    },
    {
      "cell_type": "markdown",
      "metadata": {
        "id": "JmeMmAxQQpPD"
      },
      "source": [
        "### INPUT DATA VÀO CHƯƠNG TRÌNH"
      ]
    },
    {
      "cell_type": "code",
      "metadata": {
        "id": "5wZecXS1Qpo-"
      },
      "source": [
        "\n",
        "X1_train, X1_test, Y1_train, Y1_test = train_test_split(data[0], data[1], random_state=100)\n",
        "X2_train, X2_test, Y2_train, Y2_test = train_test_split(data3[0], data3[1], random_state=100)\n",
        "\n",
        "X_train=pd.concat([X1_train, X2_train], ignore_index=True)\n",
        "X_test=pd.concat([X1_test,X2_test], ignore_index=True)\n",
        "Y_train=pd.concat([Y1_train,Y2_train], ignore_index=True)\n",
        "Y_test=pd.concat([Y1_test, Y2_test], ignore_index=True)"
      ],
      "execution_count": 26,
      "outputs": []
    },
    {
      "cell_type": "markdown",
      "metadata": {
        "id": "qhctVe9JREeJ"
      },
      "source": [
        "###TIẾN HÀNH TRAINING DATA "
      ]
    },
    {
      "cell_type": "code",
      "metadata": {
        "id": "YsebNEq_Syod",
        "colab": {
          "base_uri": "https://localhost:8080/"
        },
        "outputId": "f18bce94-120b-4baa-dd0a-620156dac085"
      },
      "source": [
        "regr=linear_model.LinearRegression()\n",
        "regr.fit(X_train.values.reshape(-1,1),Y_train)\n"
      ],
      "execution_count": 21,
      "outputs": [
        {
          "output_type": "execute_result",
          "data": {
            "text/plain": [
              "LinearRegression(copy_X=True, fit_intercept=True, n_jobs=None, normalize=False)"
            ]
          },
          "metadata": {
            "tags": []
          },
          "execution_count": 21
        }
      ]
    },
    {
      "cell_type": "markdown",
      "metadata": {
        "id": "qkeT6eMAToBA"
      },
      "source": [
        "###ĐÁNH GIÁ MODEL"
      ]
    },
    {
      "cell_type": "code",
      "metadata": {
        "id": "Q9p4rk9ukHeO",
        "colab": {
          "base_uri": "https://localhost:8080/",
          "height": 328
        },
        "outputId": "53435241-8e0e-4f03-ffff-4593e87c6ae8"
      },
      "source": [
        "Y_pred=regr.predict(X_test.values.reshape(-1,1))\n",
        "\n",
        "print('Coefficients: %.15f' %regr.coef_)\n",
        "print('Mean squared error: %.10f'\n",
        "      % mean_squared_error(Y_test, Y_pred))\n",
        "print('Coefficient of determination: %.10f'\n",
        "      % r2_score(Y_test, Y_pred))\n",
        "plt.scatter(X_test, Y_test,  color='black')\n",
        "plt.plot(X_test, Y_pred, color='red', linewidth=3)\n",
        "\n",
        "plt.show()\n"
      ],
      "execution_count": 22,
      "outputs": [
        {
          "output_type": "stream",
          "text": [
            "Coefficients: 0.000000060975744\n",
            "Mean squared error: 0.1788170992\n",
            "Coefficient of determination: 0.7678065808\n"
          ],
          "name": "stdout"
        },
        {
          "output_type": "display_data",
          "data": {
            "image/png": "[encoded data removed]",
            "text/plain": [
              "<Figure size 432x288 with 1 Axes>"
            ]
          },
          "metadata": {
            "tags": [],
            "needs_background": "light"
          }
        }
      ]
    },
    {
      "cell_type": "code",
      "metadata": {
        "id": "A6NS7Up-Tpf5",
        "outputId": "8d78866e-644d-4638-c4ec-7025f2b510c2",
        "colab": {
          "base_uri": "https://localhost:8080/",
          "height": 328
        }
      },
      "source": [
        "Y1_pred=regr.predict(X1_test.values.reshape(-1,1))\n",
        "print('Coefficients: %.15f' %regr.coef_)\n",
        "print('Mean squared error: %.10f'\n",
        "      % mean_squared_error(Y1_test, Y1_pred))\n",
        "print('Coefficient of determination: %.10f'\n",
        "      % r2_score(Y1_test, Y1_pred))\n",
        "plt.scatter(X1_test, Y1_test,  color='black')\n",
        "plt.plot(X1_test, Y1_pred, color='red', linewidth=1.5)\n",
        "\n",
        "plt.show()"
      ],
      "execution_count": 31,
      "outputs": [
        {
          "output_type": "stream",
          "text": [
            "Coefficients: 0.000000060975744\n",
            "Mean squared error: 0.4553533442\n",
            "Coefficient of determination: 0.3325828635\n"
          ],
          "name": "stdout"
        },
        {
          "output_type": "display_data",
          "data": {
            "image/png": "[encoded data removed]",
            "text/plain": [
              "<Figure size 432x288 with 1 Axes>"
            ]
          },
          "metadata": {
            "tags": [],
            "needs_background": "light"
          }
        }
      ]
    },
    {
      "cell_type": "markdown",
      "metadata": {
        "id": "32_vlaMV90ZH"
      },
      "source": [
        "###ĐÁNH GIÁ MODEL VỚI BỘ DATA3"
      ]
    },
    {
      "cell_type": "code",
      "metadata": {
        "id": "aZKq9TtF9vqh",
        "colab": {
          "base_uri": "https://localhost:8080/",
          "height": 328
        },
        "outputId": "89e9c83d-0169-436d-94ad-96d10c1d0dda"
      },
      "source": [
        "Y2_pred=regr.predict(X2_test.values.reshape(-1,1))\n",
        "print('Coefficients: %.15f' %regr.coef_)\n",
        "print('Mean squared error: %.10f'\n",
        "      % mean_squared_error(Y2_test, Y2_pred))\n",
        "print('Coefficient of determination: %.10f'\n",
        "      % r2_score(Y2_test, Y2_pred))\n",
        "plt.scatter(X2_test, Y2_test,  color='black')\n",
        "plt.plot(X2_test, Y2_pred, color='red', linewidth=3)\n",
        "\n",
        "plt.show()"
      ],
      "execution_count": 28,
      "outputs": [
        {
          "output_type": "stream",
          "text": [
            "Coefficients: 0.000000060975744\n",
            "Mean squared error: 0.0427420511\n",
            "Coefficient of determination: 0.8518630051\n"
          ],
          "name": "stdout"
        },
        {
          "output_type": "display_data",
          "data": {
            "image/png": "[encoded data removed]",
            "text/plain": [
              "<Figure size 432x288 with 1 Axes>"
            ]
          },
          "metadata": {
            "tags": [],
            "needs_background": "light"
          }
        }
      ]
    },
    {
      "cell_type": "markdown",
      "metadata": {
        "id": "_6p0ESu5V37i"
      },
      "source": [
        "### TIẾN HÀNH DỰ ĐOÁN TỪ GIÁ TRỊ CHO TRƯỚC"
      ]
    },
    {
      "cell_type": "code",
      "metadata": {
        "id": "Md6AhZX5VXho",
        "colab": {
          "base_uri": "https://localhost:8080/"
        },
        "outputId": "5d7ef977-f9b5-4859-daac-cdfa4b5d6caf"
      },
      "source": [
        "pre=int(input())\n",
        "pre_model=regr.predict([[pre]])\n",
        "print(pre_model)"
      ],
      "execution_count": 25,
      "outputs": [
        {
          "output_type": "stream",
          "text": [
            "4534535\n",
            "[1.16894617]\n"
          ],
          "name": "stdout"
        }
      ]
    }
  ]
}