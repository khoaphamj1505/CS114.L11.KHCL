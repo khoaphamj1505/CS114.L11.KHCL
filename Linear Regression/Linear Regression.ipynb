{
  "nbformat": 4,
  "nbformat_minor": 0,
  "metadata": {
    "colab": {
      "name": "Untitled1.ipynb",
      "provenance": [],
      "collapsed_sections": [],
      "include_colab_link": true
    },
    "kernelspec": {
      "name": "python3",
      "display_name": "Python 3"
    }
  },
  "cells": [
    {
      "cell_type": "markdown",
      "metadata": {
        "id": "view-in-github",
        "colab_type": "text"
      },
      "source": [
        "<a href=\"https://colab.research.google.com/github/khoaphamj1505/CS114.L11.KHCL/blob/master/Linear%20Regression/Linear%20Regression.ipynb\" target=\"_parent\"><img src=\"https://colab.research.google.com/assets/colab-badge.svg\" alt=\"Open In Colab\"/></a>"
      ]
    },
    {
      "cell_type": "markdown",
      "metadata": {
        "id": "3dpRAeXEOl83"
      },
      "source": [
        "###THƯ VIỆN ĐƯỢC SỬ DỤNG"
      ]
    },
    {
      "cell_type": "code",
      "metadata": {
        "id": "TfRPm2xpOlZ1"
      },
      "source": [
        "import pandas as pd\n",
        "import matplotlib.pyplot as plt\n",
        "from sklearn import linear_model\n",
        "from sklearn.metrics import mean_squared_error, r2_score\n",
        "import numpy as np"
      ],
      "execution_count": 31,
      "outputs": []
    },
    {
      "cell_type": "markdown",
      "metadata": {
        "id": "zZ0UypcJO1-e"
      },
      "source": [
        "###ĐỌC DỮ LIỆU TỪ data.txt"
      ]
    },
    {
      "cell_type": "code",
      "metadata": {
        "id": "kHRq_2FBO9TF",
        "outputId": "1f5c08f7-b60d-451a-ce5b-40ceda03d9c2",
        "colab": {
          "base_uri": "https://localhost:8080/",
          "height": 286
        }
      },
      "source": [
        "data=pd.read_csv('https://cs.uit.edu.vn/data.txt',header=None)\n",
        "data.columns=['DATA','TIME']\n",
        "data.describe()"
      ],
      "execution_count": 33,
      "outputs": [
        {
          "output_type": "execute_result",
          "data": {
            "text/html": [
              "<div>\n",
              "<style scoped>\n",
              "    .dataframe tbody tr th:only-of-type {\n",
              "        vertical-align: middle;\n",
              "    }\n",
              "\n",
              "    .dataframe tbody tr th {\n",
              "        vertical-align: top;\n",
              "    }\n",
              "\n",
              "    .dataframe thead th {\n",
              "        text-align: right;\n",
              "    }\n",
              "</style>\n",
              "<table border=\"1\" class=\"dataframe\">\n",
              "  <thead>\n",
              "    <tr style=\"text-align: right;\">\n",
              "      <th></th>\n",
              "      <th>DATA</th>\n",
              "      <th>TIME</th>\n",
              "    </tr>\n",
              "  </thead>\n",
              "  <tbody>\n",
              "    <tr>\n",
              "      <th>count</th>\n",
              "      <td>5.211000e+03</td>\n",
              "      <td>5211.000000</td>\n",
              "    </tr>\n",
              "    <tr>\n",
              "      <th>mean</th>\n",
              "      <td>4.991583e+06</td>\n",
              "      <td>1.363322</td>\n",
              "    </tr>\n",
              "    <tr>\n",
              "      <th>std</th>\n",
              "      <td>2.903517e+06</td>\n",
              "      <td>0.825849</td>\n",
              "    </tr>\n",
              "    <tr>\n",
              "      <th>min</th>\n",
              "      <td>2.390000e+02</td>\n",
              "      <td>0.000028</td>\n",
              "    </tr>\n",
              "    <tr>\n",
              "      <th>25%</th>\n",
              "      <td>2.451362e+06</td>\n",
              "      <td>0.630964</td>\n",
              "    </tr>\n",
              "    <tr>\n",
              "      <th>50%</th>\n",
              "      <td>5.032102e+06</td>\n",
              "      <td>1.355770</td>\n",
              "    </tr>\n",
              "    <tr>\n",
              "      <th>75%</th>\n",
              "      <td>7.523041e+06</td>\n",
              "      <td>2.076820</td>\n",
              "    </tr>\n",
              "    <tr>\n",
              "      <th>max</th>\n",
              "      <td>9.995358e+06</td>\n",
              "      <td>3.315540</td>\n",
              "    </tr>\n",
              "  </tbody>\n",
              "</table>\n",
              "</div>"
            ],
            "text/plain": [
              "               DATA         TIME\n",
              "count  5.211000e+03  5211.000000\n",
              "mean   4.991583e+06     1.363322\n",
              "std    2.903517e+06     0.825849\n",
              "min    2.390000e+02     0.000028\n",
              "25%    2.451362e+06     0.630964\n",
              "50%    5.032102e+06     1.355770\n",
              "75%    7.523041e+06     2.076820\n",
              "max    9.995358e+06     3.315540"
            ]
          },
          "metadata": {
            "tags": []
          },
          "execution_count": 33
        }
      ]
    },
    {
      "cell_type": "markdown",
      "metadata": {
        "id": "JmeMmAxQQpPD"
      },
      "source": [
        "### INPUT DATA VÀO CHƯƠNG TRÌNH"
      ]
    },
    {
      "cell_type": "code",
      "metadata": {
        "id": "5wZecXS1Qpo-"
      },
      "source": [
        "df=pd.read_csv('data.txt', header=None)\n",
        "X=df[0].values\n",
        "Y=df[1].values\n",
        "X=X[:,np.newaxis]\n",
        "X_train=X[:-200]\n",
        "Y_train=Y[:-200]\n",
        "X_test=X[-200:]\n",
        "Y_test=Y[-200:]"
      ],
      "execution_count": 34,
      "outputs": []
    },
    {
      "cell_type": "markdown",
      "metadata": {
        "id": "qhctVe9JREeJ"
      },
      "source": [
        "###TIẾN HÀNH TRAINING DATA "
      ]
    },
    {
      "cell_type": "code",
      "metadata": {
        "id": "YsebNEq_Syod",
        "outputId": "7690a492-ce23-424b-fab4-63029845acfe",
        "colab": {
          "base_uri": "https://localhost:8080/"
        }
      },
      "source": [
        "regr=linear_model.LinearRegression()\n",
        "regr.fit(X_train,Y_train)\n"
      ],
      "execution_count": 35,
      "outputs": [
        {
          "output_type": "execute_result",
          "data": {
            "text/plain": [
              "LinearRegression(copy_X=True, fit_intercept=True, n_jobs=None, normalize=False)"
            ]
          },
          "metadata": {
            "tags": []
          },
          "execution_count": 35
        }
      ]
    },
    {
      "cell_type": "markdown",
      "metadata": {
        "id": "qkeT6eMAToBA"
      },
      "source": [
        "###ĐÁNH GIÁ MODEL"
      ]
    },
    {
      "cell_type": "code",
      "metadata": {
        "id": "Q9p4rk9ukHeO",
        "outputId": "cd8bb6c6-5273-4212-e76d-08e63aabc35a",
        "colab": {
          "base_uri": "https://localhost:8080/",
          "height": 328
        }
      },
      "source": [
        "Y_pred=regr.predict(X_test)\n",
        "\n",
        "print('Coefficients: %.15f' %regr.coef_)\n",
        "print('Mean squared error: %.10f'\n",
        "      % mean_squared_error(Y_test, Y_pred))\n",
        "print('Coefficient of determination: %.10f'\n",
        "      % r2_score(Y_test, Y_pred))\n",
        "plt.scatter(X_test, Y_test,  color='black')\n",
        "plt.plot(X_test, Y_pred, color='red', linewidth=3)\n",
        "\n",
        "plt.show()\n"
      ],
      "execution_count": 36,
      "outputs": [
        {
          "output_type": "stream",
          "text": [
            "Coefficients: 0.000000284005983\n",
            "Mean squared error: 0.0007216618\n",
            "Coefficient of determination: 0.9988807053\n"
          ],
          "name": "stdout"
        },
        {
          "output_type": "display_data",
          "data": {
            "image/png": "[encoded data removed]",
            "text/plain": [
              "<Figure size 432x288 with 1 Axes>"
            ]
          },
          "metadata": {
            "tags": [],
            "needs_background": "light"
          }
        }
      ]
    },
    {
      "cell_type": "markdown",
      "metadata": {
        "id": "_6p0ESu5V37i"
      },
      "source": [
        "### TIẾN HÀNH DỰ ĐOÁN TỪ GIÁ TRỊ CHO TRƯỚC"
      ]
    },
    {
      "cell_type": "code",
      "metadata": {
        "id": "Md6AhZX5VXho",
        "outputId": "69d59816-a58c-4c1c-a647-95ce928ce605",
        "colab": {
          "base_uri": "https://localhost:8080/"
        }
      },
      "source": [
        "pre=int(input())\n",
        "pre_model=regr.predict([[pre]])\n",
        "print(pre_model)"
      ],
      "execution_count": 37,
      "outputs": [
        {
          "output_type": "stream",
          "text": [
            "4636346\n",
            "[1.26221626]\n"
          ],
          "name": "stdout"
        }
      ]
    }
  ]
}