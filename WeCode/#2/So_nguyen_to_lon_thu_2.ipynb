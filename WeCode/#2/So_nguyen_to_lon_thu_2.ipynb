{
  "nbformat": 4,
  "nbformat_minor": 0,
  "metadata": {
    "colab": {
      "name": "WeCode/#2/",
      "provenance": [],
      "authorship_tag": "ABX9TyOVbPNFCq7fjdcGN4YbqdPG",
      "include_colab_link": true
    },
    "kernelspec": {
      "name": "python3",
      "display_name": "Python 3"
    }
  },
  "cells": [
    {
      "cell_type": "markdown",
      "metadata": {
        "id": "view-in-github",
        "colab_type": "text"
      },
      "source": [
        "<a href=\"https://colab.research.google.com/github/khoaphamj1505/CS114.L11.KHCL/blob/master/WeCode/%232/So_nguyen_to_lon_thu_2.ipynb\" target=\"_parent\"><img src=\"https://colab.research.google.com/assets/colab-badge.svg\" alt=\"Open In Colab\"/></a>"
      ]
    },
    {
      "cell_type": "markdown",
      "metadata": {
        "id": "eOg6Hsnq0bP9"
      },
      "source": [
        "Bài 7: **Số nguyên tố lớn thứ 2**\n",
        "\n",
        "Đề: ố nguyên tố lớn thứ 2\n",
        "\n",
        "Số nguyên tố là số nguyên lớn hơn 1, chỉ chia hết cho 1 và chính nó.\n",
        "\n",
        "Yêu cầu: cho số nguyên dương N, hãy chỉ ra số nguyên tố lớn thứ 2 không vượt quá N.\n",
        "\n",
        "Ví dụ: với N = 10, số nguyên tố lớn thứ 2 không vượt quá 10 là 5\n",
        "\n",
        "INPUT:\n",
        "Nhập từ thiết bị nhập chuẩn gồm 1 số nguyên dương N (3 < N ≤ 1014)\n",
        "\n",
        "OUTPUT\n",
        "Ghi ra thiết bị xuất chuẩn số tìm được"
      ]
    },
    {
      "cell_type": "code",
      "metadata": {
        "id": "dmnNyfU20Xa6",
        "outputId": "3dd6ffab-cbfe-4951-c0a5-9548c867528f",
        "colab": {
          "base_uri": "https://localhost:8080/"
        }
      },
      "source": [
        "n=int(input())\n",
        "\n",
        "def isprime(n):\n",
        "  if n < 2:\n",
        "      return False\n",
        "  if n == 2:\n",
        "      return True\n",
        "  if n % 2 == 0:\n",
        "      return False\n",
        "  for idx in range(3, int(n**0.5) + 1, 2): \n",
        "    if 0==n%idx:\n",
        "      return False\n",
        "  return True\n",
        "\n",
        "\n",
        "check=0\n",
        "n=n+1\n",
        "while 2!=check:\n",
        "  n=n-1\n",
        "  if isprime(n):\n",
        "    check+=1\n",
        "\n",
        "print(n)"
      ],
      "execution_count": 1,
      "outputs": [
        {
          "output_type": "stream",
          "text": [
            "10\n",
            "5\n"
          ],
          "name": "stdout"
        }
      ]
    },
    {
      "cell_type": "markdown",
      "metadata": {
        "id": "w5K122ly1Sia"
      },
      "source": [
        "* Bình Luận:\n",
        "Sử dụng các tính chất của số nguyên tố."
      ]
    }
  ]
}