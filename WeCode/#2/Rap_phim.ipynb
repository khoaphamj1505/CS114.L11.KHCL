{
  "nbformat": 4,
  "nbformat_minor": 0,
  "metadata": {
    "colab": {
      "name": "WeCode/#2/",
      "provenance": [],
      "authorship_tag": "ABX9TyO4FmqrV8ISDEeDQJRuh3a7",
      "include_colab_link": true
    },
    "kernelspec": {
      "name": "python3",
      "display_name": "Python 3"
    }
  },
  "cells": [
    {
      "cell_type": "markdown",
      "metadata": {
        "id": "view-in-github",
        "colab_type": "text"
      },
      "source": [
        "<a href=\"https://colab.research.google.com/github/khoaphamj1505/CS114.L11.KHCL/blob/master/WeCode/%232/Rap_phim.ipynb\" target=\"_parent\"><img src=\"https://colab.research.google.com/assets/colab-badge.svg\" alt=\"Open In Colab\"/></a>"
      ]
    },
    {
      "cell_type": "markdown",
      "metadata": {
        "id": "eOg6Hsnq0bP9"
      },
      "source": [
        "Bài 5: RẠP PHIM\n",
        "\n",
        "Đề: Một rạp phim có diện tích sàn là n x m. Nhân lễ kỉ niệm, người ta cần lót gạch cho sàn của rạp bằng các viên gạch hình vuông với cạnh có kích thước là a. Xác định số lượng viên gạch cần ít nhất để phủ toàn bộ sàn, biết rằng diện tích toàn bộ số gạch được dùng có thể lớn hơn diện tích thực tế của sàn và các viên gạch phải được giữ nguyên, không được cắt ra.\n",
        "\n",
        "INPUT:\n",
        "Ba số nguyên dương n, m, a\n",
        "\n",
        "OUTPUT:\n",
        "Số lượng gạch ít nhất cần để lót sàn."
      ]
    },
    {
      "cell_type": "code",
      "metadata": {
        "id": "dmnNyfU20Xa6",
        "outputId": "01daf898-48c7-48e9-d861-fe9cf6213122",
        "colab": {
          "base_uri": "https://localhost:8080/"
        }
      },
      "source": [
        "x=[int(x) for x in input().split()]\n",
        "\n",
        "if 0==x[0] % x[2]:\n",
        "  x[0]=x[0]//x[2]\n",
        "else: \n",
        "  x[0]=x[0]//x[2] + 1\n",
        "\n",
        "if 0==x[1] % x[2]:\n",
        "  x[1]=x[1]//x[2]\n",
        "else: \n",
        "  x[1]=x[1]//x[2] + 1\n",
        "\n",
        "print(x[0]*x[1])"
      ],
      "execution_count": 1,
      "outputs": [
        {
          "output_type": "stream",
          "text": [
            "6 6 4\n",
            "4\n"
          ],
          "name": "stdout"
        }
      ]
    },
    {
      "cell_type": "markdown",
      "metadata": {
        "id": "w5K122ly1Sia"
      },
      "source": [
        "* Bình Luận:\n",
        "Tính số lượng viên gạch theo chiều ngang(có thể dư) và chiều dọc\n",
        "Tích 2 kết quả là số viên gạch cần có"
      ]
    }
  ]
}