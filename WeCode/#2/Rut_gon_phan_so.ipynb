{
  "nbformat": 4,
  "nbformat_minor": 0,
  "metadata": {
    "colab": {
      "name": "WeCode/#2/",
      "provenance": [],
      "authorship_tag": "ABX9TyP6ntgU59eWZAbB//RFDG0R",
      "include_colab_link": true
    },
    "kernelspec": {
      "name": "python3",
      "display_name": "Python 3"
    }
  },
  "cells": [
    {
      "cell_type": "markdown",
      "metadata": {
        "id": "view-in-github",
        "colab_type": "text"
      },
      "source": [
        "<a href=\"https://colab.research.google.com/github/khoaphamj1505/CS114.L11.KHCL/blob/master/WeCode/%232/Rut_gon_phan_so.ipynb\" target=\"_parent\"><img src=\"https://colab.research.google.com/assets/colab-badge.svg\" alt=\"Open In Colab\"/></a>"
      ]
    },
    {
      "cell_type": "markdown",
      "metadata": {
        "id": "eOg6Hsnq0bP9"
      },
      "source": [
        "Bài 10: **Rút gọn phân số**\n",
        "\n",
        "Đề: Viết chương trình rút gọn phân số.\n",
        "\n",
        "INPUT:\n",
        "Dòng đầu tiên là một số nguyên \n",
        "n\n",
        " \n",
        "(\n",
        "1\n",
        "≤\n",
        "n\n",
        "≤\n",
        "100\n",
        ")\n",
        " — Số lượng phân số cần rút gọn\n",
        "\n",
        "n\n",
        " dòng tiếp theo là hai số nguyên \n",
        "a\n",
        ",\n",
        "b\n",
        "(\n",
        "a\n",
        ",\n",
        "b\n",
        "≥\n",
        "1\n",
        ")\n",
        " — \n",
        "a\n",
        ",\n",
        "b\n",
        " lần lượt là tử số và mẫu số.\n",
        "\n",
        "\n",
        "\n",
        "OUTPUT: Ứng với n dòng, in ra theo thứ tự tử số và mẫu số (cách nhau một khoảng trắng) sau khi rút gọn; mẫu số chỉ được in khi lớn hơn 1.\n",
        "\n",
        "\n"
      ]
    },
    {
      "cell_type": "code",
      "metadata": {
        "id": "dmnNyfU20Xa6",
        "outputId": "7dfcf0f4-59c0-4cb4-ec04-8c64750bb9dc",
        "colab": {
          "base_uri": "https://localhost:8080/"
        }
      },
      "source": [
        "n=int(input())\n",
        "\n",
        "def uscln(a, b):\n",
        "    if (b == 0):\n",
        "        return a\n",
        "    return uscln(b, a % b)\n",
        "\n",
        "for i in range(n):\n",
        "    x=[int(x) for x in input().split()]\n",
        "    d = int(uscln(x[0],x[1]))\n",
        "    if x[1]//d >1:\n",
        "        print(x[0]//d, x[1]//d)\n",
        "    else: print(x[0]//d)"
      ],
      "execution_count": 1,
      "outputs": [
        {
          "output_type": "stream",
          "text": [
            "2\n",
            "77 105\n",
            "11 15\n",
            "121 11\n",
            "11\n"
          ],
          "name": "stdout"
        }
      ]
    },
    {
      "cell_type": "markdown",
      "metadata": {
        "id": "w5K122ly1Sia"
      },
      "source": [
        "* Bình Luận:\n",
        "Tính UCLN của tử và mẫu rồi chia tử và mẫu cho UCLN để được phân số mới"
      ]
    }
  ]
}