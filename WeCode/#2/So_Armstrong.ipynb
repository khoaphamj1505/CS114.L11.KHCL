{
  "nbformat": 4,
  "nbformat_minor": 0,
  "metadata": {
    "colab": {
      "name": "WeCode/#2/",
      "provenance": [],
      "authorship_tag": "ABX9TyNJHjrCxcys9ejyPAea9IO+",
      "include_colab_link": true
    },
    "kernelspec": {
      "name": "python3",
      "display_name": "Python 3"
    }
  },
  "cells": [
    {
      "cell_type": "markdown",
      "metadata": {
        "id": "view-in-github",
        "colab_type": "text"
      },
      "source": [
        "<a href=\"https://colab.research.google.com/github/khoaphamj1505/CS114.L11.KHCL/blob/master/WeCode/%232/So_Armstrong.ipynb\" target=\"_parent\"><img src=\"https://colab.research.google.com/assets/colab-badge.svg\" alt=\"Open In Colab\"/></a>"
      ]
    },
    {
      "cell_type": "markdown",
      "metadata": {
        "id": "eOg6Hsnq0bP9"
      },
      "source": [
        "Bài 9: **Số Armstrong**\n",
        "\n",
        "Đề: Kiểm tra Số Armstrong (Số Armstrong là số có K chữ số và tổng lũy thừa bậc K của các chữ số bằng chính nó)\n",
        "\n",
        "INPUT:\n",
        "Một số nguyên không âm\n",
        "\n",
        "\n",
        "\n",
        "OUTPUT: Xuất True nếu số nhập vào là số Armstrong, ngược lại False\n",
        "\n",
        "\n"
      ]
    },
    {
      "cell_type": "code",
      "metadata": {
        "id": "dmnNyfU20Xa6",
        "outputId": "9d1c4d64-c72e-4794-c364-0df8f7f99675",
        "colab": {
          "base_uri": "https://localhost:8080/"
        }
      },
      "source": [
        "n=input()\n",
        "check=int(0)\n",
        "\n",
        "for idx in range(len(n)):\n",
        "    check+=int(n[idx])**int(len(n))\n",
        "if check==int(n):\n",
        "    print(\"True\")\n",
        "else: print(\"False\")"
      ],
      "execution_count": null,
      "outputs": [
        {
          "output_type": "stream",
          "text": [
            "153\n",
            "True\n"
          ],
          "name": "stdout"
        }
      ]
    },
    {
      "cell_type": "markdown",
      "metadata": {
        "id": "w5K122ly1Sia"
      },
      "source": [
        "* Bình Luận:\n",
        "Đếm số đó có bao nhiêu chữ số(K), tính tổng lập phương của các chữ số ,kiểm tra tổng đó với số ban đầu. "
      ]
    }
  ]
}