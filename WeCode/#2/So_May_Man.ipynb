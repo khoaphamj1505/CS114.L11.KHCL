{
  "nbformat": 4,
  "nbformat_minor": 0,
  "metadata": {
    "colab": {
      "name": "WeCode/#2/",
      "provenance": [],
      "authorship_tag": "ABX9TyNWdV7hr5AUfUT1PBLBxJj0",
      "include_colab_link": true
    },
    "kernelspec": {
      "name": "python3",
      "display_name": "Python 3"
    }
  },
  "cells": [
    {
      "cell_type": "markdown",
      "metadata": {
        "id": "view-in-github",
        "colab_type": "text"
      },
      "source": [
        "<a href=\"https://colab.research.google.com/github/khoaphamj1505/CS114.L11.KHCL/blob/master/WeCode/%232/So_May_Man.ipynb\" target=\"_parent\"><img src=\"https://colab.research.google.com/assets/colab-badge.svg\" alt=\"Open In Colab\"/></a>"
      ]
    },
    {
      "cell_type": "markdown",
      "metadata": {
        "id": "eOg6Hsnq0bP9"
      },
      "source": [
        "Bài 2: SỐ GẦN NHƯ MAY MẮN\n",
        "\n",
        "Đề:\n",
        "\n",
        "Số may mắn là các số nguyên dương chỉ chứa các chữ số là 4 hoặc 7.\n",
        "\n",
        "Bình thích sự may mắn, tuy nhiên số lượng số may mắn không nhiều. Chính vì thế, Bình định nghĩa ra một loại số mới, gọi là số gần may mắn với điều kiện số chữ số may mắn trong số đó là một số may mắn.\n",
        "\n",
        "INPUT: Một số nguyên dương n (n <= 1018)\n",
        "\n",
        "OUTPUT: In ra YES nếu số đó là một số gần may mắn, ngược lại in NO.\n",
        "\n",
        "Code"
      ]
    },
    {
      "cell_type": "code",
      "metadata": {
        "id": "dmnNyfU20Xa6",
        "outputId": "9b5a55f4-f388-44f3-8b25-f4d7dbf97f16",
        "colab": {
          "base_uri": "https://localhost:8080/"
        }
      },
      "source": [
        "l=input()\n",
        "l=[int(i) for i in l]\n",
        "\n",
        "count=int(0)\n",
        "for i in l:\n",
        "    if 4==i or 7==i:\n",
        "        count+=1\n",
        "\n",
        "count=str(count)\n",
        "count=[int(i) for i in count]\n",
        "flag=0\n",
        "for j in count:\n",
        "    if 4!=j and 7!=j:\n",
        "        flag=1\n",
        "        \n",
        "if 1==flag:\n",
        "    print(\"NO\")\n",
        "else: \n",
        "    print(\"YES\")"
      ],
      "execution_count": 1,
      "outputs": [
        {
          "output_type": "stream",
          "text": [
            "74734747\n",
            "YES\n"
          ],
          "name": "stdout"
        }
      ]
    },
    {
      "cell_type": "markdown",
      "metadata": {
        "id": "w5K122ly1Sia"
      },
      "source": [
        "* Bình Luận:\n",
        "Split dãy số đầu vào và đếm số chữ 4 và 7 theo thỏa điều kiện số may mắn"
      ]
    }
  ]
}