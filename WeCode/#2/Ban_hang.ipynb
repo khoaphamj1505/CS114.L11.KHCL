{
  "nbformat": 4,
  "nbformat_minor": 0,
  "metadata": {
    "colab": {
      "name": "WeCode/#2/",
      "provenance": [],
      "authorship_tag": "ABX9TyMLOcculKWuYnMHbY3Jz+RK",
      "include_colab_link": true
    },
    "kernelspec": {
      "name": "python3",
      "display_name": "Python 3"
    }
  },
  "cells": [
    {
      "cell_type": "markdown",
      "metadata": {
        "id": "view-in-github",
        "colab_type": "text"
      },
      "source": [
        "<a href=\"https://colab.research.google.com/github/khoaphamj1505/CS114.L11.KHCL/blob/master/WeCode/%232/Ban_hang.ipynb\" target=\"_parent\"><img src=\"https://colab.research.google.com/assets/colab-badge.svg\" alt=\"Open In Colab\"/></a>"
      ]
    },
    {
      "cell_type": "markdown",
      "metadata": {
        "id": "eOg6Hsnq0bP9"
      },
      "source": [
        "Bài 8: **Bán hàng**\n",
        "\n",
        "Đề: Nam đang là quản lí một cửa hàng nhỏ trong thị trấn. Cửa hàng của Nam có \n",
        "n\n",
        " hàng hóa, mỗi hàng hóa thứ \n",
        "i\n",
        " có giá \n",
        "a\n",
        "i\n",
        " đồng,\n",
        "\n",
        "Mỗi ngày, có rất nhiều khách hàng ghé cửa hàng của Nam và liên tục hỏi giá của từng sản phẩm. Do có quá nhiều hàng hóa nên Nam không thể nào nhớ hết giá của chúng. Vì thế, Nam đã quyết định bán đồng giá tất cả các hàng hóa trong cửa hàng của mình.\n",
        "\n",
        "Tuy nhiên, để không lỗ vốn, Nam muốn sau khi tất cả \n",
        "n\n",
        "  hàng hóa trong cửa hàng được bán hết thì thu được tổng số tiền bằng (hoặc lớn hơn) so với tổng giá hàng hóa bán với giá gốc.\n",
        "\n",
        "Mặt khác, Nam không muốn mất khách nếu giá bán quá lớn. Vì vậy, Nam phải bán \n",
        "n\n",
        " hàng hóa với giá tối thiểu sao cho tổng số tiền thu được sau khi bán hết hàng hóa có trong cửa hàng phải bằng (hoặc lớn hơn tối thiểu) so với tổng giá hàng hóa bán với giá gốc.\n",
        "\n",
        "Với mỗi testcase các bạn hãy giúp Nam tìm ra giá bán phù hợp.\n",
        "\n",
        "INPUT:\n",
        "Dòng đầu tiên là một số nguyên \n",
        "q\n",
        " \n",
        "(\n",
        "1\n",
        "≤\n",
        "q\n",
        "≤\n",
        "100\n",
        ")\n",
        "— số lượng testcase. Theo sau mỗi \n",
        "q\n",
        " dòng là:\n",
        "\n",
        "Dòng đầu tiên của testcase là một số nguyên \n",
        "n\n",
        "  \n",
        "(\n",
        "1\n",
        "≤\n",
        "q\n",
        "≤\n",
        "100\n",
        ")\n",
        " — số lượng hàng hóa. Dòng thứ hai gồm \n",
        "n\n",
        "  số nguyên \n",
        "a\n",
        "1\n",
        ",\n",
        "a\n",
        "2\n",
        ",\n",
        ".\n",
        ".\n",
        ".\n",
        ",\n",
        "a\n",
        "n\n",
        "(\n",
        "1\n",
        "≤\n",
        "a\n",
        "i\n",
        "≤\n",
        "10\n",
        "7\n",
        ")\n",
        " —  \n",
        "a\n",
        "i\n",
        " giá gốc của hàng hóa thứ \n",
        "i\n",
        ".\n",
        "\n",
        "OUTPUT:\n",
        "Với mỗi testcase in ra giá bán đồng giá tối thiểu của \n",
        "n\n",
        " hàng hóa sao cho tổng số tiền thu được sau khi bán hết hàng hóa có trong cửa hàng phải bằng (hoặc lớn hơn tối thiểu) so với tổng giá hàng hóa bán với giá gốc."
      ]
    },
    {
      "cell_type": "code",
      "metadata": {
        "id": "dmnNyfU20Xa6",
        "outputId": "31ff7e90-40aa-47b8-f17f-adc5acd3fc42",
        "colab": {
          "base_uri": "https://localhost:8080/"
        }
      },
      "source": [
        "q=int(input())\n",
        "\n",
        "for i in range(q):\n",
        "    n=int(input())\n",
        "    x=[int(x) for x in input().split()]\n",
        "    print((sum(x)-1)//n + 1)"
      ],
      "execution_count": 1,
      "outputs": [
        {
          "output_type": "stream",
          "text": [
            "1\n",
            "2\n",
            "777 778\n",
            "778\n"
          ],
          "name": "stdout"
        }
      ]
    },
    {
      "cell_type": "markdown",
      "metadata": {
        "id": "w5K122ly1Sia"
      },
      "source": [
        "* Bình Luận:\n",
        "Tính tổng các giá của các mặt hàng chia cho số lượng mặt hàng + 1 "
      ]
    }
  ]
}