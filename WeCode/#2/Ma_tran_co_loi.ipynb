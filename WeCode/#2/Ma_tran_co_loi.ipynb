{
  "nbformat": 4,
  "nbformat_minor": 0,
  "metadata": {
    "colab": {
      "name": "WeCode/#2/",
      "provenance": [],
      "authorship_tag": "ABX9TyPC6eQSDNSBOMG0olzXSgBv",
      "include_colab_link": true
    },
    "kernelspec": {
      "name": "python3",
      "display_name": "Python 3"
    }
  },
  "cells": [
    {
      "cell_type": "markdown",
      "metadata": {
        "id": "view-in-github",
        "colab_type": "text"
      },
      "source": [
        "<a href=\"https://colab.research.google.com/github/khoaphamj1505/CS114.L11.KHCL/blob/master/WeCode/%232/Ma_tran_co_loi.ipynb\" target=\"_parent\"><img src=\"https://colab.research.google.com/assets/colab-badge.svg\" alt=\"Open In Colab\"/></a>"
      ]
    },
    {
      "cell_type": "markdown",
      "metadata": {
        "id": "eOg6Hsnq0bP9"
      },
      "source": [
        "Bài 3: MA TRẬN CỐT LÕI\n",
        "\n",
        "Đề:\n",
        "\n",
        "Bình có một ma trận 5x5, bao gồm 24 số không và 1 số một với thứ tự ngẫu nhiên. Chỉ số các hàng và cột của ma trận được đánh số lần lượt từ 1 đến 5.\n",
        "\n",
        "Bình là một người rất kĩ tính và chỉ thích những thứ gì cân bằng và đồng đều. Chính vì vậy, anh ấy chỉ thích các ma trận mà có vị trí số một nằm ở giữa. Các bước hợp lệ để thay đổi một ma trận bao gồm: hoán vị hai hàng liền kề của ma trận và hoán vị hai cột liền kề của ma trận.\n",
        "\n",
        "Hãy giúp Bình tìm số bước hợp lệ tối thiểu để biến một ma trận thỏa mãn sở thích của anh ấy.\n",
        "\n",
        "INPUT: Một ma trận 5x5 chứa 24 số không và 1 số một.\n",
        "\n",
        "OUTPUT: Số bước hợp lệ tối thiểu để biến đổi ma trận.\n",
        "\n",
        "\n",
        "\n",
        "Code"
      ]
    },
    {
      "cell_type": "code",
      "metadata": {
        "id": "dmnNyfU20Xa6",
        "outputId": "f32c5cf8-9cbb-474d-8f54-75554e5bfdf6",
        "colab": {
          "base_uri": "https://localhost:8080/"
        }
      },
      "source": [
        "r=0\n",
        "c=0\n",
        "for idx in range(5):\n",
        "  li=[int(x) for x in input().split()]\n",
        "  if 1 in li:\n",
        "    r=idx\n",
        "    c=li.index(1)\n",
        "print(abs(2-r) + abs(2-c))"
      ],
      "execution_count": 1,
      "outputs": [
        {
          "output_type": "stream",
          "text": [
            "0 0 0 0 0\n",
            "0 0 0 0 1\n",
            "0 0 0 0 0\n",
            "0 0 0 0 0\n",
            "0 0 0 0 0\n",
            "3\n"
          ],
          "name": "stdout"
        }
      ]
    },
    {
      "cell_type": "markdown",
      "metadata": {
        "id": "w5K122ly1Sia"
      },
      "source": [
        "* Bình Luận:\n",
        "Tìm vị trí chữ số 1 trong input(). Chuyển vị trí số 1 vào giữ theo công thức \n",
        "      |2-vị trí hàng chứa số 1| + |2-vị trí cột chứa số 1|"
      ]
    }
  ]
}