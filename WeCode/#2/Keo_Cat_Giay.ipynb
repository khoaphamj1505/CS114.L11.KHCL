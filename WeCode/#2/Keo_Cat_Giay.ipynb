{
  "nbformat": 4,
  "nbformat_minor": 0,
  "metadata": {
    "colab": {
      "name": "WeCode/#2/",
      "provenance": [],
      "authorship_tag": "ABX9TyMqIAu8XqTglTfjkJVVa4JW",
      "include_colab_link": true
    },
    "kernelspec": {
      "name": "python3",
      "display_name": "Python 3"
    }
  },
  "cells": [
    {
      "cell_type": "markdown",
      "metadata": {
        "id": "view-in-github",
        "colab_type": "text"
      },
      "source": [
        "<a href=\"https://colab.research.google.com/github/khoaphamj1505/CS114.L11.KHCL/blob/master/WeCode/%232/Keo_Cat_Giay.ipynb\" target=\"_parent\"><img src=\"https://colab.research.google.com/assets/colab-badge.svg\" alt=\"Open In Colab\"/></a>"
      ]
    },
    {
      "cell_type": "markdown",
      "metadata": {
        "id": "eOg6Hsnq0bP9"
      },
      "source": [
        "Bài 1: KÉO CẮT GIẤY\n",
        "\n",
        "Đề:\n",
        "\n",
        "Để trang trí phòng phục vụ tổ chức sinh nhật cho một người bạn Alice lấy một tờ giấy màu thủ công kẻ ô vuông kích thước n×m (n hàng và m cột), cắt thành hình lò xo xoắn theo hướng phải sang trái và có độ rộng của đường bằng 1:\n",
        "\n",
        "Bắt đầu từ biên phải cột 0 cắt lên trên cho đến khi cách lề trên một ô,\n",
        "Cắt sang phải theo đường biên dưới cho đến khi cách lề phải một ô,\n",
        "Cắt xuống dưới, rồi sang trái, sau đó lên trên,  . . . để có băng giấy độ rộng 1 ô,\n",
        "Quá trình cắt sẽ dừng khi không cách cắt tiếp mà không làm đứt băng giấy.\n",
        "Hãy tính tổng độ dài đường cắt theo đơn vị ô.\n",
        "\n",
        "INPUT: Vào từ thiết bị nhập chuẩn gồm một dòng chứa 2 số nguyên n và m (2 ≤ n, m ≤ 109)\n",
        "\n",
        "OUTPUT: Đưa ra thiết bị xuất chuẩn một số nguyên – độ dài đường cắt.\n",
        "\n",
        "Code"
      ]
    },
    {
      "cell_type": "code",
      "metadata": {
        "id": "dmnNyfU20Xa6",
        "outputId": "511da887-d4fa-466e-fc24-0625c64e37d0",
        "colab": {
          "base_uri": "https://localhost:8080/"
        }
      },
      "source": [
        "l = input().split()\n",
        "l = [int(i) for i in l]\n",
        "\n",
        "n=l[0]\n",
        "m=l[1]\n",
        "def Sum(a, b):\n",
        "    return int(((b-a)+1)*(a+b)//2)\n",
        "\n",
        "if l[0]<=l[1]:\n",
        "    print(Sum(1,n-1) + Sum(m-n,m-2))\n",
        "else: \n",
        "    print(Sum(1,m-1) + Sum(n-m,n-2))"
      ],
      "execution_count": 1,
      "outputs": [
        {
          "output_type": "stream",
          "text": [
            "3 4\n",
            "6\n"
          ],
          "name": "stdout"
        }
      ]
    },
    {
      "cell_type": "markdown",
      "metadata": {
        "id": "w5K122ly1Sia"
      },
      "source": [
        "* Bình Luận: \n",
        "Số lần phải cắt là tổng các số tự nhiên bé hơn cạnh"
      ]
    }
  ]
}