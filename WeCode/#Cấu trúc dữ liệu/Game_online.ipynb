{
  "nbformat": 4,
  "nbformat_minor": 0,
  "metadata": {
    "colab": {
      "name": "WeCode/#Cấu trúc dữ liệu/",
      "provenance": [],
      "authorship_tag": "ABX9TyPGNVAuecElzoTm9t1R/77Z",
      "include_colab_link": true
    },
    "kernelspec": {
      "name": "python3",
      "display_name": "Python 3"
    }
  },
  "cells": [
    {
      "cell_type": "markdown",
      "metadata": {
        "id": "view-in-github",
        "colab_type": "text"
      },
      "source": [
        "<a href=\"https://colab.research.google.com/github/khoaphamj1505/CS114.L11.KHCL/blob/master/WeCode/%23C%E1%BA%A5u%20tr%C3%BAc%20d%E1%BB%AF%20li%E1%BB%87u/Game_online.ipynb\" target=\"_parent\"><img src=\"https://colab.research.google.com/assets/colab-badge.svg\" alt=\"Open In Colab\"/></a>"
      ]
    },
    {
      "cell_type": "markdown",
      "metadata": {
        "id": "3Zu3Dfx5XhmP"
      },
      "source": [
        "**Bài 1: Game online**\n",
        "\n",
        "Đề:  Khi làm việc với yêu cầu tìm kiếm, chúng ta có thể sử dụng thuật toán tìm kiếm nhị phân. Tuy nhiên thuật toán tìm kiếm nhị phân chỉ có thể chạy trên cấu trúc dữ liệu mảng và mảng đó phải được sắp xếp thứ tự. Việc sắp xếp thường có độ phức tạp khá cao, điển hình là trong trường hợp sau đây:\n",
        "\n",
        "Giả định công ty NaViGame đang duy trì một hệ thống server rất lớn đáp ứng cho hàng chục triệu acccount của các game thủ. Hệ thông server này duy trì một danh sách các game thủ đang online cho phép nhà quản trị có thể kiểm tra xem một game thủ bất kỳ nào đó có đang online hay không. Hãy giúp công ty NaViGame xây dựng module kiểm tra game thủ online này.\n",
        "\n",
        "INPUT\n",
        "Mỗi dòng của input chứa hai con số a và b. Số a có giá trị là 1 hoặc 2 đại diện cho hai tình huống là có game thủ đăng nhập vào hệ thống và người quản trị vừa nhập một yêu cầu kiểm tra. Số b là mã số của game thủ trong tình huống đó (giá trị b không quá 1 tỷ).\n",
        "\n",
        "Ví dụ như dòng: 1 565481 cho biết game thủ với mã số 465481 vừa mới đăng nhập vào hệ thống\n",
        "\n",
        "dòng: 2 87126 cho biết người quản trị muốn kiểm tra xem game thủ với mã số 87126 có đang online trong hệ thống hay không.\n",
        "\n",
        "Input sẽ kết thúc bằng dòng chỉ chứa một số 0.\n",
        "\n",
        "OUTPUT\n",
        "Ứng với mỗi yêu cầu kiểm tra của nhà quản trị xuất ra trên một dòng giá trị 0 nếu game thủ đó không online. Nếu game thủ đang online, xuất ra 1\n",
        "\n",
        "Code:"
      ]
    },
    {
      "cell_type": "code",
      "metadata": {
        "id": "Fw6tG9iOXv1e",
        "outputId": "3f075a13-19b8-44f8-f9c9-2422290bc243",
        "colab": {
          "base_uri": "https://localhost:8080/"
        }
      },
      "source": [
        "onl={} #Dictionary\n",
        "while True:\n",
        "  lst=[int(a) for a in input().split()]\n",
        "  if lst[0]==0:\n",
        "    break\n",
        "  elif lst[0]==1:\n",
        "    onl[lst[1]]=1\n",
        "  elif lst[0]==2:\n",
        "   if lst[1] in onl:\n",
        "      print(1)\n",
        "   else:\n",
        "      print(0)\n"
      ],
      "execution_count": 1,
      "outputs": [
        {
          "output_type": "stream",
          "text": [
            "1 1\n",
            "1 2\n",
            "1 3\n",
            "2 4\n",
            "0\n",
            "2 1\n",
            "1\n",
            "1 5\n",
            "0\n"
          ],
          "name": "stdout"
        }
      ]
    },
    {
      "cell_type": "markdown",
      "metadata": {
        "id": "V-s_hs21uV4U"
      },
      "source": [
        "* Bình luận: Sử dụng dictionary để lưu các mã số game thủ online(1) \n",
        "Và kiểm tra trong danh sách onl nếu hệ thống kiểm tra(2). Nếu có thì input 1, ngược lại input 0\n",
        "Có thể xem rõ dictionary ở link: https://www.tutorialspoint.com/python/python_dictionary.htm\n"
      ]
    }
  ]
}