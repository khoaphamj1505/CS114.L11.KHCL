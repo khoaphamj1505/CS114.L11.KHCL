{
  "nbformat": 4,
  "nbformat_minor": 0,
  "metadata": {
    "colab": {
      "name": "WeCode/#Cấu trúc dữ liệu/",
      "provenance": [],
      "authorship_tag": "ABX9TyMsQOLwnMYP4fxvbBizULX5",
      "include_colab_link": true
    },
    "kernelspec": {
      "name": "python3",
      "display_name": "Python 3"
    }
  },
  "cells": [
    {
      "cell_type": "markdown",
      "metadata": {
        "id": "view-in-github",
        "colab_type": "text"
      },
      "source": [
        "<a href=\"https://colab.research.google.com/github/khoaphamj1505/CS114.L11.KHCL/blob/master/WeCode/%23C%E1%BA%A5u%20tr%C3%BAc%20d%E1%BB%AF%20li%E1%BB%87u/Game_online2.ipynb\" target=\"_parent\"><img src=\"https://colab.research.google.com/assets/colab-badge.svg\" alt=\"Open In Colab\"/></a>"
      ]
    },
    {
      "cell_type": "markdown",
      "metadata": {
        "id": "3Zu3Dfx5XhmP"
      },
      "source": [
        "**Bài 2: Game online 2**\n",
        "\n",
        "Đề:  Nếu bạn có thể chèn thêm giá trị vào cây nhị phân thì chắc hẳn bạn cũng có thể xóa giá trị ra khỏi cây chứ nhỉ?\n",
        "\n",
        "Giả định công ty NaViGame đang duy trì một hệ thống server rất lớn đáp ứng cho hàng chục triệu acccount của các game thủ. Hệ thông server này duy trì một danh sách các game thủ đang online cho phép nhà quản trị có thể kiểm tra xem một game thủ bất kỳ nào đó có đang online hay không. Hãy giúp công ty NaViGame xây dựng module kiểm tra game thủ online này.\n",
        "\n",
        "INPUT\n",
        "Mỗi dòng của input chứa hai con số a và b. Số a có giá trị là 1 hoặc 2 hoặc 3 đại diện cho các tình huống là có game thủ đăng nhập vào hệ thống, có game thủ đăng xuất khỏi hệ thống và người quản trị vừa nhập một yêu cầu kiểm tra. Số b là mã số của game thủ trong tình huống đó (giá trị b không quá 1 tỷ).\n",
        "\n",
        "Ví dụ như\n",
        "\n",
        "Dòng: 1 565481 cho biết game thủ với mã số 465481 vừa mới đăng nhập vào hệ thống\n",
        "\n",
        "Dòng: 2 87126 cho biết người quản trị muốn kiểm tra xem game thủ với mã số 87126 có đang online trong hệ thống hay không.\n",
        "\n",
        "Dòng: 3 48769 cho biết là game thủ có mã số 48769 vừa đăng xuất khỏi hệ thống.\n",
        "\n",
        "Input sẽ kết thúc bằng dòng chỉ chứa một số 0.\n",
        "\n",
        "OUTPUT\n",
        "Ứng với mỗi yêu cầu kiểm tra của nhà quản trị xuất ra trên một dòng giá trị 0 nếu game thủ đó không online. Nếu game thủ đang online, xuất ra 1\n",
        "\n",
        "Code:"
      ]
    },
    {
      "cell_type": "code",
      "metadata": {
        "id": "Fw6tG9iOXv1e",
        "outputId": "495c9f7a-f14d-4748-854b-a034df13c6ec",
        "colab": {
          "base_uri": "https://localhost:8080/"
        }
      },
      "source": [
        "onl={}\n",
        "while True:\n",
        "  lst=[int(a) for a in input().split()]\n",
        "  if lst[0]==0:\n",
        "    break\n",
        "  elif lst[0]==1:\n",
        "    onl[lst[1]]=1\n",
        "  elif lst[0]==2:\n",
        "   if lst[1] in onl:\n",
        "      print(1)\n",
        "   else:\n",
        "      print(0)\n",
        "  else:\n",
        "    if lst[1] in onl:\n",
        "      del onl[lst[1]]"
      ],
      "execution_count": 1,
      "outputs": [
        {
          "output_type": "stream",
          "text": [
            "1 1\n",
            "1 3\n",
            "1 2\n",
            "1 4\n",
            "2 1\n",
            "1\n",
            "1 1\n",
            "3 1\n",
            "2 1\n",
            "0\n",
            "0\n"
          ],
          "name": "stdout"
        }
      ]
    },
    {
      "cell_type": "markdown",
      "metadata": {
        "id": "V-s_hs21uV4U"
      },
      "source": [
        "* Bình luận: Sử dụng dictionary để lưu các mã số game thủ online(1) \n",
        "Và kiểm tra trong danh sách onl nếu hệ thống kiểm tra(2). Nếu off thì sẽ xóa mã số game trong danh sách onl. \n",
        "\n",
        "Có thể xem rõ dictionary ở link: https://www.tutorialspoint.com/python/python_dictionary.htm\n"
      ]
    }
  ]
}