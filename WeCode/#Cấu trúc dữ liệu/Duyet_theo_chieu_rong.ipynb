{
  "nbformat": 4,
  "nbformat_minor": 0,
  "metadata": {
    "colab": {
      "name": "WeCode/#3/.ipynb",
      "provenance": [],
      "authorship_tag": "ABX9TyOW8n4Gv4zy1kyNC+IfTvhr",
      "include_colab_link": true
    },
    "kernelspec": {
      "name": "python3",
      "display_name": "Python 3"
    }
  },
  "cells": [
    {
      "cell_type": "markdown",
      "metadata": {
        "id": "view-in-github",
        "colab_type": "text"
      },
      "source": [
        "<a href=\"https://colab.research.google.com/github/khoaphamj1505/CS114.L11.KHCL/blob/master/WeCode/%233/Duyet_theo_chieu_rong.ipynb\" target=\"_parent\"><img src=\"https://colab.research.google.com/assets/colab-badge.svg\" alt=\"Open In Colab\"/></a>"
      ]
    },
    {
      "cell_type": "markdown",
      "metadata": {
        "id": "O8N-_0jkX9jZ"
      },
      "source": [
        "**Bài 1: Duyệt cây theo chiều rộng **\n",
        "\n",
        "Đề: Cho một dãy số. Lần lượt thêm các số trong dãy vào một cây nhị phân tìm kiếm, sau đó duyệt và xuất cây ra màn hình theo thứ tự duyệt theo chiều rộng (các node có mức thấp được xuất trước, đối với các node có cùng mức xuất node có giá trị nhỏ trước)\n",
        "\n",
        "INPUT: Một dãy số nguyên khác 0, mỗi số trên một hàng. Dãy số tận cùng bằng số 0\n",
        "\n",
        "OUTPUT:\n",
        "Xuất trên một hàng giá trị các node trên cây khi duyệt theo chiều rộng"
      ]
    },
    {
      "cell_type": "code",
      "metadata": {
        "id": "YOGAX4MuYjWI",
        "outputId": "181e05e9-b11c-4cb3-b097-823bae404e0e",
        "colab": {
          "base_uri": "https://localhost:8080/"
        }
      },
      "source": [
        "# TẠO NODE\n",
        "class Node:\n",
        "    def __init__(self,val):\n",
        "        self.left=None\n",
        "        self.right=None\n",
        "        self.data=val\n",
        "    def insert(self,val):\n",
        "        if self.data:\n",
        "          if val<self.data:\n",
        "            if self.left is None:\n",
        "              self.left=Node(val)\n",
        "            else:\n",
        "              self.left.insert(val)\n",
        "          elif val>self.data:\n",
        "            if self.right is None:\n",
        "              self.right=Node(val)\n",
        "            else:\n",
        "              self.right.insert(val)\n",
        "        else:\n",
        "          self.data=val\n",
        "# HÀM DUYỆT THEO CHIỀU RỘNG\n",
        "def DuyetChieuRong(node):\n",
        "      li=[node]\n",
        "      while len(li):\n",
        "        print(li[0].data, end=' ')\n",
        "        if li[0].left is not None:\n",
        "          li.append(li[0].left)\n",
        "        if li[0].right is not None:\n",
        "          li.append(li[0].right)\n",
        "        li.pop(0)\n",
        "\n",
        "        \n",
        "\n",
        "Tree=Node(None)\n",
        "while True:\n",
        "    n=int(input())\n",
        "    if n==0:\n",
        "      break\n",
        "    else:\n",
        "        Tree.insert(n)\n",
        "DuyetChieuRong(Tree)"
      ],
      "execution_count": 1,
      "outputs": [
        {
          "output_type": "stream",
          "text": [
            "15\n",
            "24\n",
            "66\n",
            "11\n",
            "3\n",
            "47\n",
            "9\n",
            "55\n",
            "49\n",
            "18\n",
            "96\n",
            "69\n",
            "79\n",
            "0\n",
            "15 11 24 3 18 66 9 47 96 55 69 49 79 "
          ],
          "name": "stdout"
        }
      ]
    }
  ]
}
