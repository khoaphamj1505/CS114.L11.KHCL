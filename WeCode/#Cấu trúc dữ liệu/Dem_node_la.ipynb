{
  "nbformat": 4,
  "nbformat_minor": 0,
  "metadata": {
    "colab": {
      "name": "WeCode/#3/.ipynb",
      "provenance": [],
      "authorship_tag": "ABX9TyOwQIo0lk1xJG1eL0I5MOgh",
      "include_colab_link": true
    },
    "kernelspec": {
      "name": "python3",
      "display_name": "Python 3"
    }
  },
  "cells": [
    {
      "cell_type": "markdown",
      "metadata": {
        "id": "view-in-github",
        "colab_type": "text"
      },
      "source": [
        "<a href=\"https://colab.research.google.com/github/khoaphamj1505/CS114.L11.KHCL/blob/master/WeCode/%233/Dem_node_la.ipynb\" target=\"_parent\"><img src=\"https://colab.research.google.com/assets/colab-badge.svg\" alt=\"Open In Colab\"/></a>"
      ]
    },
    {
      "cell_type": "markdown",
      "metadata": {
        "id": "O8N-_0jkX9jZ"
      },
      "source": [
        "**Bài 1: Đếm Node lá**\n",
        "\n",
        "Đề: Cho một dãy số, hãy cho biết số node lá của cây nhị phân tìm kiếm thu được khi thêm lần lượt các số trong dãy vào cây.\n",
        "\n",
        "INPUT:\n",
        "Một dãy số nguyên khác 0, mỗi số trên một hàng. Dãy số tận cùng bằng số 0\n",
        "\n",
        "OUTPUT:\n",
        "Số node lá trong cây\n",
        "\n",
        "Code:"
      ]
    },
    {
      "cell_type": "code",
      "metadata": {
        "id": "YOGAX4MuYjWI",
        "outputId": "05843215-3fe1-4944-b7ff-8824fb227881",
        "colab": {
          "base_uri": "https://localhost:8080/"
        }
      },
      "source": [
        "#TẠO NODE\n",
        "class Node:\n",
        "    def __init__(self,val):\n",
        "        self.left=None\n",
        "        self.right=None\n",
        "        self.data=val\n",
        "    def insert(self,val):\n",
        "        if self.data:\n",
        "          if val<self.data:\n",
        "            if self.left is None:\n",
        "              self.left=Node(val)\n",
        "            else:\n",
        "              self.left.insert(val)\n",
        "          elif val>self.data:\n",
        "            if self.right is None:\n",
        "              self.right=Node(val)\n",
        "            else:\n",
        "              self.right.insert(val)\n",
        "        else:\n",
        "          self.data=val\n",
        "# ĐẾM NODE LÁ\n",
        "def count(node):\n",
        "      if node is None:\n",
        "        return 0\n",
        "      if node.left is None and node.right is None:\n",
        "        return 1\n",
        "      return count(node.left)+count(node.right)\n",
        "#KHỞI TẠO CÂY VÀ NHẬP SỐ LIỆU\n",
        "Tree=Node(None)\n",
        "while True:\n",
        "    n=int(input())\n",
        "    if n==0:\n",
        "      break\n",
        "    else:\n",
        "        Tree.insert(n)\n",
        "\n",
        "print(count(Tree))    "
      ],
      "execution_count": 1,
      "outputs": [
        {
          "output_type": "stream",
          "text": [
            "98\n",
            "45\n",
            "33\n",
            "15\n",
            "66\n",
            "0\n",
            "2\n"
          ],
          "name": "stdout"
        }
      ]
    },
    {
      "cell_type": "markdown",
      "metadata": {
        "id": "c33wzKW1ZQ0h"
      },
      "source": [
        "* Bình luận: Cấu trúc dữ liệu Cây trên python giống c++"
      ]
    }
  ]
}
