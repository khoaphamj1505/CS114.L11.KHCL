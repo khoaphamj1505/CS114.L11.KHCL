{
  "nbformat": 4,
  "nbformat_minor": 0,
  "metadata": {
    "colab": {
      "name": "WeCode/#1/",
      "provenance": [],
      "authorship_tag": "ABX9TyPkwa3O3USZ2sep6pOv5aXt",
      "include_colab_link": true
    },
    "kernelspec": {
      "name": "python3",
      "display_name": "Python 3"
    }
  },
  "cells": [
    {
      "cell_type": "markdown",
      "metadata": {
        "id": "view-in-github",
        "colab_type": "text"
      },
      "source": [
        "<a href=\"https://colab.research.google.com/github/khoaphamj1505/CS114.L11.KHCL/blob/master/WeCode/%231/So_Fibonacci.ipynb\" target=\"_parent\"><img src=\"https://colab.research.google.com/assets/colab-badge.svg\" alt=\"Open In Colab\"/></a>"
      ]
    },
    {
      "cell_type": "markdown",
      "metadata": {
        "id": "eOg6Hsnq0bP9"
      },
      "source": [
        "Bài 8: Số Fibonacci\n",
        "\n",
        "Đề:\n",
        "\n",
        "Nhập vào số nguyên x sao cho 1 ≤ x ≤ 30. Nếu x không thỏa điều kiện, chương trình xuất ra màn hình thông báo “So <x> khong nam trong khoang [1,30].”. Nếu x nằm trong đoạn [1,30], chương trình xuất ra màn hình số Fibonacci thứ x.\n",
        "\n",
        "Code"
      ]
    },
    {
      "cell_type": "code",
      "metadata": {
        "id": "dmnNyfU20Xa6",
        "outputId": "3b601fc6-ea56-4c02-976c-1450f4d4a877",
        "colab": {
          "base_uri": "https://localhost:8080/"
        }
      },
      "source": [
        "def F(n):\n",
        "  if 1==n or 2==n:\n",
        "    return 1\n",
        "  else:\n",
        "    return F(n-1)+F(n-2)\n",
        "\n",
        "x= int(input())\n",
        "\n",
        "if x<1 or x>30:\n",
        "  print(\"So \" + str(x) + \" khong nam trong khoang [1,30].\")\n",
        "else:\n",
        "  print(F(x))"
      ],
      "execution_count": 1,
      "outputs": [
        {
          "output_type": "stream",
          "text": [
            "6\n",
            "8\n"
          ],
          "name": "stdout"
        }
      ]
    },
    {
      "cell_type": "markdown",
      "metadata": {
        "id": "w5K122ly1Sia"
      },
      "source": [
        "* Bình Luận: \n",
        "Dùng đệ quy để tính tổng dãy fibonaci thỏa điều kiện"
      ]
    }
  ]
}