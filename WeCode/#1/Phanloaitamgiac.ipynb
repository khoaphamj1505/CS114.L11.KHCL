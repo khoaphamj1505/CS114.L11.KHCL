{
  "nbformat": 4,
  "nbformat_minor": 0,
  "metadata": {
    "colab": {
      "name": "Untitled1.ipynb",
      "provenance": [],
      "authorship_tag": "ABX9TyNkShW5aBkSYlJxFsoGhz2u",
      "include_colab_link": true
    },
    "kernelspec": {
      "name": "python3",
      "display_name": "Python 3"
    }
  },
  "cells": [
    {
      "cell_type": "markdown",
      "metadata": {
        "id": "view-in-github",
        "colab_type": "text"
      },
      "source": [
        "<a href=\"https://colab.research.google.com/github/khoaphamj1505/CS114.L11.KHCL/blob/master/WeCode/%231/Phanloaitamgiac.ipynb\" target=\"_parent\"><img src=\"https://colab.research.google.com/assets/colab-badge.svg\" alt=\"Open In Colab\"/></a>"
      ]
    },
    {
      "cell_type": "markdown",
      "metadata": {
        "id": "w9O38pJaV98C"
      },
      "source": [
        "**Bài 4: Phân loại tam giác**\n",
        "\n",
        "Đề: \n",
        "\n",
        "**Nhận dạng tam giác**\n",
        "\n",
        "Viết chương trình nhập vào 3 số thực. Hãy cho biết đó có phải là độ dài 3 cạnh 1 tam giác hay không? Nếu phải thì đó là loại nào trong 4 loại sau: tam giác thường, cân, đều, vuông.\n",
        "\n",
        "Nếu là tam giác tính diện tích tam giác.\n",
        "\n",
        "**INPUT**:\n",
        "\n",
        "Dòng đầu tiên là độ dài cạnh 1.\n",
        "\n",
        "Dòng thứ hai là độ dài cạnh 2.\n",
        "\n",
        "Dòng thứ ba là độ dài cạnh 3.\n",
        "\n",
        "**OUTPUT**:\n",
        "Định dạng như ví dụ minh họa. Diện tích làm tròn 02 chữ số sau dấu thập phân.\n",
        "* Code\n",
        "\n",
        "\n",
        "\n"
      ]
    },
    {
      "cell_type": "code",
      "metadata": {
        "id": "mFx00SrxXFwq",
        "outputId": "de2704e4-fd19-404c-b9b7-08a768b80662",
        "colab": {
          "base_uri": "https://localhost:8080/"
        }
      },
      "source": [
        "import math\n",
        "a=int(input())\n",
        "b=int(input())\n",
        "c=int(input())\n",
        "if abs(a-b)<c<abs(a+b):\n",
        "  p=(a+b+c)/2\n",
        "  s=math.sqrt(p*(p-a)*(p-b)*(p-c))\n",
        "  if s==int(s):\n",
        "    s=int(s)\n",
        "  else:\n",
        "    s=round(s,2)\n",
        "  if c**2==a**2+b**2:\n",
        "    print('Tam giac vuong, dien tich = ',s)\n",
        "  elif a==b==c:\n",
        "    print('Tam giac deu, dien tich = ',s)\n",
        "  elif (a==b)or(b==c)or(c==a):\n",
        "    print('Tam giac can, dien tich = ',s)\n",
        "  else:\n",
        "    print('Tam giac thuong, dien tich = ',s)\n",
        "else:\n",
        "  print('Khong phai tam giac')"
      ],
      "execution_count": 3,
      "outputs": [
        {
          "output_type": "stream",
          "text": [
            "2\n",
            "3\n",
            "4\n",
            "Tam giac thuong, dien tich =  2.9\n"
          ],
          "name": "stdout"
        }
      ]
    },
    {
      "cell_type": "markdown",
      "metadata": {
        "id": "-GS6KuzQXkOI"
      },
      "source": [
        "* Bình Luận:\n",
        "Sử dụng bất đẳng thức tam giác để nhận dạng tam giác và công thức he-rong để tính diện tích tam giác nếu có\n",
        "* Chú thích: \n",
        "\n",
        "Sử dụng thư viện math để sử dụng hàm sqrt\n",
        "\n",
        "Hàm round(s,2) : làm tròn đến số thập phân thứ 2\n",
        "\n"
      ]
    }
  ]
}