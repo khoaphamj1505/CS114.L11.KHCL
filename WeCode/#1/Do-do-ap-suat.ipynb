{
  "nbformat": 4,
  "nbformat_minor": 0,
  "metadata": {
    "colab": {
      "name": "Untitled1.ipynb",
      "provenance": [],
      "authorship_tag": "ABX9TyPt8hiyX63wHroxkDjJox71",
      "include_colab_link": true
    },
    "kernelspec": {
      "name": "python3",
      "display_name": "Python 3"
    }
  },
  "cells": [
    {
      "cell_type": "markdown",
      "metadata": {
        "id": "view-in-github",
        "colab_type": "text"
      },
      "source": [
        "<a href=\"https://colab.research.google.com/github/khoaphamj1505/CS114.L11.KHCL/blob/master/WeCode/%231/Do-do-ap-suat.ipynb\" target=\"_parent\"><img src=\"https://colab.research.google.com/assets/colab-badge.svg\" alt=\"Open In Colab\"/></a>"
      ]
    },
    {
      "cell_type": "markdown",
      "metadata": {
        "id": "w9O38pJaV98C"
      },
      "source": [
        "**Bài 2: Độ đo áp suất SI/PS**\n",
        "\n",
        "Đề: Tìm ra áp suất chất lỏng/khí và cách đo đạt chúng là một vấn đề nghiên cứu vật lý thực nghiệm từng làm đau đầu nhiều nhà khoa học thời trung cổ. Đã có nhiều nhà khoa học khác nhau đề xuất các thang đo khác nhau. Tuy nhiên ngày nay một đơn vị đo áp suất phổ thông mà dễ hiểu là tính lực tác động (theo khối lượng) chia cho diện tích. Khổ nổi trong hệ đo lường quốc tế (SI) và hệ đo Imperial phổ biến ở Mỹ người ta đo khối lượng và áp suất bằng cách đơn vị khác nhau. Bạn Bình vừa mua một con mô-tô phân khối lớn hàng nhập nguyên chiếc từ Mỹ về, tài liệu hướng dẫn của xe ghi áp suất phù hợp khi bơm xe bằng đơn vị PSI (Pound / square inches - 1 pound lực trên một inch vuông). Còn ống bơm của Bình tích hợp đồng hồ đo áp suất bằng đơn vị kg/cm2 (1 kilogram lực trên một centimét vuông).\n",
        "\n",
        "Biết: 1 pound = 0.453592 kg\n",
        "\n",
        "và 1 inch = 2,54 cm\n",
        "\n",
        "Viết công thức giúp Bình đổi PSI sang kg/cm2\n",
        "\n",
        "**INPUT**:\n",
        "Một con số duy nhất theo đơn vị PSI\n",
        "\n",
        "**OUTPUT**:\n",
        "Một con số ương ứng theo đơn vị kg/cm2\n",
        "* Code\n",
        "\n",
        "\n",
        "\n"
      ]
    },
    {
      "cell_type": "code",
      "metadata": {
        "id": "mFx00SrxXFwq",
        "outputId": "e780e82b-1c44-46a7-f2db-7dd351252849",
        "colab": {
          "base_uri": "https://localhost:8080/"
        }
      },
      "source": [
        "from decimal import*\n",
        "getcontext().prec=6\n",
        "a=float(input())\n",
        "print(Decimal((a*0.453592)/(2.54*2.54)).normalize())"
      ],
      "execution_count": 1,
      "outputs": [
        {
          "output_type": "stream",
          "text": [
            "15\n",
            "1.0546\n"
          ],
          "name": "stdout"
        }
      ]
    },
    {
      "cell_type": "markdown",
      "metadata": {
        "id": "-GS6KuzQXkOI"
      },
      "source": [
        "* Bình Luận:\n",
        "Sử dụng công thức toán để tính\n",
        "* Chú thích: \n",
        "Để Output gồm 6 chữ số nên dùng Thư viên Decimal. Có thể xem chi tiết tại link sau: https://docs.python.org/2/library/decimal.html"
      ]
    }
  ]
}