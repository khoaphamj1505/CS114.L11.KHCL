{
  "nbformat": 4,
  "nbformat_minor": 0,
  "metadata": {
    "colab": {
      "name": "Untitled",
      "provenance": [],
      "authorship_tag": "ABX9TyOjXOfMO88nAQKPEiOqoFTR",
      "include_colab_link": true
    },
    "kernelspec": {
      "name": "python3",
      "display_name": "Python 3"
    }
  },
  "cells": [
    {
      "cell_type": "markdown",
      "metadata": {
        "id": "view-in-github",
        "colab_type": "text"
      },
      "source": [
        "<a href=\"https://colab.research.google.com/github/khoaphamj1505/CS114.L11.KHCL/blob/master/WeCode/%231/Duong_Sat_Tren_Cao.ipynb\" target=\"_parent\"><img src=\"https://colab.research.google.com/assets/colab-badge.svg\" alt=\"Open In Colab\"/></a>"
      ]
    },
    {
      "cell_type": "markdown",
      "metadata": {
        "id": "eOg6Hsnq0bP9"
      },
      "source": [
        "Bài 5: ĐƯỜNG SẮT TRÊN CAO\n",
        "\n",
        "Đề:\n",
        "\n",
        "Thành phố đang xây dựng tuyến đường sắt trên cao phục vụ giao thông nội đô. Tuyến đường sẽ có k+1 ga đánh số từ 0 đến k. Tàu chạy suốt ngày đêm, từ ga 0 đến ga k và quay lại. Thời gian đi từ một ga tới ga kế tiếp là 1 phút, thời gian dừng ở mỗi ga là không đáng kể. Hệ thống giao thông này không những nhanh, chuẩn xác về thời gian mà còn là một phương tiện tuyệt vời để ngắm thành phố.\n",
        "\n",
        "BHL của UIT quyết định sẽ tặng cho tất cả tham gia lớp Python online mỗi bạn một vé đi tàu miễn phí trong năm học.\n",
        "\n",
        "Minh rất háo hức với thông báo này và quyết tâm phải giành được một vé. Phần lớn thời gian rảnh rỗi trong ngày Minh đều dùng để rèn luyện lập trình Python, còn ban đêm là thời gian của những giấc mơ đẹp. Minh thấy mình bước lên tàu ở ga số 0, ngồi cạnh cửa sổ say sưa ngắm nhìn quang cảnh thành phố từ trên cao. Thời gian trôi đi khá nhanh. Đồng hồ cho biết Minh đã ngồi trên tàu t phút và Minh quyết định xuống tàu . . .\n",
        "\n",
        "Chuông đồng hồ vang lên, Minh tỉnh giấc, vội vàng đi đánh răng, rửa mặt, chuẩn bị đi học. Trên đường tới trường Minh vẫn nghĩ về giấc mơ đêm qua và không thể nhớ được mình đã xuống ở ga số mấy.\n",
        "\n",
        "Hãy xác định ga mà Minh đã xuống trong giấc mơ sắp thành hiện thực của mình.\n",
        "\n",
        "INPUT: Vào từ thiết bị nhập chuẩn gồm một dòng chứa 2 số nguyên k và t (0 < k, t ≤ 109)\n",
        "\n",
        "OUTPUT: Đưa ra thiết bị xuất chuẩn một số nguyên – ga xác định được.\n",
        "\n",
        "Code"
      ]
    },
    {
      "cell_type": "code",
      "metadata": {
        "id": "dmnNyfU20Xa6",
        "outputId": "6f911e74-433f-4a7b-cb95-b6a175c77e71",
        "colab": {
          "base_uri": "https://localhost:8080/"
        }
      },
      "source": [
        "l = input().split()\n",
        "l = [int(i) for i in l]\n",
        "\n",
        "k=l[0]\n",
        "t=l[1]\n",
        "\n",
        "if 0==(t // k) % 2:\n",
        "    print(t % k)\n",
        "else:\n",
        "    print(k - t % k)"
      ],
      "execution_count": 1,
      "outputs": [
        {
          "output_type": "stream",
          "text": [
            "5 8\n",
            "2\n"
          ],
          "name": "stdout"
        }
      ]
    },
    {
      "cell_type": "markdown",
      "metadata": {
        "id": "w5K122ly1Sia"
      },
      "source": [
        "* Bình Luận: \n",
        "Xử dụng tính chia lấy dư để tìm vị trí ga tàu sau khoảng thời gian cho trước"
      ]
    }
  ]
}