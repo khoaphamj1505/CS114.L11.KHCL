{
  "nbformat": 4,
  "nbformat_minor": 0,
  "metadata": {
    "colab": {
      "name": "Untitled1.ipynb",
      "provenance": [],
      "authorship_tag": "ABX9TyOVcjRqRql5aSt/OXHW8cT7",
      "include_colab_link": true
    },
    "kernelspec": {
      "name": "python3",
      "display_name": "Python 3"
    }
  },
  "cells": [
    {
      "cell_type": "markdown",
      "metadata": {
        "id": "view-in-github",
        "colab_type": "text"
      },
      "source": [
        "<a href=\"https://colab.research.google.com/github/khoaphamj1505/CS114.L11.KHCL/blob/master/WeCode/%231/Baikiemtra.ipynb\" target=\"_parent\"><img src=\"https://colab.research.google.com/assets/colab-badge.svg\" alt=\"Open In Colab\"/></a>"
      ]
    },
    {
      "cell_type": "markdown",
      "metadata": {
        "id": "w9O38pJaV98C"
      },
      "source": [
        "**Bài 5: Bài kiểm tra**\n",
        "\n",
        "Đề: \n",
        "\n",
        "**BÀI KIỂM TRA**\n",
        "\n",
        "Alice và Bob là đôi bạn thân trong lớp và thường giúp nhau trong giờ học. Hôm nay sẽ có tiết kiểm tra toán và như mọi khi – sẽ có k đề khác nhau. Lớp học có n học sinh. Các bàn trong lớp xếp thành một hàng dọc, mỗi bàn 2 người ngồi. Vị trí bên trái của bàn đánh số là 1, vị trí bên phải – đánh số 2. Đề bài được phát bắt đầu từ vị trí 1 của bàn 1 rồi đến vị trí 2 của bàn 1, tiếp theo là vị trí 1 của bàn 2, rồi tới vị trí 2 của bàn 2, . . . lần lượt các đề 1, đề 2, đề 3, . . . cho tới đề k rồi lại quay lại đề 1, đề 2, . . . cho tới khi tất cả các học sinh đều nhận được đề.\n",
        "\n",
        "Alice đến trước và ngồi vào vị trí quen thuộc của mình: hàng p và vị trí q. Bob đến sau và muốn ngồi vào nơi sẽ nhận được cùng đề với Alice và ở dãy bàn gần với dãy bàn của Alice nhất. Nếu có 2 cách ngồi thì Bob sẽ chọn bàn ở phía trước của Alice.\n",
        "\n",
        "Hãy xác định bàn u và vị trí v trong bàn nơi Bob cần phải ngồi. Nếu không có cách ngồi thỏa mãn thì đưa ra một số -1.\n",
        "\n",
        "**INPUT**:\n",
        "Vào từ thiết bị nhập chuẩn:\n",
        "\n",
        "* Dòng đầu tiên chứa một số nguyên n (2 ≤ n ≤ 109),\n",
        "* Dòng thứ 2 chứa số nguyên k (2 ≤ k ≤ n),\n",
        "* Dòng thứ 3 chứa số nguyên p (1 ≤ p ≤ (n+1)/2),\n",
        "* Dòng thứ 4 chứa số nguyên q (1 ≤ q ≤ 2).\n",
        "\n",
        "**OUTPUT**:\n",
        "Đưa ra thiết bị xuất chuẩn một dòng 2 số nguyên u và v tìm được hoặc số -1 nếu không có cách ngồi thỏa mãn điều kiện đã nêu.\n",
        "* Code\n",
        "\n",
        "\n",
        "\n"
      ]
    },
    {
      "cell_type": "code",
      "metadata": {
        "id": "mFx00SrxXFwq",
        "outputId": "1ac48a45-7d19-4d33-d0ce-3598b6331d37",
        "colab": {
          "base_uri": "https://localhost:8080/"
        }
      },
      "source": [
        "n=int(input())\n",
        "k=int(input())\n",
        "p=int(input())\n",
        "q=int(input())\n",
        "\n",
        "t=k//2\n",
        "r=k%2\n",
        "if p-t-1 >0 and 1==r and 1==q :\n",
        "  print(p-t-1,2)\n",
        "elif p-t>0 and (1!=r or 1!=q):\n",
        "  print(p-t,q-r)\n",
        "elif (p+t-1)*2+(q+r) <=n:\n",
        "  if 1==r and 2==q:\n",
        "    print(p+t+1,1)\n",
        "  elif 1!=r or 2!=q:\n",
        "    print(p+t,r+q)\n",
        "else :\n",
        "  print(-1)"
      ],
      "execution_count": 4,
      "outputs": [
        {
          "output_type": "stream",
          "text": [
            "25\n",
            "2\n",
            "1\n",
            "2\n",
            "2 2\n"
          ],
          "name": "stdout"
        }
      ]
    },
    {
      "cell_type": "markdown",
      "metadata": {
        "id": "-GS6KuzQXkOI"
      },
      "source": [
        "* Bình Luận:\n",
        "Dựa vào số đề(k) và k mod 2 để xác định vị trí \n",
        "\n",
        "\n",
        "\n"
      ]
    }
  ]
}