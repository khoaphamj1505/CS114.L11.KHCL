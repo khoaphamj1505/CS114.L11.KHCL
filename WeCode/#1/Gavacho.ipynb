{
  "nbformat": 4,
  "nbformat_minor": 0,
  "metadata": {
    "colab": {
      "name": "Untitled1.ipynb",
      "provenance": [],
      "authorship_tag": "ABX9TyOAwuwTRrG1i+PojY6puxdE",
      "include_colab_link": true
    },
    "kernelspec": {
      "name": "python3",
      "display_name": "Python 3"
    }
  },
  "cells": [
    {
      "cell_type": "markdown",
      "metadata": {
        "id": "view-in-github",
        "colab_type": "text"
      },
      "source": [
        "<a href=\"https://colab.research.google.com/github/khoaphamj1505/CS114.L11.KHCL/blob/master/WeCode/%231/Gavacho.ipynb\" target=\"_parent\"><img src=\"https://colab.research.google.com/assets/colab-badge.svg\" alt=\"Open In Colab\"/></a>"
      ]
    },
    {
      "cell_type": "markdown",
      "metadata": {
        "id": "w9O38pJaV98C"
      },
      "source": [
        "**Bài 3: Gà và Chó**\n",
        "\n",
        "Đề: Vừa gà vừa chó\n",
        "\n",
        "Bó lại cho tròn\n",
        "\n",
        "xxx con\n",
        "\n",
        "yy chân chẵn\n",
        "\n",
        "Hãy xác định số con gà và số con chó thỏa mãn yêu cầu.\n",
        "\n",
        "Biết: 1 pound = 0.453592 kg\n",
        "\n",
        "và 1 inch = 2,54 cm\n",
        "\n",
        "Viết công thức giúp Bình đổi PSI sang kg/cm2\n",
        "\n",
        "**INPUT**:\n",
        "Vào từ thiết bị nhập chuẩn gồm 1 dòng ghi 2 số nguyên **xxx** và **yy** (2≤ xxx, yy ≤ 109)\n",
        "\n",
        "**OUTPUT**:\n",
        "Đưa ra thiết bị xuất chuẩn một dòng 2 số nguyên số gà và số chó tìm được.\n",
        "* Code\n",
        "\n",
        "\n",
        "\n"
      ]
    },
    {
      "cell_type": "code",
      "metadata": {
        "id": "mFx00SrxXFwq",
        "outputId": "fc293138-e4ca-4346-9b86-651257c03a6a",
        "colab": {
          "base_uri": "https://localhost:8080/"
        }
      },
      "source": [
        "a=input()\n",
        "b=a.split(' ')\n",
        "xxx=int(b[0])\n",
        "yyy=int(b[1])\n",
        "print(int((yyy-4*xxx)/(-2)), int((yyy-2*xxx)/2) )"
      ],
      "execution_count": 1,
      "outputs": [
        {
          "output_type": "stream",
          "text": [
            "36 100\n",
            "22 14\n"
          ],
          "name": "stdout"
        }
      ]
    },
    {
      "cell_type": "markdown",
      "metadata": {
        "id": "-GS6KuzQXkOI"
      },
      "source": [
        "* Bình Luận:\n",
        "với a là số chó, b là số gà\n",
        "\n",
        "    Giải phương trình:\n",
        "        4a+2b=xxx \n",
        "\n",
        "        a+b=yyy\n",
        "\n"
      ]
    }
  ]
}