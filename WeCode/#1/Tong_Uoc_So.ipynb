{
  "nbformat": 4,
  "nbformat_minor": 0,
  "metadata": {
    "colab": {
      "name": "Untitled",
      "provenance": [],
      "authorship_tag": "ABX9TyONQ9KpwZDdctHlHGmvwS9f",
      "include_colab_link": true
    },
    "kernelspec": {
      "name": "python3",
      "display_name": "Python 3"
    }
  },
  "cells": [
    {
      "cell_type": "markdown",
      "metadata": {
        "id": "view-in-github",
        "colab_type": "text"
      },
      "source": [
        "<a href=\"https://colab.research.google.com/github/khoaphamj1505/CS114.L11.KHCL/blob/master/WeCode/%231/Tong_Uoc_So.ipynb\" target=\"_parent\"><img src=\"https://colab.research.google.com/assets/colab-badge.svg\" alt=\"Open In Colab\"/></a>"
      ]
    },
    {
      "cell_type": "markdown",
      "metadata": {
        "id": "eOg6Hsnq0bP9"
      },
      "source": [
        "Bài 6: Tổng ước số\n",
        "\n",
        "Đề:\n",
        "\n",
        "Viết chương trình tính tổng các ước số thực sự của một số nguyên dương.\n",
        "\n",
        "INPUT: Số nguyên dương n giá trị không quá 1 tỷ.\n",
        "\n",
        "OUTPUT: Tổng các ước số của n (không kể n)\n",
        "\n",
        "Code"
      ]
    },
    {
      "cell_type": "code",
      "metadata": {
        "id": "dmnNyfU20Xa6",
        "outputId": "af1719a3-6ae8-4809-db2f-b657f0a80f6f",
        "colab": {
          "base_uri": "https://localhost:8080/"
        }
      },
      "source": [
        "n, S = int(input()), int(1)\n",
        "\n",
        "for i in range(2, n, 1):\n",
        "  if 0==n%i:\n",
        "    S += i\n",
        "\n",
        "print(S)"
      ],
      "execution_count": 1,
      "outputs": [
        {
          "output_type": "stream",
          "text": [
            "27\n",
            "13\n"
          ],
          "name": "stdout"
        }
      ]
    },
    {
      "cell_type": "markdown",
      "metadata": {
        "id": "w5K122ly1Sia"
      },
      "source": [
        "* Bình Luận: \n",
        "Dùng vòng lập để duyệt qua từng phần tử bé hơn n, nếu thõa mãn thì cộng vào S"
      ]
    }
  ]
}