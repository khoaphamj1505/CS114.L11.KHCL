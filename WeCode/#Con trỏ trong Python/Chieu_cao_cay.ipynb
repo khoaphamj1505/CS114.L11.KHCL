{
  "nbformat": 4,
  "nbformat_minor": 0,
  "metadata": {
    "colab": {
      "name": "WeCode/#3/.ipynb",
      "provenance": [],
      "authorship_tag": "ABX9TyPs0jIMPnHQ1/Cyq1gpcrbC",
      "include_colab_link": true
    },
    "kernelspec": {
      "name": "python3",
      "display_name": "Python 3"
    }
  },
  "cells": [
    {
      "cell_type": "markdown",
      "metadata": {
        "id": "view-in-github",
        "colab_type": "text"
      },
      "source": [
        "<a href=\"https://colab.research.google.com/github/khoaphamj1505/CS114.L11.KHCL/blob/master/WeCode/%233/Chieu_cao_cay.ipynb\" target=\"_parent\"><img src=\"https://colab.research.google.com/assets/colab-badge.svg\" alt=\"Open In Colab\"/></a>"
      ]
    },
    {
      "cell_type": "markdown",
      "metadata": {
        "id": "O8N-_0jkX9jZ"
      },
      "source": [
        "**Bài 1: Chiều cao cây**\n",
        "\n",
        "Đề: Bạn Bình đã làm xong bài danh sách liên kết giờ chuyển qua bài cây nhị phân tìm kiếm. Hỏi nếu Bình đem danh sách đó nhập vào cây nhị phân tìm kiếm thì cây cao bao nhiêu?\n",
        "INPUT:\n",
        "\n",
        "Input gồm nhiều dòng, mỗi dòng sẽ có cấu trúc ở 1 trong 4 dạng sau:\n",
        "\n",
        "- Dạng 0: Dòng bắt đầu bằng con số 0, theo sau là một số nguyên dương < 1000, chương trình cần phải thêm con số này vào đầu danh sách\n",
        "\n",
        "- Dạng 1: Dòng này bắt đầu bằng con số 1, theo sau là một số nguyên dương < 1000, chương trình cần phải thêm con số này vào cuối danh sách\n",
        "\n",
        "- Dạng 2: Dòng này bắt đầu bằng con số 2, theo sau là 2 số nguyên a, b < 1000, chương trình cần tìm vị trí đầu tiên mà số a xuất hiện trong danh sách, sau đó thêm số b vào sau số này. Nếu số a không có trong danh sách, thêm b vào đầu danh sách\n",
        "\n",
        "- Dạng 3: Dòng này bao gồm duy nhất một con số 3. Đây là dòng cuối cùng trong input, báo hiệu input kết thúc\n",
        "\n",
        "\n",
        "OUTPUT:\n",
        "Chiều cao của cây nhị phân tìm kiếm thu được khi lần lượt thêm các số trong danh sách vào cây."
      ]
    },
    {
      "cell_type": "code",
      "metadata": {
        "id": "YOGAX4MuYjWI",
        "outputId": "0fa05dab-7107-4b1a-9622-966683b7b25f",
        "colab": {
          "base_uri": "https://localhost:8080/"
        }
      },
      "source": [
        "#NHẬP VÀO DANH SÁCH\n",
        "from collections import deque\n",
        "d=deque()\n",
        "while True:\n",
        "    lst=[int(a) for a in input().split()]\n",
        "    if lst[0]==3:\n",
        "        break\n",
        "    if lst[0]==0:\n",
        "        d.appendleft(lst[1])\n",
        "    elif lst[0]==1:\n",
        "        d.append(lst[1])\n",
        "    elif lst[0]==2:\n",
        "        if lst[1] in d:\n",
        "            index=d.index(lst[1])\n",
        "            d.insert(index+1,lst[2])\n",
        "        else:\n",
        "            d.appendleft(lst[2])\n",
        "#TẠO NODE\n",
        "class Node:\n",
        "    def __init__(self,val):\n",
        "        self.left=None\n",
        "        self.right=None\n",
        "        self.data=val\n",
        "    #NHẬP VÀO CÂY\n",
        "    def insert(self,val):\n",
        "        if self.data !=-1:\n",
        "          if val<self.data:\n",
        "            if self.left is None:\n",
        "              self.left=Node(val)\n",
        "            else:\n",
        "              self.left.insert(val)\n",
        "          elif val>self.data:\n",
        "            if self.right is None:\n",
        "              self.right=Node(val)\n",
        "            else:\n",
        "              self.right.insert(val)\n",
        "        else:\n",
        "          self.data=val\n",
        "    #TÍNH CHIỀU CAO CÂY\n",
        "    def height(self):\n",
        "        if self:\n",
        "          if self.left is None and self.right:\n",
        "              return self.right.height()+1\n",
        "          elif self.left and self.right is None:\n",
        "              return self.left.height()+1\n",
        "          elif self.left is None and self.right is None:\n",
        "            return 1\n",
        "          else:\n",
        "              return max(self.left.height(),self.right.height())+1        \n",
        "Tree=Node(-1)\n",
        "#TỪ DANH SÁCH, NHẬP CÁC PHẦN TỬ VÀO CÂY\n",
        "for a in d:\n",
        "    Tree.insert(a)\n",
        "print(Tree.height())"
      ],
      "execution_count": 1,
      "outputs": [
        {
          "output_type": "stream",
          "text": [
            "0 6\n",
            "1 6\n",
            "0 5\n",
            "1 0\n",
            "0 3\n",
            "0 0\n",
            "0 5\n",
            "0 1\n",
            "1 1\n",
            "1 7\n",
            "2 0 3\n",
            "2 4 2\n",
            "0 0\n",
            "2 0 9\n",
            "3\n",
            "6\n"
          ],
          "name": "stdout"
        }
      ]
    },
    {
      "cell_type": "markdown",
      "metadata": {
        "id": "c33wzKW1ZQ0h"
      },
      "source": [
        "* Bình luận: Dùng DEQUE để tạo danh sách trong python sẽ có độ phức tạp đơn giản.\n",
        "\n",
        "Có thể xem chi tiết DEQUE ở link: https://docs.python.org/2/library/collections.html#collections.deque"
      ]
    }
  ]
}
