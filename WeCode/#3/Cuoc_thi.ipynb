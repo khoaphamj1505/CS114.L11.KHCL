{
  "nbformat": 4,
  "nbformat_minor": 0,
  "metadata": {
    "colab": {
      "name": "WeCode/#3/",
      "provenance": [],
      "authorship_tag": "ABX9TyNtRsOS6xXPNdkRVRv/2I+L",
      "include_colab_link": true
    },
    "kernelspec": {
      "name": "python3",
      "display_name": "Python 3"
    }
  },
  "cells": [
    {
      "cell_type": "markdown",
      "metadata": {
        "id": "view-in-github",
        "colab_type": "text"
      },
      "source": [
        "<a href=\"https://colab.research.google.com/github/khoaphamj1505/CS114.L11.KHCL/blob/master/WeCode/%233/Cuoc_thi.ipynb\" target=\"_parent\"><img src=\"https://colab.research.google.com/assets/colab-badge.svg\" alt=\"Open In Colab\"/></a>"
      ]
    },
    {
      "cell_type": "markdown",
      "metadata": {
        "id": "3Zu3Dfx5XhmP"
      },
      "source": [
        "**Bài 7: CUỘC THI**\n",
        "\n",
        "Đề: Có \n",
        "n\n",
        "  thí sinh tham gia vòng loại ở một cuộc thi lập trình. Để được vào vòng chung kết, các thí sinh phải có số điểm là một số nguyên dương và phải lớn hơn hoặc bằng số điểm của người đang đứng ở vị trí thứ \n",
        "k\n",
        " trong bảng xếp hạng.\n",
        "\n",
        "Nhiệm vụ của bạn là tìm xem có bao nhiêu thí sinh tham dự vòng chung kết.\n",
        "\n",
        "INPUT:\n",
        "\n",
        "Dòng đầu tiên gồm hai số nguyên \n",
        "n\n",
        ",\n",
        "k\n",
        " \n",
        "(\n",
        "1\n",
        "≤\n",
        "k\n",
        "≤\n",
        "n\n",
        "≤\n",
        "50\n",
        ")\n",
        ".\n",
        "\n",
        "Dòng thứ hai là một chuỗi số nguyên cách nhau  \n",
        "a\n",
        "1\n",
        ",\n",
        "a\n",
        "2\n",
        ",\n",
        ".\n",
        ".\n",
        ".\n",
        ",\n",
        "a\n",
        "n\n",
        " \n",
        "(\n",
        "0\n",
        "≤\n",
        "a\n",
        "i\n",
        "≤\n",
        "100\n",
        ")\n",
        " — điểm số của các thí sinh trên bảng xếp hạng được xếp theo thứ tự không tăng.\n",
        "\n",
        "OUTPUT:\n",
        "\n",
        "Số lượng thí sinh lọt vào vòng chung kết.\n",
        "\n",
        "Code:"
      ]
    },
    {
      "cell_type": "code",
      "metadata": {
        "id": "Fw6tG9iOXv1e",
        "outputId": "7149139a-e756-46ce-d6e2-941b3b79616a",
        "colab": {
          "base_uri": "https://localhost:8080/"
        }
      },
      "source": [
        "n, k = map(int, input().split())\n",
        "a= [int(x) for x in input().split()]\n",
        "cnt = 0\n",
        "for i in a:\n",
        "    if i >= a[k-1] and i > 0:\n",
        "        cnt +=1\n",
        "print(cnt)"
      ],
      "execution_count": 1,
      "outputs": [
        {
          "output_type": "stream",
          "text": [
            "8 5\n",
            "10 9 8 7 7 7 5 5\n",
            "6\n"
          ],
          "name": "stdout"
        }
      ]
    },
    {
      "cell_type": "markdown",
      "metadata": {
        "id": "V-s_hs21uV4U"
      },
      "source": [
        "* Bình luận: Lấy từng phần tử so sánh với phần tử thứ 4 của mảng(danh sách số điểm). Nếu lớn hơn hoặc bằng thì Tăng số lượng thí sinh vào chung kết.\n",
        "\n"
      ]
    }
  ]
}