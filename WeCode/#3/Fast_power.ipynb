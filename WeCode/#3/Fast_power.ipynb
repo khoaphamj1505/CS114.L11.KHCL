{
  "nbformat": 4,
  "nbformat_minor": 0,
  "metadata": {
    "colab": {
      "name": "WeCode/#3/.ipynb",
      "provenance": [],
      "authorship_tag": "ABX9TyNM8oFWTgXVdCfr6EeUo4j8",
      "include_colab_link": true
    },
    "kernelspec": {
      "name": "python3",
      "display_name": "Python 3"
    }
  },
  "cells": [
    {
      "cell_type": "markdown",
      "metadata": {
        "id": "view-in-github",
        "colab_type": "text"
      },
      "source": [
        "<a href=\"https://colab.research.google.com/github/khoaphamj1505/CS114.L11.KHCL/blob/master/WeCode/%233/Fast_power.ipynb\" target=\"_parent\"><img src=\"https://colab.research.google.com/assets/colab-badge.svg\" alt=\"Open In Colab\"/></a>"
      ]
    },
    {
      "cell_type": "markdown",
      "metadata": {
        "id": "dDWVrWYNL6kl"
      },
      "source": [
        "**Bài 1: FAST.POWER**\n",
        "\n",
        "Đề:Viết chương trình tính lũy thừa của hai số nguyên dương\n",
        "\n",
        "INPUT:\n",
        "Hai số nguyên m và n\n",
        "\n",
        "OUTPUT:\n",
        "Số dư còn lại khi lấy lũy thừa mn chia cho giá trị 1.000.000.007\n",
        "\n",
        "Code:"
      ]
    },
    {
      "cell_type": "code",
      "metadata": {
        "id": "FrcRgnz9MUKv",
        "outputId": "6b803761-20b0-4d49-8817-cf167e048cf0",
        "colab": {
          "base_uri": "https://localhost:8080/"
        }
      },
      "source": [
        "m,n = [int(x) for x in input().split()]\n",
        "print(pow(m,n,int(1e9+7)))"
      ],
      "execution_count": 1,
      "outputs": [
        {
          "output_type": "stream",
          "text": [
            "5 4\n",
            "625\n"
          ],
          "name": "stdout"
        }
      ]
    },
    {
      "cell_type": "markdown",
      "metadata": {
        "id": "_6y0LAZQNo86"
      },
      "source": [
        "* Bình luận: Dùng hàm POW để tính lũy thừa"
      ]
    }
  ]
}