{
  "nbformat": 4,
  "nbformat_minor": 0,
  "metadata": {
    "colab": {
      "name": "WeCode/#3/",
      "provenance": [],
      "authorship_tag": "ABX9TyNw9R+ZXQO08E314IR1llZl",
      "include_colab_link": true
    },
    "kernelspec": {
      "name": "python3",
      "display_name": "Python 3"
    }
  },
  "cells": [
    {
      "cell_type": "markdown",
      "metadata": {
        "id": "view-in-github",
        "colab_type": "text"
      },
      "source": [
        "<a href=\"https://colab.research.google.com/github/khoaphamj1505/CS114.L11.KHCL/blob/master/WeCode/%233/Trom_laptop.ipynb\" target=\"_parent\"><img src=\"https://colab.research.google.com/assets/colab-badge.svg\" alt=\"Open In Colab\"/></a>"
      ]
    },
    {
      "cell_type": "markdown",
      "metadata": {
        "id": "3Zu3Dfx5XhmP"
      },
      "source": [
        "**Bài 4: TRỘM LAPTOP**\n",
        "\n",
        "Đề: \n",
        "Tối hôm qua, trên địa bàn Tp.HCM đã xảy ra một vụ trộm tại một cửa hàng bán laptop. Do chủ cửa hàng kịp thời phát giác nên tên trộm chỉ kịp lấy đi một số laptop có ở cửa hàng.\n",
        "\n",
        "Tất cả những laptop ở cửa hàng được đánh số thứ tự tăng dần, bắt đầu từ \n",
        "x\n",
        " . Ví dụ, nếu \n",
        "x\n",
        "=\n",
        "5\n",
        " và cửa hàng có 4 laptop thì những laptop đó sẽ được đánh số lần lượt là 5,6,7,8. Nếu \n",
        "x\n",
        "=\n",
        "10\n",
        " và cửa hàng có 9 laptop thì những laptop đó sẽ được đánh số lần lượt là 10,11,12,13,14,15,16,17,18.\n",
        "\n",
        "Sau vụ trộm, chỉ còn lại \n",
        "n\n",
        " laptop và chúng có số thứ tự là \n",
        "a\n",
        "1\n",
        ",\n",
        "a\n",
        "2\n",
        ",\n",
        ".\n",
        ".\n",
        ".\n",
        ",\n",
        "a\n",
        "n\n",
        ". Không may thay, tất cả nhân viên ở cửa hàng không nhớ số \n",
        "x\n",
        " cũng như số lượng laptop có trong cửa hàng lúc chưa xảy ra vụ trộm. Nhiệm vụ của bạn là tìm ra số lượng tối thiểu laptop có thể bị mất trộm vào ngày hôm qua.\n",
        "\n",
        "INPUT:\n",
        "\n",
        "Dòng đầu tiên là một số nguyên \n",
        "n\n",
        " \n",
        "(\n",
        "1\n",
        "≤\n",
        "n\n",
        "≤\n",
        "1000\n",
        ")\n",
        " — số lượng laptop còn lại sau vụ trộm.\n",
        "\n",
        "Dòng thứ hai gồm \n",
        "n\n",
        " số nguyên riêng biệt \n",
        "a\n",
        "1\n",
        ",\n",
        "a\n",
        "2\n",
        ",\n",
        ".\n",
        ".\n",
        ".\n",
        ",\n",
        "a\n",
        "n\n",
        " \n",
        "(\n",
        "1\n",
        "≤\n",
        "a\n",
        "i\n",
        "≤\n",
        "10\n",
        "9\n",
        ")\n",
        " — số thứ tự của những laptop còn lại sau vụ trộm (được sắp xếp theo thứ tự lộn xộn)\n",
        "\n",
        "OUTPUT:\n",
        "\n",
        "In ra màn hình số lượng tối thiểu laptop có thể bị mất trộm vào ngày hôm qua.\n",
        "\n",
        "Code:"
      ]
    },
    {
      "cell_type": "code",
      "metadata": {
        "id": "Fw6tG9iOXv1e",
        "outputId": "c6944342-abb5-46ed-d720-69d1d4ee5bc3",
        "colab": {
          "base_uri": "https://localhost:8080/"
        }
      },
      "source": [
        "n= int(input())\n",
        "array = input().split()\n",
        "for i in range(n):\n",
        "  array[i] = int(array[i])\n",
        "array.sort()\n",
        "print(array[n-1] - array[0] + 1 - n)"
      ],
      "execution_count": 1,
      "outputs": [
        {
          "output_type": "stream",
          "text": [
            "4\n",
            "10 12 13 15\n",
            "2\n"
          ],
          "name": "stdout"
        }
      ]
    },
    {
      "cell_type": "markdown",
      "metadata": {
        "id": "V-s_hs21uV4U"
      },
      "source": [
        "* Bình luận: Tìm số lượng máy tính tối thiểu có thể có. Số lượng mất bằng số lượng tối thiểu trừ cho số máy còn sau mất cắp.\n",
        "\n"
      ]
    }
  ]
}