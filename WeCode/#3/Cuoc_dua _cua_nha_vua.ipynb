{
  "nbformat": 4,
  "nbformat_minor": 0,
  "metadata": {
    "colab": {
      "name": "WeCode/#3/.ipynb",
      "provenance": [],
      "authorship_tag": "ABX9TyOVBtLdI2eyM8/KMgv/ew4L",
      "include_colab_link": true
    },
    "kernelspec": {
      "name": "python3",
      "display_name": "Python 3"
    }
  },
  "cells": [
    {
      "cell_type": "markdown",
      "metadata": {
        "id": "view-in-github",
        "colab_type": "text"
      },
      "source": [
        "<a href=\"https://colab.research.google.com/github/khoaphamj1505/CS114.L11.KHCL/blob/master/WeCode/%233/Cuoc_dua%20_cua_nha_vua.ipynb\" target=\"_parent\"><img src=\"https://colab.research.google.com/assets/colab-badge.svg\" alt=\"Open In Colab\"/></a>"
      ]
    },
    {
      "cell_type": "markdown",
      "metadata": {
        "id": "dDWVrWYNL6kl"
      },
      "source": [
        "**Bài 2: CUỘC ĐUA CỦA NHÀ VUA**\n",
        "\n",
        "Đề: Cho một bàn cờ có kích thước n x n. Mỗi hàng được đánh số từ 1 đến n (từ dưới lên trên). Mỗi cột được đánh số từ 1 đến n (từ trái qua phải). Vì vậy, mỗi ô trong bàn cờ sẽ có tọa độ là (r,c) với r là vị trí của hàng, c là vị trí của cột.\n",
        "\n",
        "Vua trắng bắt đầu từ vị trí (1,1) còn Vua đen bắt đầu từ vị trí (n,n). Một kho báu xuất hiện ngẫu nhiên ở vị trí (x,y) trong bàn cờ. Mỗi vị Vua sẽ tìm cách đến vị trí của kho báu đó, ai tới trước sẽ giành chiến thắng.\n",
        "\n",
        "Tương tự như cờ vua, Vua trắng sẽ đi trước rồi tới lượt Vua đen và cứ thế luân phiên nhau. Mỗi lần chỉ được di chuyển đến ô liền kề nó nhất. Nếu Vua đang ở vị trí (a,b) thì có thể di chuyển đến một trong các vị trí (a+1,b), (a−1,b), (a,b+1), (a,b−1), (a+1,b−1), (a+1,b+1), (a−1,b−1), hoặc (a−1,b+1). Tất nhiên không được di chuyển ra khỏi bàn cờ.\n",
        "\n",
        "Điểm khác biệt là các vị vua có thể đứng ở những vị trí kế nhau hoặc thậm chí là trùng vị trí với nhau.\n",
        "\n",
        "Người chiến thắng là người đến vị trí kho báu đầu tiên. Bạn hãy xác định người chiến thắng.\n",
        "\n",
        "INPUT:\n",
        "\n",
        "Dòng đầu tiên là một số nguyên \n",
        "n\n",
        " \n",
        "(\n",
        "2\n",
        "≤\n",
        "n\n",
        "≤\n",
        "10\n",
        "18\n",
        ")\n",
        " — kích thước của bàn cờ.\n",
        "\n",
        "Dòng thứ hai gồm hai số \n",
        "x\n",
        ",\n",
        "y\n",
        " \n",
        "(\n",
        "1\n",
        "≤\n",
        "x\n",
        ",\n",
        "y\n",
        "≤\n",
        "n\n",
        ")\n",
        " — Tọa độ xuất hiện của kho báu.\n",
        "\n",
        "OUTPUT:\n",
        "\n",
        "Nếu Vua trắng thắng, xuất White\n",
        "\n",
        "Ngược lại xuất Black\n",
        "\n",
        "Code:"
      ]
    },
    {
      "cell_type": "code",
      "metadata": {
        "id": "FrcRgnz9MUKv",
        "outputId": "d5f55971-4d69-4e72-b50f-996b253b96d7",
        "colab": {
          "base_uri": "https://localhost:8080/"
        }
      },
      "source": [
        "n= int(input())\n",
        "x,y = [int(x) for x in input().split()]\n",
        "White = abs (1-x) -1 + abs(1-y)\n",
        "Black = abs (n-x) -1 + abs (n-y)\n",
        "if White <= Black:\n",
        "  print('White')\n",
        "else:\n",
        "  print('Black')"
      ],
      "execution_count": null,
      "outputs": [
        {
          "output_type": "stream",
          "text": [
            "4\n",
            "2 3\n",
            "White\n"
          ],
          "name": "stdout"
        }
      ]
    },
    {
      "cell_type": "markdown",
      "metadata": {
        "id": "_6y0LAZQNo86"
      },
      "source": [
        "* Bình luận: Tính tổng số nước đi đối với mỗi Vua để tới kho báu bằng công thức:\n",
        "      White: |1-x|-1+|1-y|\n",
        "      Black: |n-x|-1+|n-y|\n",
        "\n",
        "So sánh: nếu số nước bên White ít hơn bên Black thì xuất White. Ngược lại xuất Black"
      ]
    }
  ]
}