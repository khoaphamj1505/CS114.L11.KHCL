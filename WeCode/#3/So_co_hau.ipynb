{
  "nbformat": 4,
  "nbformat_minor": 0,
  "metadata": {
    "colab": {
      "name": "WeCode/#3/",
      "provenance": [],
      "authorship_tag": "ABX9TyN/nAFdSCGlkP82+xqJH59/",
      "include_colab_link": true
    },
    "kernelspec": {
      "name": "python3",
      "display_name": "Python 3"
    }
  },
  "cells": [
    {
      "cell_type": "markdown",
      "metadata": {
        "id": "view-in-github",
        "colab_type": "text"
      },
      "source": [
        "<a href=\"https://colab.research.google.com/github/khoaphamj1505/CS114.L11.KHCL/blob/master/WeCode/%233/So_co_hau.ipynb\" target=\"_parent\"><img src=\"https://colab.research.google.com/assets/colab-badge.svg\" alt=\"Open In Colab\"/></a>"
      ]
    },
    {
      "cell_type": "markdown",
      "metadata": {
        "id": "3Zu3Dfx5XhmP"
      },
      "source": [
        "**Bài 10: SỐ CÓ HẬU**\n",
        "\n",
        "Đề: Jim thích các phim và truyện kết thúc có hậu. Một lần gặp may với số n và từ đó Jim rất có cảm tình với tất cả các số nguyên kết thúc bằng n, coi chúng là những số có hậu. Ví dụ với n = 25 thì các số 625, 553325,1025 là những số có hậu, còn 3255 – không có hậu!\n",
        "\n",
        "Jim không thích các ràng buộc và hạn chế. Nhưng trong thế giới thực của chúng ta ràng buộc và hạn chế là điều tất yếu. Một người bạn của Jim khuyên chỉ nên quan tâm đến các số nguyên không vượt quá m và dĩ nhiên, Jim muốn biết có bao nhiêu số có hậu không vượt quá m.\n",
        "\n",
        "Dữ liệu: Vào từ thiết bị nhập chuẩn gồm một dòng chứa 2 số nguyên n và m (1 ≤ n ≤ m ≤ 2×109).\n",
        "\n",
        "Kết quả: Đưa ra thiết bị xuất chuẩn một số nguyên – số lượng số có hậu tìm được.\n",
        "\n",
        "\n",
        "Code:"
      ]
    },
    {
      "cell_type": "code",
      "metadata": {
        "id": "Fw6tG9iOXv1e",
        "outputId": "d375470f-9c5f-4b04-cca3-d62a143111fd",
        "colab": {
          "base_uri": "https://localhost:8080/"
        }
      },
      "source": [
        "n,m = map(int,input().split())\n",
        "x = 1\n",
        "cnt = 0\n",
        "while x <= n:\n",
        "  x = x*10\n",
        "cnt = m // x\n",
        "if m%x >= n:\n",
        "  cnt+=1\n",
        "print(cnt) "
      ],
      "execution_count": 1,
      "outputs": [
        {
          "output_type": "stream",
          "text": [
            "25 366\n",
            "4\n"
          ],
          "name": "stdout"
        }
      ]
    },
    {
      "cell_type": "markdown",
      "metadata": {
        "id": "V-s_hs21uV4U"
      },
      "source": [
        "\n",
        "\n"
      ]
    }
  ]
}